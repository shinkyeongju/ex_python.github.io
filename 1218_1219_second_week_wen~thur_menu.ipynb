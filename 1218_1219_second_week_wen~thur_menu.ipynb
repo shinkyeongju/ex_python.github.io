{
 "cells": [
  {
   "cell_type": "markdown",
   "metadata": {},
   "source": [
    "# lambda 함수\n",
    "- 이름없는 정의"
   ]
  },
  {
   "cell_type": "markdown",
   "metadata": {},
   "source": [
    "### lambda 함수를 이용한 계산기 프로그램\n",
    "- gire = 배치 관련 method"
   ]
  },
  {
   "cell_type": "code",
   "execution_count": null,
   "metadata": {},
   "outputs": [],
   "source": [
    "b = 3\n",
    "var = lambda x=b:print(x+55)\n",
    "var()"
   ]
  },
  {
   "cell_type": "markdown",
   "metadata": {},
   "source": [
    "#### 계산기 만들기 - ok\n",
    "- eval() --> 문자로 된 수식만 계산을 한다. ex) eval('3+5')"
   ]
  },
  {
   "cell_type": "code",
   "execution_count": 3,
   "metadata": {},
   "outputs": [],
   "source": [
    "from tkinter import *\n",
    "\n",
    "\n",
    "\n",
    "def cal():\n",
    "    window = Tk()\n",
    "    window.title('My Calculator')\n",
    "    display = Entry(window, width = 33, bg = 'pink')\n",
    "    display.grid(row = 0, column = 0, columnspan = 5)\n",
    "    bt_list = '7,8,9,/,C,4,5,6,*,%,1,2,3,-,**,0,,=,+,←'.split(\",\")\n",
    "    print(bt_list)\n",
    "\n",
    "    col_index = 0\n",
    "    row_num = 1\n",
    "    for button_text in bt_list:       # command =lambda x = button_text : click(x) --> button_text 가 x로 가고 x가 click()으로 간다.\n",
    "        Button(window, text=button_text, width = 5, command =lambda x = button_text : click(x)).grid(row = row_num, column = col_index)\n",
    "    #     btn = Button(window, text=bt_text, width = 5)\n",
    "    #     btn.grid(row = row_num, column = col_index)              \n",
    "        col_index += 1\n",
    "        if col_index == 5:      # row 변경 해주는 code\n",
    "            row_num+=1\n",
    "            col_index = 0\n",
    "    def click(key):\n",
    "        if key == '=':\n",
    "            result = eval(display.get())\n",
    "            s = str(result)\n",
    "            display.insert(END, '=' + s)\n",
    "        elif key == 'C':\n",
    "            display.delete(0, END)               # delete(시작점,끝점) --> 시작점부터 끝점까지 지운다.\n",
    "        elif key == '←':\n",
    "            size = len(display.get())\n",
    "            display.delete(size-1,END)\n",
    "        else: display.insert(END, key)\n",
    "    window.mainloop()"
   ]
  },
  {
   "cell_type": "code",
   "execution_count": 4,
   "metadata": {},
   "outputs": [
    {
     "name": "stdout",
     "output_type": "stream",
     "text": [
      "['7', '8', '9', '/', 'C', '4', '5', '6', '*', '%', '1', '2', '3', '-', '**', '0', '', '=', '+', '←']\n"
     ]
    }
   ],
   "source": [
    "cal()"
   ]
  },
  {
   "cell_type": "markdown",
   "metadata": {},
   "source": [
    "## Menu() 위젯"
   ]
  },
  {
   "cell_type": "code",
   "execution_count": 1,
   "metadata": {},
   "outputs": [
    {
     "ename": "SyntaxError",
     "evalue": "import * only allowed at module level (<ipython-input-1-053fb6d03714>, line 2)",
     "output_type": "error",
     "traceback": [
      "\u001b[1;36m  File \u001b[1;32m\"<ipython-input-1-053fb6d03714>\"\u001b[1;36m, line \u001b[1;32m2\u001b[0m\n\u001b[1;33m    from tkinter.filedialog import *\u001b[0m\n\u001b[1;37m                                    ^\u001b[0m\n\u001b[1;31mSyntaxError\u001b[0m\u001b[1;31m:\u001b[0m import * only allowed at module level\n"
     ]
    }
   ],
   "source": [
    "from tkinter import *\n",
    "from tkinter.filedialog import *\n",
    "# from 형태로 import 해줬기 때문에 모듈명을 안써줘도 된다 ex) pd.read_csv\n",
    "# 모듈안에 있는 함수들은 import 가능하나 sub모듈은 import가 안되기에 별도로 import 해줌\n",
    "import tkinter.messagebox\n",
    "import tkinter.simpledialog\n",
    "import temp\n",
    "import calcul\n",
    "import findIndex\n",
    "\n",
    "def save():\n",
    "    file=asksaveasfile(parent=w,mode='w')        # tkinter.filedialog 안에 asksaveasfile 이라는 함수가 있다\n",
    "    print(file)\n",
    "    if file!= None:\n",
    "        lines = text.get('0.0', END+'-1c')       # 0행 0열부터 끝까지 get해서 lines에 저장, '-1c'는 맞미가 빈줄 넣지 말란 의미\n",
    "        file.write(lines)\n",
    "        file.close()\n",
    "\n",
    "def open():\n",
    "#     text.delete('0.0', lines)\n",
    "    file=askopenfile(parent=w, mode='r')\n",
    "    print(file)\n",
    "    if file!= None:\n",
    "        lines = file.read()\n",
    "        text.insert('0.0', lines)\n",
    "        file.close()  \n",
    "\n",
    "message1 = '''노래 제목 : '출발'\n",
    "가수 : 김동률\n",
    "발매 년도 : 2008년'''\n",
    "sum1 = 0\n",
    "def showmessage():\n",
    "    tkinter.messagebox.showinfo('showinfo', message1)\n",
    "\n",
    "def isyn():\n",
    "    answer = tkinter.messagebox.askyesnocancel('새로만들기', '저장할래?')\n",
    "    if answer == True :\n",
    "        save()\n",
    "        text.delete('0.0', END)\n",
    "    elif answer == False : text.delete('0.0', END)\n",
    "    else: pass\n",
    "    \n",
    "def exit():\n",
    "    if tkinter.messagebox.askokcancel('종료' ,'종료할래?'):\n",
    "        w.destroy()\n",
    "\n",
    "def sumNum():\n",
    "    global sum1\n",
    "    num = tkinter.simpledialog.askinteger('1부터 입력한 숫자까지의 합', '숫자를 입력하시오')\n",
    "    for i in range(1,num+1):\n",
    "        sum1+=i\n",
    "    isynsum(sum1)\n",
    "\n",
    "def isynsum(sum):\n",
    "    global sum1\n",
    "    tkinter.messagebox.askokcancel('합', f'합은 {sum1} 재밌지?')\n",
    "    w.destroy()\n",
    "    \n",
    "def findLarge1():\n",
    "    a = [11,22,33,44,1,3,6,88,993,43]\n",
    "    large = a[0]\n",
    "    for i in range(1, len(a)):\n",
    "        if a[i] > large:\n",
    "            large = a[i]\n",
    "    tkinter.messagebox.askokcancel('최댓값 구하기', f'최댓값은 : {large}')\n",
    "    w.destroy()\n",
    "    \n",
    "def findLarge2():\n",
    "    num = tkinter.simpledialog.askstring('최댓값 구하기', '숫자를 입력하시오(1,3,5,..)').split(',')\n",
    "    nums = [int (i) for i in num]\n",
    "    large = nums[0]\n",
    "    for i in range(1, len(nums)):\n",
    "        if nums[i] > large:\n",
    "            large = nums[i]\n",
    "    tkinter.messagebox.askokcancel('최댓값 구하기', f'최댓값은 {large}')\n",
    "\n",
    "def sameName1():\n",
    "    name, samename = ['tom','jerry','jane','harry',' bob','tom','son','son','kane','dele'], []\n",
    "    for i in name:\n",
    "        if name.count(i) >=2:\n",
    "            samename.append(i)\n",
    "            name.remove(i)\n",
    "    tkinter.messagebox.askokcancel('동명이인 구하기', f'동명이인 : {samename}')\n",
    "\n",
    "def sameName2():\n",
    "    name = ['tom','jerry','jane','harry',' bob','tom','son','son','kane','dele']\n",
    "    \n",
    "    tkinter.messagebox.askokcancel('동명이인 구하기', f'동명이인 : {samename}')\n",
    "\n",
    "def fac():\n",
    "    facinputnum = tkinter.simpledialog.askinteger('팩토리얼 구하기', '숫자를 입력하시오')\n",
    "    def facResult(facinputnum):\n",
    "        global facsum\n",
    "        facsum = 0\n",
    "        facsum += facinputnum\n",
    "        if facinputnum == 0 or facinputnum == 1 :return 1\n",
    "        return facsum + facResult(facinputnum-1)\n",
    "    \n",
    "    tkinter.messagebox.askokcancel('팩토리얼 구하기', f'팩토리얼값은 {facResult(facinputnum)}')\n",
    "    \n",
    "a = [3,4,5,1,2]\n",
    "\n",
    "def selecSort(a):\n",
    "    global a\n",
    "    small = a[0]\n",
    "    for i in range(1,len(a)):\n",
    "        if small > a[i]:\n",
    "            small = a[i]\n",
    "    return small\n",
    "\n",
    "result_list = []\n",
    "def selecSort2(a):\n",
    "    while a:\n",
    "        result = a.pop(a.index(selecSort(a)))\n",
    "        result_list.append(result)\n",
    "    return result_list\n",
    "    \n",
    "w = Tk()\n",
    "w.title('내가 만든 프로그램 ^_^')\n",
    "text = Text(w, height = 30, width = 80)\n",
    "text.pack()\n",
    "\n",
    "mymenu = Menu(w)\n",
    "\n",
    "w.config(menu=mymenu)\n",
    "filemenu = Menu(mymenu)\n",
    "helpmenu = Menu(mymenu)\n",
    "program = Menu(mymenu)\n",
    "sortedmenu = Menu(mymenu)\n",
    "\n",
    "mymenu.add_cascade(label='파일', menu=filemenu)\n",
    "mymenu.add_cascade(label='프로그램', menu=program)\n",
    "mymenu.add_cascade(label='정렬', menu=sortedmenu)\n",
    "mymenu.add_cascade(label='도움말', menu=helpmenu)\n",
    "\n",
    "program.add_command(label='합구하기 프로그램', command=sumNum)\n",
    "program.add_command(label='온도변환 프로그램', command=temp.temper)\n",
    "program.add_command(label='최댓값구하기 프로그램 - 1', command=findLarge1)\n",
    "program.add_command(label='최댓값구하기 프로그램 - 2', command=findLarge2)\n",
    "program.add_command(label='동명이인구하기 프로그램 - 1', command=sameName1)\n",
    "program.add_command(label='동명이인구하기 프로그램 - 2', command=sameName2)\n",
    "program.add_command(label='팩토리얼 구하기 프로그램', command=fac)\n",
    "# program.add_command(label='특정 값의 위치 구하기 프로그램', command=findNumIndex)\n",
    "program.add_command(label='계산기', command=calcul.cal)\n",
    "sortedmenu.add_command(label='선택 정렬', command=selecSort2)\n",
    "helpmenu.add_command(label='프로그램 정보', command=showmessage)\n",
    "filemenu.add_command(label='새로만들기', command=isyn)\n",
    "filemenu.add_command(label='열기', command=open)\n",
    "filemenu.add_command(label='저장하기', command=save)\n",
    "filemenu.add_command(label='종료', command=exit)\n",
    "\n",
    "w.mainloop()"
   ]
  },
  {
   "cell_type": "code",
   "execution_count": 34,
   "metadata": {},
   "outputs": [
    {
     "ename": "TypeError",
     "evalue": "'int' object is not subscriptable",
     "output_type": "error",
     "traceback": [
      "\u001b[1;31m---------------------------------------------------------------------------\u001b[0m",
      "\u001b[1;31mTypeError\u001b[0m                                 Traceback (most recent call last)",
      "\u001b[1;32m<ipython-input-34-a4aab866bc6f>\u001b[0m in \u001b[0;36m<module>\u001b[1;34m\u001b[0m\n\u001b[0;32m      1\u001b[0m \u001b[0ma\u001b[0m\u001b[1;33m=\u001b[0m\u001b[1;33m[\u001b[0m\u001b[1;36m1\u001b[0m\u001b[1;33m,\u001b[0m\u001b[1;36m2\u001b[0m\u001b[1;33m,\u001b[0m\u001b[1;36m3\u001b[0m\u001b[1;33m]\u001b[0m\u001b[1;33m\u001b[0m\u001b[1;33m\u001b[0m\u001b[0m\n\u001b[0;32m      2\u001b[0m \u001b[0maa\u001b[0m\u001b[1;33m=\u001b[0m\u001b[0ma\u001b[0m\u001b[1;33m[\u001b[0m\u001b[1;36m0\u001b[0m\u001b[1;33m]\u001b[0m\u001b[1;33m\u001b[0m\u001b[1;33m\u001b[0m\u001b[0m\n\u001b[1;32m----> 3\u001b[1;33m \u001b[0ma\u001b[0m\u001b[1;33m.\u001b[0m\u001b[0mindex\u001b[0m\u001b[1;33m(\u001b[0m\u001b[0maa\u001b[0m\u001b[1;33m[\u001b[0m\u001b[1;36m0\u001b[0m\u001b[1;33m]\u001b[0m\u001b[1;33m)\u001b[0m\u001b[1;33m\u001b[0m\u001b[1;33m\u001b[0m\u001b[0m\n\u001b[0m",
      "\u001b[1;31mTypeError\u001b[0m: 'int' object is not subscriptable"
     ]
    }
   ],
   "source": [
    "a=[1,2,3]\n",
    "aa=a[0]\n",
    "a.index(aa[0])"
   ]
  },
  {
   "cell_type": "markdown",
   "metadata": {},
   "source": [
    "# 선택 정렬 함수 2개 사용"
   ]
  },
  {
   "cell_type": "code",
   "execution_count": 45,
   "metadata": {},
   "outputs": [],
   "source": [
    "a = [3,4,5,1,2]\n",
    "\n",
    "def k(a):\n",
    "    small = a[0]\n",
    "    for i in range(1,len(a)):\n",
    "        if small > a[i]:\n",
    "            small = a[i]\n",
    "    return small\n",
    "\n",
    "result_list = []\n",
    "def kk(a):\n",
    "    while a:\n",
    "        result = a.pop(a.index(k(a)))\n",
    "        result_list.append(result)\n",
    "    return result_list"
   ]
  },
  {
   "cell_type": "code",
   "execution_count": 46,
   "metadata": {},
   "outputs": [
    {
     "data": {
      "text/plain": [
       "1"
      ]
     },
     "execution_count": 46,
     "metadata": {},
     "output_type": "execute_result"
    }
   ],
   "source": [
    "k(a)"
   ]
  },
  {
   "cell_type": "code",
   "execution_count": 47,
   "metadata": {},
   "outputs": [
    {
     "data": {
      "text/plain": [
       "[1, 2, 3, 4, 5]"
      ]
     },
     "execution_count": 47,
     "metadata": {},
     "output_type": "execute_result"
    }
   ],
   "source": [
    "kk(a)"
   ]
  },
  {
   "cell_type": "markdown",
   "metadata": {},
   "source": [
    "## 삽입 정렬"
   ]
  },
  {
   "cell_type": "code",
   "execution_count": null,
   "metadata": {},
   "outputs": [],
   "source": [
    "a = [3,4,5,1,2]                # r_list = [3]\n",
    "r_list = []\n",
    "def k(a):\n",
    "    r_list.append(a[0])\n",
    "    a.pop(0)\n",
    "    \n",
    "def kk(a):\n",
    "    while a:\n",
    "        for i in range(0,len(r_list)):\n",
    "            \n",
    "    return result_list"
   ]
  },
  {
   "cell_type": "code",
   "execution_count": null,
   "metadata": {},
   "outputs": [],
   "source": [
    "a = [3, 4, 5, 1, 2]\n",
    "r_list = []\n",
    "\n",
    "while a:\n",
    "    add_num : r_list.append(a[0])\n",
    "        if len(r_list) == 1: pass\n",
    "        else:\n",
    "            for i in r_list:\n",
    "                \n",
    "                \n",
    "                \n",
    "                \n",
    "# "
   ]
  },
  {
   "cell_type": "code",
   "execution_count": 41,
   "metadata": {},
   "outputs": [],
   "source": [
    "def find_ins_idx(a):\n",
    "    global small\n",
    "    small = a[0]\n",
    "    for i in range(1,len(a)):\n",
    "        if small > a[i]:\n",
    "            small = a[i]\n",
    "    a_small_value = small\n",
    "    return a.index(small)\n",
    "\n",
    "def ins_sort(a):\n",
    "    result = []\n",
    "    while a:\n",
    "        value = a.pop(find_ins_idx(a))\n",
    "        ins_idx = find_ins_idx(a)\n",
    "        result.insert(ins_idx, value)\n",
    "    return result"
   ]
  },
  {
   "cell_type": "code",
   "execution_count": 42,
   "metadata": {},
   "outputs": [
    {
     "data": {
      "text/plain": [
       "2"
      ]
     },
     "execution_count": 42,
     "metadata": {},
     "output_type": "execute_result"
    }
   ],
   "source": [
    "find_ins_idx([5,4,1,3,2])"
   ]
  },
  {
   "cell_type": "code",
   "execution_count": 43,
   "metadata": {},
   "outputs": [
    {
     "data": {
      "text/plain": [
       "1"
      ]
     },
     "execution_count": 43,
     "metadata": {},
     "output_type": "execute_result"
    }
   ],
   "source": [
    "small"
   ]
  },
  {
   "cell_type": "code",
   "execution_count": 44,
   "metadata": {},
   "outputs": [
    {
     "ename": "IndexError",
     "evalue": "list index out of range",
     "output_type": "error",
     "traceback": [
      "\u001b[1;31m---------------------------------------------------------------------------\u001b[0m",
      "\u001b[1;31mIndexError\u001b[0m                                Traceback (most recent call last)",
      "\u001b[1;32m<ipython-input-44-0bba2a196a4d>\u001b[0m in \u001b[0;36m<module>\u001b[1;34m\u001b[0m\n\u001b[1;32m----> 1\u001b[1;33m \u001b[0mins_sort\u001b[0m\u001b[1;33m(\u001b[0m\u001b[1;33m[\u001b[0m\u001b[1;36m4\u001b[0m\u001b[1;33m,\u001b[0m\u001b[1;36m5\u001b[0m\u001b[1;33m,\u001b[0m\u001b[1;36m3\u001b[0m\u001b[1;33m,\u001b[0m\u001b[1;36m2\u001b[0m\u001b[1;33m,\u001b[0m\u001b[1;36m1\u001b[0m\u001b[1;33m]\u001b[0m\u001b[1;33m)\u001b[0m\u001b[1;33m\u001b[0m\u001b[1;33m\u001b[0m\u001b[0m\n\u001b[0m",
      "\u001b[1;32m<ipython-input-41-7cc31686dadc>\u001b[0m in \u001b[0;36mins_sort\u001b[1;34m(a)\u001b[0m\n\u001b[0;32m     12\u001b[0m     \u001b[1;32mwhile\u001b[0m \u001b[0ma\u001b[0m\u001b[1;33m:\u001b[0m\u001b[1;33m\u001b[0m\u001b[1;33m\u001b[0m\u001b[0m\n\u001b[0;32m     13\u001b[0m         \u001b[0mvalue\u001b[0m \u001b[1;33m=\u001b[0m \u001b[0ma\u001b[0m\u001b[1;33m.\u001b[0m\u001b[0mpop\u001b[0m\u001b[1;33m(\u001b[0m\u001b[0mfind_ins_idx\u001b[0m\u001b[1;33m(\u001b[0m\u001b[0ma\u001b[0m\u001b[1;33m)\u001b[0m\u001b[1;33m)\u001b[0m\u001b[1;33m\u001b[0m\u001b[1;33m\u001b[0m\u001b[0m\n\u001b[1;32m---> 14\u001b[1;33m         \u001b[0mins_idx\u001b[0m \u001b[1;33m=\u001b[0m \u001b[0mfind_ins_idx\u001b[0m\u001b[1;33m(\u001b[0m\u001b[0ma\u001b[0m\u001b[1;33m)\u001b[0m\u001b[1;33m\u001b[0m\u001b[1;33m\u001b[0m\u001b[0m\n\u001b[0m\u001b[0;32m     15\u001b[0m         \u001b[0mvalue\u001b[0m \u001b[1;33m=\u001b[0m \u001b[0msmall\u001b[0m\u001b[1;33m\u001b[0m\u001b[1;33m\u001b[0m\u001b[0m\n\u001b[0;32m     16\u001b[0m         \u001b[0mresult\u001b[0m\u001b[1;33m.\u001b[0m\u001b[0minsert\u001b[0m\u001b[1;33m(\u001b[0m\u001b[0mins_idx\u001b[0m\u001b[1;33m,\u001b[0m \u001b[0mvalue\u001b[0m\u001b[1;33m)\u001b[0m\u001b[1;33m\u001b[0m\u001b[1;33m\u001b[0m\u001b[0m\n",
      "\u001b[1;32m<ipython-input-41-7cc31686dadc>\u001b[0m in \u001b[0;36mfind_ins_idx\u001b[1;34m(a)\u001b[0m\n\u001b[0;32m      1\u001b[0m \u001b[1;32mdef\u001b[0m \u001b[0mfind_ins_idx\u001b[0m\u001b[1;33m(\u001b[0m\u001b[0ma\u001b[0m\u001b[1;33m)\u001b[0m\u001b[1;33m:\u001b[0m\u001b[1;33m\u001b[0m\u001b[1;33m\u001b[0m\u001b[0m\n\u001b[0;32m      2\u001b[0m     \u001b[1;32mglobal\u001b[0m \u001b[0msmall\u001b[0m\u001b[1;33m\u001b[0m\u001b[1;33m\u001b[0m\u001b[0m\n\u001b[1;32m----> 3\u001b[1;33m     \u001b[0msmall\u001b[0m \u001b[1;33m=\u001b[0m \u001b[0ma\u001b[0m\u001b[1;33m[\u001b[0m\u001b[1;36m0\u001b[0m\u001b[1;33m]\u001b[0m\u001b[1;33m\u001b[0m\u001b[1;33m\u001b[0m\u001b[0m\n\u001b[0m\u001b[0;32m      4\u001b[0m     \u001b[1;32mfor\u001b[0m \u001b[0mi\u001b[0m \u001b[1;32min\u001b[0m \u001b[0mrange\u001b[0m\u001b[1;33m(\u001b[0m\u001b[1;36m1\u001b[0m\u001b[1;33m,\u001b[0m\u001b[0mlen\u001b[0m\u001b[1;33m(\u001b[0m\u001b[0ma\u001b[0m\u001b[1;33m)\u001b[0m\u001b[1;33m)\u001b[0m\u001b[1;33m:\u001b[0m\u001b[1;33m\u001b[0m\u001b[1;33m\u001b[0m\u001b[0m\n\u001b[0;32m      5\u001b[0m         \u001b[1;32mif\u001b[0m \u001b[0msmall\u001b[0m \u001b[1;33m>\u001b[0m \u001b[0ma\u001b[0m\u001b[1;33m[\u001b[0m\u001b[0mi\u001b[0m\u001b[1;33m]\u001b[0m\u001b[1;33m:\u001b[0m\u001b[1;33m\u001b[0m\u001b[1;33m\u001b[0m\u001b[0m\n",
      "\u001b[1;31mIndexError\u001b[0m: list index out of range"
     ]
    }
   ],
   "source": [
    "ins_sort([4,5,3,2,1])"
   ]
  },
  {
   "cell_type": "code",
   "execution_count": null,
   "metadata": {},
   "outputs": [],
   "source": []
  }
 ],
 "metadata": {
  "kernelspec": {
   "display_name": "Python 3",
   "language": "python",
   "name": "python3"
  },
  "language_info": {
   "codemirror_mode": {
    "name": "ipython",
    "version": 3
   },
   "file_extension": ".py",
   "mimetype": "text/x-python",
   "name": "python",
   "nbconvert_exporter": "python",
   "pygments_lexer": "ipython3",
   "version": "3.7.5"
  }
 },
 "nbformat": 4,
 "nbformat_minor": 2
}
