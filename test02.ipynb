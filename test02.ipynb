{
 "cells": [
  {
   "cell_type": "code",
   "execution_count": 1,
   "metadata": {},
   "outputs": [
    {
     "data": {
      "text/plain": [
       "6"
      ]
     },
     "execution_count": 1,
     "metadata": {},
     "output_type": "execute_result"
    }
   ],
   "source": [
    "3+3"
   ]
  },
  {
   "cell_type": "code",
   "execution_count": 2,
   "metadata": {},
   "outputs": [
    {
     "data": {
      "text/plain": [
       "False"
      ]
     },
     "execution_count": 2,
     "metadata": {},
     "output_type": "execute_result"
    }
   ],
   "source": [
    "not 33"
   ]
  },
  {
   "cell_type": "code",
   "execution_count": 12,
   "metadata": {},
   "outputs": [
    {
     "data": {
      "text/plain": [
       "'pi = 3.14'"
      ]
     },
     "execution_count": 12,
     "metadata": {},
     "output_type": "execute_result"
    }
   ],
   "source": [
    "'pi = %.2f' % 3.14"
   ]
  },
  {
   "cell_type": "code",
   "execution_count": 15,
   "metadata": {},
   "outputs": [
    {
     "name": "stdout",
     "output_type": "stream",
     "text": [
      "a/b/c/1/2/3\n"
     ]
    }
   ],
   "source": [
    "print('a', 'b', 'c', 1, 2, 3, sep='/')"
   ]
  },
  {
   "cell_type": "code",
   "execution_count": 18,
   "metadata": {},
   "outputs": [
    {
     "name": "stdout",
     "output_type": "stream",
     "text": [
      "ab c d 1 2 3\n"
     ]
    }
   ],
   "source": [
    "print('a'+'b','c', 'd', 1,2,3)"
   ]
  },
  {
   "cell_type": "code",
   "execution_count": 25,
   "metadata": {},
   "outputs": [
    {
     "name": "stdout",
     "output_type": "stream",
     "text": [
      "abc\n",
      "\n",
      "d\n"
     ]
    }
   ],
   "source": [
    "print('a', end='')\n",
    "print('b', end='')\n",
    "print('c\\n')\n",
    "print('d')"
   ]
  },
  {
   "cell_type": "code",
   "execution_count": 27,
   "metadata": {},
   "outputs": [
    {
     "name": "stdout",
     "output_type": "stream",
     "text": [
      "aa----bb----cc\n"
     ]
    }
   ],
   "source": [
    "print('aa','bb','cc', sep='----')"
   ]
  },
  {
   "cell_type": "code",
   "execution_count": 28,
   "metadata": {},
   "outputs": [
    {
     "name": "stdout",
     "output_type": "stream",
     "text": [
      "a\t123b\t123c\n"
     ]
    }
   ],
   "source": [
    "print('a', 'b', 'c', sep = '\\t123')"
   ]
  },
  {
   "cell_type": "code",
   "execution_count": 29,
   "metadata": {},
   "outputs": [
    {
     "name": "stdout",
     "output_type": "stream",
     "text": [
      "a@"
     ]
    }
   ],
   "source": [
    "print('a', end='@')"
   ]
  },
  {
   "cell_type": "code",
   "execution_count": 30,
   "metadata": {},
   "outputs": [
    {
     "name": "stdout",
     "output_type": "stream",
     "text": [
      "b!\n",
      "~"
     ]
    }
   ],
   "source": [
    "print('b', end = '!\\n~')"
   ]
  },
  {
   "cell_type": "code",
   "execution_count": 32,
   "metadata": {},
   "outputs": [
    {
     "name": "stdout",
     "output_type": "stream",
     "text": [
      "잎 모양: ♧\n",
      "   ♧\n",
      "  ♧♧\n",
      " ♧♧♧\n",
      "♧♧♧♧\n",
      "   ■\n",
      "   ■\n"
     ]
    }
   ],
   "source": [
    "leaf = input('잎 모양: ')\n",
    "stem = '■'\n",
    "print(' '*3 + leaf)\n",
    "print(' '*2 + leaf *2)\n",
    "print(' '*1 + leaf *3)\n",
    "print(leaf *4)\n",
    "print(' '*3+stem)\n",
    "print(' '*3+stem)"
   ]
  },
  {
   "cell_type": "markdown",
   "metadata": {},
   "source": [
    "# 문제"
   ]
  },
  {
   "cell_type": "code",
   "execution_count": 33,
   "metadata": {
    "scrolled": true
   },
   "outputs": [
    {
     "name": "stdout",
     "output_type": "stream",
     "text": [
      "당신의 이름은 무엇입니까? 홍길동\n",
      "당신의 나이는 몇 살입니까? 20\n",
      "당신의 이름은 홍길동 나이는 20살입니다\n"
     ]
    }
   ],
   "source": [
    "name = input('당신의 이름은 무엇입니까? ')\n",
    "age = int(input('당신의 나이는 몇 살입니까? '))\n",
    "print('당신의 이름은 %s 나이는 %s살입니다' %(name,age))"
   ]
  },
  {
   "cell_type": "code",
   "execution_count": 35,
   "metadata": {},
   "outputs": [
    {
     "name": "stdout",
     "output_type": "stream",
     "text": [
      "희망 단어는? 빵야\n",
      "몇 번 반복할래요? 3\n",
      "빵야빵야빵야\n"
     ]
    }
   ],
   "source": [
    "word = input('희망 단어는? ')\n",
    "count = int(input('몇 번 반복할래요? '))\n",
    "print(word*count)"
   ]
  },
  {
   "cell_type": "code",
   "execution_count": 38,
   "metadata": {},
   "outputs": [
    {
     "name": "stdout",
     "output_type": "stream",
     "text": [
      "숫자를 입력하시오4\n",
      "*    *    *    *    \n",
      "**   **   **   **   \n",
      "***  ***  ***  ***  \n",
      "**** **** **** **** \n",
      "********************\n"
     ]
    }
   ],
   "source": [
    "num = int(input('숫자를 입력하시오'))\n",
    "print(('*'*1 +' '*4)*num,('*'*2 + ' '*3)*num,('*'*3 + ' '*2)*num, ('*'*4 + ' '*1)*num,('*'*5 + ' '*0)*num, sep='\\n')"
   ]
  },
  {
   "cell_type": "markdown",
   "metadata": {},
   "source": [
    "# 예제"
   ]
  },
  {
   "cell_type": "code",
   "execution_count": 39,
   "metadata": {},
   "outputs": [
    {
     "name": "stdout",
     "output_type": "stream",
     "text": [
      "잎 모양 :□\n",
      "   □\n",
      "  □□\n",
      " □□□\n",
      "□□□□\n",
      "   ◐\n",
      "   ◐\n"
     ]
    }
   ],
   "source": [
    "leaf = input('잎 모양 :')\n",
    "stem = '◐'\n",
    "print(' '*3 + leaf)\n",
    "print(' '*2 + leaf*2)\n",
    "print(' ' + leaf*3)\n",
    "print(leaf*4)\n",
    "print(' '*3 + stem)\n",
    "print(' '*3 + stem)"
   ]
  },
  {
   "cell_type": "code",
   "execution_count": 40,
   "metadata": {},
   "outputs": [
    {
     "name": "stdout",
     "output_type": "stream",
     "text": [
      "나무에 도끼질을 합니다.쾅\n",
      "나무에 도끼질을 합니다.쾅쾅\n",
      "나무에 도끼질을 합니다.쾅쾅쾅\n",
      "나무에 도끼질을 합니다.쾅쾅쾅쾅\n",
      "나무에 도끼질을 합니다.쾅쾅쾅쾅쾅\n",
      "나무에 도끼질을 합니다.쾅쾅쾅쾅쾅쾅\n",
      "나무에 도끼질을 합니다.쾅쾅쾅쾅쾅쾅쾅\n",
      "나무에 도끼질을 합니다.쾅쾅쾅쾅쾅쾅쾅쾅\n",
      "나무에 도끼질을 합니다.쾅쾅쾅쾅쾅쾅쾅쾅쾅\n",
      "나무에 도끼질을 합니다.쾅쾅쾅쾅쾅쾅쾅쾅쾅쾅\n",
      "나무가 넘어갔습니다\n"
     ]
    }
   ],
   "source": [
    "input('나무에 도끼질을 합니다.' + '쾅')\n",
    "input('나무에 도끼질을 합니다.' + '쾅'*2)\n",
    "input('나무에 도끼질을 합니다.' + '쾅'*3)\n",
    "input('나무에 도끼질을 합니다.' + '쾅'*4)\n",
    "input('나무에 도끼질을 합니다.' + '쾅'*5)\n",
    "input('나무에 도끼질을 합니다.' + '쾅'*6)\n",
    "input('나무에 도끼질을 합니다.' + '쾅'*7)\n",
    "input('나무에 도끼질을 합니다.' + '쾅'*8)\n",
    "input('나무에 도끼질을 합니다.' + '쾅'*9)\n",
    "input('나무에 도끼질을 합니다.' + '쾅'*10)\n",
    "print('나무가 넘어갔습니다')"
   ]
  },
  {
   "cell_type": "code",
   "execution_count": 41,
   "metadata": {},
   "outputs": [
    {
     "name": "stdout",
     "output_type": "stream",
     "text": [
      "체중 : 60\n",
      "키 : 190\n",
      "\n",
      "bmi는 16.62 입니다\n"
     ]
    }
   ],
   "source": [
    "w = input('체중 : ')\n",
    "h = input('키 : ')\n",
    "print()\n",
    "bmi = float(w) / (float(h)/100)**2\n",
    "print('bmi는 %.2f'%bmi,'입니다')"
   ]
  },
  {
   "cell_type": "code",
   "execution_count": 61,
   "metadata": {},
   "outputs": [
    {
     "name": "stdout",
     "output_type": "stream",
     "text": [
      "화씨 온도를 입력하시오150\n",
      "섭씨 온도는 65.556입니다.\n"
     ]
    }
   ],
   "source": [
    "f = int(input('화씨 온도를 입력하시오'))\n",
    "c = 5/9 * (f - 32)\n",
    "print('섭씨 온도는 %.3f입니다.' %c)"
   ]
  },
  {
   "cell_type": "code",
   "execution_count": 48,
   "metadata": {},
   "outputs": [
    {
     "name": "stdout",
     "output_type": "stream",
     "text": [
      "섭씨 온도를 입력하시오60\n",
      "화씨 온도는 140.0입니다.\n"
     ]
    }
   ],
   "source": [
    "c = int(input('섭씨 온도를 입력하시오'))\n",
    "f = 9/5 *c +32\n",
    "print('화씨 온도는 %s입니다.' %f)"
   ]
  },
  {
   "cell_type": "code",
   "execution_count": 63,
   "metadata": {},
   "outputs": [
    {
     "name": "stdout",
     "output_type": "stream",
     "text": [
      "섭씨 온도를 입력하시오60\n",
      "화씨 온도는 140.0입니다.\n"
     ]
    }
   ],
   "source": [
    "c = int(input('섭씨 온도를 입력하시오'))\n",
    "f = 9/5 *c +32\n",
    "print(f'화씨 온도는 {f}입니다.')"
   ]
  },
  {
   "cell_type": "code",
   "execution_count": 2,
   "metadata": {},
   "outputs": [
    {
     "name": "stdout",
     "output_type": "stream",
     "text": [
      "화씨 온도를 입력하시오150\n",
      "섭씨 온도는 65.6입니다.\n"
     ]
    }
   ],
   "source": [
    "f = int(input('화씨 온도를 입력하시오'))\n",
    "c = 5/9 * (f - 32)\n",
    "print(f'섭씨 온도는 {c:.3}입니다.')"
   ]
  },
  {
   "cell_type": "code",
   "execution_count": 3,
   "metadata": {},
   "outputs": [
    {
     "name": "stdout",
     "output_type": "stream",
     "text": [
      "3\n"
     ]
    }
   ],
   "source": [
    "print(19 %4)"
   ]
  },
  {
   "cell_type": "code",
   "execution_count": 4,
   "metadata": {},
   "outputs": [
    {
     "name": "stdout",
     "output_type": "stream",
     "text": [
      "4.75\n"
     ]
    }
   ],
   "source": [
    "print(19/4)"
   ]
  },
  {
   "cell_type": "code",
   "execution_count": 6,
   "metadata": {},
   "outputs": [
    {
     "name": "stdout",
     "output_type": "stream",
     "text": [
      "4\n"
     ]
    }
   ],
   "source": [
    "print(19//4)"
   ]
  },
  {
   "cell_type": "code",
   "execution_count": 7,
   "metadata": {},
   "outputs": [
    {
     "name": "stdout",
     "output_type": "stream",
     "text": [
      "3 * @3 * @\n"
     ]
    }
   ],
   "source": [
    "print('3 * @' *2)"
   ]
  },
  {
   "cell_type": "code",
   "execution_count": 8,
   "metadata": {},
   "outputs": [
    {
     "name": "stdout",
     "output_type": "stream",
     "text": [
      "444\n"
     ]
    }
   ],
   "source": [
    "a = 6\n",
    "print(str(int(a)-2)*3)"
   ]
  },
  {
   "cell_type": "code",
   "execution_count": 9,
   "metadata": {},
   "outputs": [
    {
     "name": "stdout",
     "output_type": "stream",
     "text": [
      "bbbb\n"
     ]
    }
   ],
   "source": [
    "b=7\n",
    "print('b' * 4)"
   ]
  },
  {
   "cell_type": "code",
   "execution_count": 10,
   "metadata": {},
   "outputs": [
    {
     "name": "stdout",
     "output_type": "stream",
     "text": [
      "222\n"
     ]
    }
   ],
   "source": [
    "print(int(float('3.5'))*'2')"
   ]
  },
  {
   "cell_type": "code",
   "execution_count": 11,
   "metadata": {},
   "outputs": [
    {
     "name": "stdout",
     "output_type": "stream",
     "text": [
      "3.145\n"
     ]
    }
   ],
   "source": [
    "print(str(3.1) + str(45))"
   ]
  },
  {
   "cell_type": "code",
   "execution_count": 12,
   "metadata": {},
   "outputs": [
    {
     "name": "stdout",
     "output_type": "stream",
     "text": [
      "hi !!\n"
     ]
    }
   ],
   "source": [
    "print('hi', '!' *2)"
   ]
  },
  {
   "cell_type": "code",
   "execution_count": 13,
   "metadata": {},
   "outputs": [
    {
     "ename": "ValueError",
     "evalue": "invalid literal for int() with base 10: '3.0'",
     "output_type": "error",
     "traceback": [
      "\u001b[1;31m---------------------------------------------------------------------------\u001b[0m",
      "\u001b[1;31mValueError\u001b[0m                                Traceback (most recent call last)",
      "\u001b[1;32m<ipython-input-13-c7e1dacf6b72>\u001b[0m in \u001b[0;36m<module>\u001b[1;34m\u001b[0m\n\u001b[1;32m----> 1\u001b[1;33m \u001b[0mprint\u001b[0m\u001b[1;33m(\u001b[0m\u001b[0mint\u001b[0m\u001b[1;33m(\u001b[0m\u001b[1;34m'3.0'\u001b[0m\u001b[1;33m)\u001b[0m \u001b[1;33m*\u001b[0m \u001b[0mstr\u001b[0m\u001b[1;33m(\u001b[0m\u001b[1;36m4\u001b[0m\u001b[1;33m)\u001b[0m\u001b[1;33m)\u001b[0m\u001b[1;33m\u001b[0m\u001b[1;33m\u001b[0m\u001b[0m\n\u001b[0m",
      "\u001b[1;31mValueError\u001b[0m: invalid literal for int() with base 10: '3.0'"
     ]
    }
   ],
   "source": [
    "print(int('3.0') * str(4))"
   ]
  },
  {
   "cell_type": "code",
   "execution_count": 1,
   "metadata": {},
   "outputs": [],
   "source": [
    "import turtle"
   ]
  },
  {
   "cell_type": "code",
   "execution_count": 2,
   "metadata": {},
   "outputs": [],
   "source": [
    "turtle.fd(100)"
   ]
  },
  {
   "cell_type": "code",
   "execution_count": 4,
   "metadata": {},
   "outputs": [
    {
     "ename": "TurtleGraphicsError",
     "evalue": "There is no shape named tutle",
     "output_type": "error",
     "traceback": [
      "\u001b[1;31m---------------------------------------------------------------------------\u001b[0m",
      "\u001b[1;31mTurtleGraphicsError\u001b[0m                       Traceback (most recent call last)",
      "\u001b[1;32m<ipython-input-4-afdf277d2ab8>\u001b[0m in \u001b[0;36m<module>\u001b[1;34m\u001b[0m\n\u001b[1;32m----> 1\u001b[1;33m \u001b[0mturtle\u001b[0m\u001b[1;33m.\u001b[0m\u001b[0mshape\u001b[0m\u001b[1;33m(\u001b[0m\u001b[1;34m'tutle'\u001b[0m\u001b[1;33m)\u001b[0m\u001b[1;33m\u001b[0m\u001b[1;33m\u001b[0m\u001b[0m\n\u001b[0m",
      "\u001b[1;32mc:\\users\\admin\\appdata\\local\\programs\\python\\python37\\lib\\turtle.py\u001b[0m in \u001b[0;36mshape\u001b[1;34m(name)\u001b[0m\n",
      "\u001b[1;32mc:\\users\\admin\\appdata\\local\\programs\\python\\python37\\lib\\turtle.py\u001b[0m in \u001b[0;36mshape\u001b[1;34m(self, name)\u001b[0m\n\u001b[0;32m   2774\u001b[0m             \u001b[1;32mreturn\u001b[0m \u001b[0mself\u001b[0m\u001b[1;33m.\u001b[0m\u001b[0mturtle\u001b[0m\u001b[1;33m.\u001b[0m\u001b[0mshapeIndex\u001b[0m\u001b[1;33m\u001b[0m\u001b[1;33m\u001b[0m\u001b[0m\n\u001b[0;32m   2775\u001b[0m         \u001b[1;32mif\u001b[0m \u001b[1;32mnot\u001b[0m \u001b[0mname\u001b[0m \u001b[1;32min\u001b[0m \u001b[0mself\u001b[0m\u001b[1;33m.\u001b[0m\u001b[0mscreen\u001b[0m\u001b[1;33m.\u001b[0m\u001b[0mgetshapes\u001b[0m\u001b[1;33m(\u001b[0m\u001b[1;33m)\u001b[0m\u001b[1;33m:\u001b[0m\u001b[1;33m\u001b[0m\u001b[1;33m\u001b[0m\u001b[0m\n\u001b[1;32m-> 2776\u001b[1;33m             \u001b[1;32mraise\u001b[0m \u001b[0mTurtleGraphicsError\u001b[0m\u001b[1;33m(\u001b[0m\u001b[1;34m\"There is no shape named %s\"\u001b[0m \u001b[1;33m%\u001b[0m \u001b[0mname\u001b[0m\u001b[1;33m)\u001b[0m\u001b[1;33m\u001b[0m\u001b[1;33m\u001b[0m\u001b[0m\n\u001b[0m\u001b[0;32m   2777\u001b[0m         \u001b[0mself\u001b[0m\u001b[1;33m.\u001b[0m\u001b[0mturtle\u001b[0m\u001b[1;33m.\u001b[0m\u001b[0m_setshape\u001b[0m\u001b[1;33m(\u001b[0m\u001b[0mname\u001b[0m\u001b[1;33m)\u001b[0m\u001b[1;33m\u001b[0m\u001b[1;33m\u001b[0m\u001b[0m\n\u001b[0;32m   2778\u001b[0m         \u001b[0mself\u001b[0m\u001b[1;33m.\u001b[0m\u001b[0m_update\u001b[0m\u001b[1;33m(\u001b[0m\u001b[1;33m)\u001b[0m\u001b[1;33m\u001b[0m\u001b[1;33m\u001b[0m\u001b[0m\n",
      "\u001b[1;31mTurtleGraphicsError\u001b[0m: There is no shape named tutle"
     ]
    }
   ],
   "source": [
    "turtle.shape('tutle')"
   ]
  },
  {
   "cell_type": "markdown",
   "metadata": {},
   "source": [
    "# 주석"
   ]
  },
  {
   "cell_type": "code",
   "execution_count": 2,
   "metadata": {},
   "outputs": [
    {
     "name": "stdout",
     "output_type": "stream",
     "text": [
      "a\n"
     ]
    }
   ],
   "source": [
    "# 주석처리\n",
    "'''\n",
    "여러줄\n",
    "주석\n",
    "처리\n",
    "'''\n",
    "print('a')"
   ]
  },
  {
   "cell_type": "code",
   "execution_count": 4,
   "metadata": {},
   "outputs": [
    {
     "name": "stdout",
     "output_type": "stream",
     "text": [
      "Num :-5\n",
      "입력한 숫자는 -5\n",
      "end\n"
     ]
    }
   ],
   "source": [
    "num = int(input('Num :'))\n",
    "if num > 0:\n",
    "    print('양수')\n",
    "print('입력한 숫자는', num)\n",
    "print('end')"
   ]
  },
  {
   "cell_type": "code",
   "execution_count": 6,
   "metadata": {},
   "outputs": [
    {
     "name": "stdout",
     "output_type": "stream",
     "text": [
      "Num :-5\n",
      "end\n"
     ]
    }
   ],
   "source": [
    "num = int(input('Num :'))\n",
    "if num > 0:\n",
    "    print('양수')\n",
    "    print('입력한 숫자는', num)\n",
    "print('end')"
   ]
  },
  {
   "cell_type": "code",
   "execution_count": 12,
   "metadata": {},
   "outputs": [
    {
     "name": "stdout",
     "output_type": "stream",
     "text": [
      "몸무게kg :80\n",
      "키 (m) :1.7\n",
      "비만\n",
      "27.68166089965398\n"
     ]
    }
   ],
   "source": [
    "w = float(input('몸무게kg :'))\n",
    "h = float(input('키 (m) :'))\n",
    "bmi = w/h**2\n",
    "if bmi > 25:\n",
    "    print('비만')\n",
    "print(bmi)"
   ]
  },
  {
   "cell_type": "code",
   "execution_count": 15,
   "metadata": {},
   "outputs": [
    {
     "name": "stdout",
     "output_type": "stream",
     "text": [
      "정수 : -9\n",
      "홀수\n"
     ]
    }
   ],
   "source": [
    "n = int(input('정수 : '))\n",
    "\n",
    "if n % 2 ==1 :\n",
    "    print('홀수')\n",
    "if n % 2 ==0:\n",
    "    print('짝수')"
   ]
  },
  {
   "cell_type": "code",
   "execution_count": 17,
   "metadata": {},
   "outputs": [
    {
     "name": "stdout",
     "output_type": "stream",
     "text": [
      "원하는 음식은 (짜장면 : 0, 짬뽕 : 1)1\n",
      "맵게(0) or 안 맵게(1)1\n",
      "선택한 메뉴는 안 매운 짬뽕\n",
      "잘먹으렴\n"
     ]
    }
   ],
   "source": [
    "n = int(input('원하는 음식은 (짜장면 : 0, 짬뽕 : 1)'))\n",
    "if n ==0: print('선택한 메뉴는 짜장면')\n",
    "if n ==1:\n",
    "    m = int(input('맵게(0) or 안 맵게(1)'))\n",
    "    if m ==0: print('선택한 메뉴는 매운 짬뽕')\n",
    "    if m ==1: print('선택한 메뉴는 안 매운 짬뽕')\n",
    "print('잘먹으렴')"
   ]
  },
  {
   "cell_type": "code",
   "execution_count": 18,
   "metadata": {},
   "outputs": [
    {
     "name": "stdout",
     "output_type": "stream",
     "text": [
      "당신의 점수는 ?85\n",
      "B\n"
     ]
    }
   ],
   "source": [
    "score = int(input('당신의 점수는 ?'))\n",
    "if score >= 90: print('A')\n",
    "if score < 90 and score >=80: print('B')\n",
    "if score <80 and score >=70: print('C')\n",
    "if score <70 and score >=60: print('D')\n",
    "if score <60: print('F')"
   ]
  },
  {
   "cell_type": "markdown",
   "metadata": {},
   "source": [
    "# 문제1"
   ]
  },
  {
   "cell_type": "code",
   "execution_count": 44,
   "metadata": {},
   "outputs": [
    {
     "name": "stdout",
     "output_type": "stream",
     "text": [
      "동전을 넣으세요 1500\n",
      "콜라가 3개 나왔습니다\n",
      "거스름돈 0원이 나왔습니다\n"
     ]
    }
   ],
   "source": [
    "money = int(input('동전을 넣으세요 '))\n",
    "if money >= 500:\n",
    "    print(f'콜라가 {money//500}개 나왔습니다')\n",
    "#     print(f'거스름돈 {money%500}원이 나왔습니다.')\n",
    "print('거스름돈 %d원이 나왔습니다' % (money%500))"
   ]
  },
  {
   "cell_type": "markdown",
   "metadata": {},
   "source": [
    "# 문제2"
   ]
  },
  {
   "cell_type": "code",
   "execution_count": 46,
   "metadata": {},
   "outputs": [
    {
     "name": "stdout",
     "output_type": "stream",
     "text": [
      "당신의 나이는 ? 13\n",
      "동승자가 있습니까? n\n",
      "탑승할 수 없습니다.\n",
      "감사합니다.\n"
     ]
    }
   ],
   "source": [
    "age = int(input('당신의 나이는 ? '))\n",
    "if age <18: \n",
    "    bumo = input('동승자가 있습니까? ')\n",
    "    if bumo == 'n': print('탑승할 수 없습니다.')\n",
    "#     if bumo == 'y': print('감사합니다.')\n",
    "print('감사합니다.')"
   ]
  },
  {
   "cell_type": "code",
   "execution_count": 47,
   "metadata": {},
   "outputs": [
    {
     "name": "stdout",
     "output_type": "stream",
     "text": [
      "Variable   Type     Data/Info\n",
      "-----------------------------\n",
      "age        int      13\n",
      "bmi        float    27.68166089965398\n",
      "bumo       str      n\n",
      "h          float    1.7\n",
      "m          int      1\n",
      "money      int      1500\n",
      "n          int      1\n",
      "num        int      -5\n",
      "score      int      85\n",
      "w          float    80.0\n"
     ]
    }
   ],
   "source": [
    "%whos"
   ]
  },
  {
   "cell_type": "code",
   "execution_count": 51,
   "metadata": {},
   "outputs": [
    {
     "name": "stdout",
     "output_type": "stream",
     "text": [
      "점수를 입력하시오 55\n",
      "-->fail\n"
     ]
    }
   ],
   "source": [
    "score = int(input('점수를 입력하시오 '))\n",
    "if score >= 60: print('--> pass')\n",
    "else: print('-->fail')"
   ]
  },
  {
   "cell_type": "code",
   "execution_count": 56,
   "metadata": {},
   "outputs": [
    {
     "name": "stdout",
     "output_type": "stream",
     "text": [
      "너의 몸무게는? 85\n",
      "너의 키(m)는? 1.85\n",
      "정상\n"
     ]
    }
   ],
   "source": [
    "w= float(input('너의 몸무게는? '))\n",
    "h = float(input('너의 키(m)는? '))\n",
    "bmi = w/h**2\n",
    "if bmi >25: print('비만')\n",
    "else: print('정상')"
   ]
  },
  {
   "cell_type": "code",
   "execution_count": 67,
   "metadata": {},
   "outputs": [
    {
     "name": "stdout",
     "output_type": "stream",
     "text": [
      "첫 번째 정수를 입력하시오 2\n",
      "두 번째 정수를 입력하시오 2\n",
      "2, 2 두 수는 같다\n"
     ]
    }
   ],
   "source": [
    "num1 = int(input('첫 번째 정수를 입력하시오 '))\n",
    "num2 = int(input('두 번째 정수를 입력하시오 '))\n",
    "\n",
    "if num1 > num2 : print(f'큰수 : {num1}, 작은수 : {num2}')\n",
    "elif num1 == num2 : print(f'{num1}, {num2} 두 수는 같다')\n",
    "else:\n",
    "    print(f'큰수 : {num2}, 작은수 : {num1}')"
   ]
  },
  {
   "cell_type": "code",
   "execution_count": 78,
   "metadata": {},
   "outputs": [
    {
     "name": "stdout",
     "output_type": "stream",
     "text": [
      "점수를 입력하시오 60\n",
      "D\n",
      "엄마한테 혼납니다\n"
     ]
    }
   ],
   "source": [
    "score = int(input('점수를 입력하시오 '))\n",
    "if score >= 90 : print('A')\n",
    "elif score >=80 : print('B')\n",
    "elif score >=70 : print('C')\n",
    "elif score >=60 : print('D\\n엄마한테 혼납니다')\n",
    "else: print('F\\n엄마한테 쫓겨납니다')    "
   ]
  },
  {
   "cell_type": "code",
   "execution_count": 80,
   "metadata": {},
   "outputs": [
    {
     "name": "stdout",
     "output_type": "stream",
     "text": [
      "점수를 입력하시오 80\n",
      "B\n",
      "C\n",
      "D\n",
      "엄마한테 혼납니다\n"
     ]
    }
   ],
   "source": [
    "score = int(input('점수를 입력하시오 '))\n",
    "if score >= 90 : print('A')\n",
    "if score >=80 : print('B')\n",
    "if score >=70 : print('C')\n",
    "if score >=60 : print('D\\n엄마한테 혼납니다')\n",
    "else: print('F\\n엄마한테 쫓겨납니다')    "
   ]
  },
  {
   "cell_type": "markdown",
   "metadata": {},
   "source": [
    "# 미세먼지 문제"
   ]
  },
  {
   "cell_type": "code",
   "execution_count": 83,
   "metadata": {},
   "outputs": [
    {
     "name": "stdout",
     "output_type": "stream",
     "text": [
      "오늘의 미세 먼지 농도는? 100\n",
      "오늘의 미세먼지는 나쁨 입니다.\n",
      "미세먼지 경계 단계입니다.\n"
     ]
    }
   ],
   "source": [
    "mise = int(input('오늘의 미세 먼지 농도는? '))\n",
    "if mise <= 30: print('오늘의 미세먼지는 좋음 입니다.')\n",
    "elif mise <=80: print('오늘의 미세먼지는 보통 입니다.')\n",
    "elif mise <=150: print('오늘의 미세먼지는 나쁨 입니다.')\n",
    "else: print('오늘의 미세먼지는 매우나쁨 입니다.')\n",
    "if mise >= 100: print('미세먼지 경계 단계입니다.')"
   ]
  },
  {
   "cell_type": "markdown",
   "metadata": {},
   "source": [
    "# 합격 불합격 문제"
   ]
  },
  {
   "cell_type": "code",
   "execution_count": 2,
   "metadata": {},
   "outputs": [
    {
     "name": "stdout",
     "output_type": "stream",
     "text": [
      "당신의 이름은 ? 홍길동\n",
      "국어 점수는? 70\n",
      "수학 점수는? 49\n",
      "영어 점수는? 49\n",
      "홍길동는(은) 불합격입니다.\n"
     ]
    }
   ],
   "source": [
    "name = input('당신의 이름은 ? ')\n",
    "koreanPoint = int(input('국어 점수는? '))\n",
    "mathPoint = int(input('수학 점수는? '))\n",
    "englishPoint = int(input('영어 점수는? '))\n",
    "avg = (koreanPoint + mathPoint + englishPoint)/3\n",
    "if avg >= 60 and koreanPoint >=40 and mathPoint >=40 and englishPoint>=40:\n",
    "    print(f'{name}는(은) 합격입니다.')\n",
    "elif avg >=60 and koreanPoint <= 40 or mathPoint <= 40 or englishPoint <=40:\n",
    "    print(f'{name}는(은) 과락입니다')\n",
    "else: print(f'{name}는(은) 불합격입니다.')"
   ]
  },
  {
   "cell_type": "code",
   "execution_count": 3,
   "metadata": {},
   "outputs": [
    {
     "name": "stdout",
     "output_type": "stream",
     "text": [
      "숫자입력5\n",
      "진행 중 5\n",
      "진행 중 4\n",
      "진행 중 3\n",
      "진행 중 2\n",
      "진행 중 1\n",
      "진행 중 0\n",
      "끝\n"
     ]
    }
   ],
   "source": [
    "num = int(input('숫자입력'))\n",
    "while num >=0:\n",
    "    print('진행 중', num)\n",
    "    num -=1\n",
    "print('끝')"
   ]
  },
  {
   "cell_type": "code",
   "execution_count": 6,
   "metadata": {},
   "outputs": [
    {
     "name": "stdout",
     "output_type": "stream",
     "text": [
      "숫자입력5\n",
      "숫자는 5\n",
      "The end\n"
     ]
    }
   ],
   "source": [
    "num1 = int(input('숫자입력'))\n",
    "if num1 >= 0:\n",
    "    print('숫자는',num1)\n",
    "print('The end')"
   ]
  },
  {
   "cell_type": "code",
   "execution_count": 13,
   "metadata": {},
   "outputs": [
    {
     "name": "stdout",
     "output_type": "stream",
     "text": [
      "나무를 1번 찍었습니다. 쾅\n",
      "나무를 2번 찍었습니다. 쾅, 쾅\n",
      "나무를 3번 찍었습니다. 쾅, 쾅, 쾅\n",
      "나무를 4번 찍었습니다. 쾅, 쾅, 쾅, 쾅\n",
      "나무를 5번 찍었습니다. 쾅, 쾅, 쾅, 쾅, 쾅\n",
      "나무를 6번 찍었습니다. 쾅, 쾅, 쾅, 쾅, 쾅, 쾅\n",
      "나무를 7번 찍었습니다. 쾅, 쾅, 쾅, 쾅, 쾅, 쾅, 쾅\n",
      "나무를 8번 찍었습니다. 쾅, 쾅, 쾅, 쾅, 쾅, 쾅, 쾅, 쾅\n",
      "나무를 9번 찍었습니다. 쾅, 쾅, 쾅, 쾅, 쾅, 쾅, 쾅, 쾅, 쾅\n",
      "나무를 10번 찍었습니다. 쾅, 쾅, 쾅, 쾅, 쾅, 쾅, 쾅, 쾅, 쾅, 쾅\n",
      "나무가 넘어갔다\n"
     ]
    }
   ],
   "source": [
    "n=1\n",
    "while n < 11:\n",
    "    print(f'나무를 {n}번 찍었습니다.', '쾅, ' * (n-1) + '쾅')\n",
    "    n+=1\n",
    "print('나무가 넘어갔다')"
   ]
  },
  {
   "cell_type": "markdown",
   "metadata": {},
   "source": [
    "# while 이용하여 나무 그리기"
   ]
  },
  {
   "cell_type": "code",
   "execution_count": 27,
   "metadata": {},
   "outputs": [
    {
     "name": "stdout",
     "output_type": "stream",
     "text": [
      "나무 크기 입력 : 10\n",
      "잎 모양 : ㅁ\n",
      "줄기 모양 : hh\n",
      "         ㅁ\n",
      "        ㅁㅁ\n",
      "       ㅁㅁㅁ\n",
      "      ㅁㅁㅁㅁ\n",
      "     ㅁㅁㅁㅁㅁ\n",
      "    ㅁㅁㅁㅁㅁㅁ\n",
      "   ㅁㅁㅁㅁㅁㅁㅁ\n",
      "  ㅁㅁㅁㅁㅁㅁㅁㅁ\n",
      " ㅁㅁㅁㅁㅁㅁㅁㅁㅁ\n",
      "ㅁㅁㅁㅁㅁㅁㅁㅁㅁㅁ\n",
      "         hh\n",
      "         hh\n"
     ]
    }
   ],
   "source": [
    "size = int(input('나무 크기 입력 : '))\n",
    "leaf = input('잎 모양 : ')\n",
    "stem = input('줄기 모양 : ')\n",
    "\n",
    "n=1\n",
    "while n <= size:\n",
    "    print(' '* (size-n) + (leaf * n))\n",
    "    n+=1\n",
    "print(' ' * (size-1) + stem)\n",
    "print(' ' * (size-1) + stem)\n"
   ]
  },
  {
   "cell_type": "markdown",
   "metadata": {},
   "source": [
    "# 3단 출력"
   ]
  },
  {
   "cell_type": "markdown",
   "metadata": {},
   "source": [
    "\n",
    "- 초기값\n",
    "- 끝 범위\n",
    "- 증감"
   ]
  },
  {
   "cell_type": "code",
   "execution_count": 8,
   "metadata": {},
   "outputs": [
    {
     "name": "stdout",
     "output_type": "stream",
     "text": [
      "몇단 출력할래? 7\n",
      "7  *  1 = 7\n",
      "7  *  2 = 14\n",
      "7  *  3 = 21\n",
      "7  *  4 = 28\n",
      "7  *  5 = 35\n",
      "7  *  6 = 42\n",
      "7  *  7 = 49\n",
      "7  *  8 = 56\n",
      "7  *  9 = 63\n"
     ]
    }
   ],
   "source": [
    "num = int(input('몇단 출력할래? '))\n",
    "n =1\n",
    "while n < 10:\n",
    "    print(num,' * ', n , '=', (num * n))\n",
    "    n+=1"
   ]
  },
  {
   "cell_type": "markdown",
   "metadata": {},
   "source": [
    "# 2~9단 출력"
   ]
  },
  {
   "cell_type": "code",
   "execution_count": 9,
   "metadata": {},
   "outputs": [
    {
     "name": "stdout",
     "output_type": "stream",
     "text": [
      "2 단-------------\n",
      "2  *  1  =  2\n",
      "2  *  2  =  4\n",
      "2  *  3  =  6\n",
      "2  *  4  =  8\n",
      "2  *  5  =  10\n",
      "2  *  6  =  12\n",
      "2  *  7  =  14\n",
      "2  *  8  =  16\n",
      "2  *  9  =  18\n",
      "3 단-------------\n",
      "3  *  1  =  3\n",
      "3  *  2  =  6\n",
      "3  *  3  =  9\n",
      "3  *  4  =  12\n",
      "3  *  5  =  15\n",
      "3  *  6  =  18\n",
      "3  *  7  =  21\n",
      "3  *  8  =  24\n",
      "3  *  9  =  27\n",
      "4 단-------------\n",
      "4  *  1  =  4\n",
      "4  *  2  =  8\n",
      "4  *  3  =  12\n",
      "4  *  4  =  16\n",
      "4  *  5  =  20\n",
      "4  *  6  =  24\n",
      "4  *  7  =  28\n",
      "4  *  8  =  32\n",
      "4  *  9  =  36\n",
      "5 단-------------\n",
      "5  *  1  =  5\n",
      "5  *  2  =  10\n",
      "5  *  3  =  15\n",
      "5  *  4  =  20\n",
      "5  *  5  =  25\n",
      "5  *  6  =  30\n",
      "5  *  7  =  35\n",
      "5  *  8  =  40\n",
      "5  *  9  =  45\n",
      "6 단-------------\n",
      "6  *  1  =  6\n",
      "6  *  2  =  12\n",
      "6  *  3  =  18\n",
      "6  *  4  =  24\n",
      "6  *  5  =  30\n",
      "6  *  6  =  36\n",
      "6  *  7  =  42\n",
      "6  *  8  =  48\n",
      "6  *  9  =  54\n",
      "7 단-------------\n",
      "7  *  1  =  7\n",
      "7  *  2  =  14\n",
      "7  *  3  =  21\n",
      "7  *  4  =  28\n",
      "7  *  5  =  35\n",
      "7  *  6  =  42\n",
      "7  *  7  =  49\n",
      "7  *  8  =  56\n",
      "7  *  9  =  63\n",
      "8 단-------------\n",
      "8  *  1  =  8\n",
      "8  *  2  =  16\n",
      "8  *  3  =  24\n",
      "8  *  4  =  32\n",
      "8  *  5  =  40\n",
      "8  *  6  =  48\n",
      "8  *  7  =  56\n",
      "8  *  8  =  64\n",
      "8  *  9  =  72\n",
      "9 단-------------\n",
      "9  *  1  =  9\n",
      "9  *  2  =  18\n",
      "9  *  3  =  27\n",
      "9  *  4  =  36\n",
      "9  *  5  =  45\n",
      "9  *  6  =  54\n",
      "9  *  7  =  63\n",
      "9  *  8  =  72\n",
      "9  *  9  =  81\n",
      "end\n"
     ]
    }
   ],
   "source": [
    "n = 2\n",
    "print(n,'단-------------')\n",
    "while n < 10:\n",
    "    m=1\n",
    "    while m < 10:\n",
    "        print(n,' * ',m,' = ',n*m)\n",
    "        m+=1\n",
    "    n+=1\n",
    "    if n <10:\n",
    "        print(n,'단-------------')\n",
    "print('end')"
   ]
  },
  {
   "cell_type": "markdown",
   "metadata": {},
   "source": [
    "# 음료수 자판기"
   ]
  },
  {
   "cell_type": "code",
   "execution_count": 3,
   "metadata": {},
   "outputs": [
    {
     "name": "stdout",
     "output_type": "stream",
     "text": [
      "동전을 넣으세요 : 1200\n",
      "현재금액 :  1200  원\n",
      "음료를 선택하세요 (콜라: 0, 사이다: 1, 환타:2): 5\n",
      "거스름돈 :  1200  원\n"
     ]
    }
   ],
   "source": [
    "coin = int(input('동전을 넣으세요 : '))\n",
    "\n",
    "while coin >= 500:\n",
    "    print('현재금액 : ', coin, ' 원')\n",
    "    drink = int(input('음료를 선택하세요 (콜라: 0, 사이다: 1, 환타:2): '))\n",
    "    if drink == 0 :\n",
    "        print('콜라가 나왔습니다.')\n",
    "    elif drink == 1:\n",
    "        print('사이다가 나왔습니다.')\n",
    "    elif drink ==2: \n",
    "        print('환타가 나왔습니다.')\n",
    "    else: break\n",
    "    coin -=500\n",
    "    print()\n",
    "print('거스름돈 : ',coin,' 원')"
   ]
  },
  {
   "cell_type": "markdown",
   "metadata": {},
   "source": [
    "# 나무 그리기 -"
   ]
  },
  {
   "cell_type": "code",
   "execution_count": 16,
   "metadata": {},
   "outputs": [
    {
     "name": "stdout",
     "output_type": "stream",
     "text": [
      "나무의 사이즈 : 15\n",
      "나뭇잎 모양 : ☆\n",
      "줄기 모양 : ○\n",
      "               ☆\n",
      "              ☆☆\n",
      "             ☆☆☆\n",
      "            ☆☆☆☆\n",
      "           ☆☆☆☆☆\n",
      "          ☆☆☆☆☆☆\n",
      "         ☆☆☆☆☆☆☆\n",
      "        ☆☆☆☆☆☆☆☆\n",
      "       ☆☆☆☆☆☆☆☆☆\n",
      "      ☆☆☆☆☆☆☆☆☆☆\n",
      "     ☆☆☆☆☆☆☆☆☆☆☆\n",
      "    ☆☆☆☆☆☆☆☆☆☆☆☆\n",
      "   ☆☆☆☆☆☆☆☆☆☆☆☆☆\n",
      "  ☆☆☆☆☆☆☆☆☆☆☆☆☆☆\n",
      "           ○○○○○\n",
      "           ○○○○○\n",
      "           ○○○○○\n",
      "           ○○○○○\n"
     ]
    }
   ],
   "source": [
    "size = int(input('나무의 사이즈 : '))\n",
    "leaf = input('나뭇잎 모양 : ')\n",
    "stem = input('줄기 모양 : ')\n",
    "n=1\n",
    "while n < size:\n",
    "    print(' '*(size-n), leaf*n)\n",
    "    n+=1\n",
    "m=1\n",
    "while m < size/3:     \n",
    "    print(' '*int((size/3)*2), stem*int((size/3)))\n",
    "    m+=1"
   ]
  },
  {
   "cell_type": "code",
   "execution_count": 17,
   "metadata": {},
   "outputs": [],
   "source": [
    "import turtle as t"
   ]
  },
  {
   "cell_type": "code",
   "execution_count": 18,
   "metadata": {},
   "outputs": [],
   "source": [
    "t.fd(10)"
   ]
  },
  {
   "cell_type": "code",
   "execution_count": 1,
   "metadata": {},
   "outputs": [
    {
     "ename": "NameError",
     "evalue": "name 't' is not defined",
     "output_type": "error",
     "traceback": [
      "\u001b[1;31m---------------------------------------------------------------------------\u001b[0m",
      "\u001b[1;31mNameError\u001b[0m                                 Traceback (most recent call last)",
      "\u001b[1;32m<ipython-input-1-a072146a052f>\u001b[0m in \u001b[0;36m<module>\u001b[1;34m\u001b[0m\n\u001b[1;32m----> 1\u001b[1;33m \u001b[0mt\u001b[0m\u001b[1;33m.\u001b[0m\u001b[0mcolor\u001b[0m\u001b[1;33m(\u001b[0m\u001b[1;34m'yellow'\u001b[0m\u001b[1;33m)\u001b[0m\u001b[1;33m\u001b[0m\u001b[1;33m\u001b[0m\u001b[0m\n\u001b[0m",
      "\u001b[1;31mNameError\u001b[0m: name 't' is not defined"
     ]
    }
   ],
   "source": [
    "t.color('yellow')"
   ]
  },
  {
   "cell_type": "markdown",
   "metadata": {},
   "source": [
    "# 1211 과제\n",
    "- 자판기에서 4번 누르면 관리자 정보 나오고 다시 메뉴 선택되게 만들기\n",
    "- turtle로 3,4,5각형 그리기"
   ]
  },
  {
   "cell_type": "markdown",
   "metadata": {},
   "source": [
    "1. 소수판별"
   ]
  },
  {
   "cell_type": "code",
   "execution_count": 14,
   "metadata": {},
   "outputs": [
    {
     "name": "stdout",
     "output_type": "stream",
     "text": [
      "소수판별할 숫자를 입력하시오 17\n",
      "17 은 소수이다\n"
     ]
    }
   ],
   "source": [
    "num = int(input('소수판별할 숫자를 입력하시오 '))\n",
    "n=3\n",
    "while n < num:\n",
    "    remain =  num % n\n",
    "    if remain == 0:\n",
    "        print(num, '은 소수가 아니다')\n",
    "        break\n",
    "    n += 2\n",
    "else: print(num,'은 소수이다')"
   ]
  },
  {
   "cell_type": "code",
   "execution_count": null,
   "metadata": {},
   "outputs": [],
   "source": []
  }
 ],
 "metadata": {
  "kernelspec": {
   "display_name": "Python 3",
   "language": "python",
   "name": "python3"
  },
  "language_info": {
   "codemirror_mode": {
    "name": "ipython",
    "version": 3
   },
   "file_extension": ".py",
   "mimetype": "text/x-python",
   "name": "python",
   "nbconvert_exporter": "python",
   "pygments_lexer": "ipython3",
   "version": "3.7.5"
  }
 },
 "nbformat": 4,
 "nbformat_minor": 2
}
