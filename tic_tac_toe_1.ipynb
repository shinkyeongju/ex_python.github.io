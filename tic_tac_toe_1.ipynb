{
 "cells": [
  {
   "cell_type": "code",
   "execution_count": 5,
   "metadata": {},
   "outputs": [],
   "source": [
    "import random"
   ]
  },
  {
   "cell_type": "code",
   "execution_count": 6,
   "metadata": {},
   "outputs": [],
   "source": [
    "def drawBoard(board):\n",
    "    print('+---+---+---+')\n",
    "    print('| '+board[7]+' | '+board[8]+' | '+board[9]+' |')\n",
    "    print('+---+---+---+') \n",
    "    print('| '+board[4]+' | '+board[5]+' | '+board[6]+' |')\n",
    "    print('+---+---+---+')\n",
    "    print('| '+board[1]+' | '+board[2]+' | '+board[3]+' |')\n",
    "    print('+---+---+---+')"
   ]
  },
  {
   "cell_type": "markdown",
   "metadata": {},
   "source": [
    "# tic tac toc 과제"
   ]
  },
  {
   "cell_type": "code",
   "execution_count": null,
   "metadata": {},
   "outputs": [
    {
     "name": "stdout",
     "output_type": "stream",
     "text": [
      "게임을 시작합니다\n",
      "\n"
     ]
    }
   ],
   "source": [
    "import random\n",
    "                                  \n",
    "# toWin = [5, 7, 9, 1, 3, 8, 4, 2, 6]\n",
    "\n",
    "# -------------------------------------------------------------------------------------- board 세팅\n",
    "# board = ['-', '-', '-', '-', '-', '-', '-', '-', '-', '-']     # 0 ~ 9, 크기 10\n",
    "def drawBoard(board):\n",
    "    print('+---+---+---+')\n",
    "    print('| '+board[7]+' | '+board[8]+' | '+board[9]+' |')\n",
    "    print('+---+---+---+') \n",
    "    print('| '+board[4]+' | '+board[5]+' | '+board[6]+' |')\n",
    "    print('+---+---+---+')\n",
    "    print('| '+board[1]+' | '+board[2]+' | '+board[3]+' |')\n",
    "    print('+---+---+---+')\n",
    "# -------------------------------------------------------------------------------------- computer 체크\n",
    "computer_toWin = [1, 2, 3, 4, 5, 6, 7, 8, 9]\n",
    "def computerCheck():\n",
    "    for computer_check in computer_toWin:\n",
    "        if board[computer_check] == '-':\n",
    "            board[computer_check] = computer_shape\n",
    "            print('computer 선택 완료 ! ------------------------------------ ')\n",
    "            isWin_computer()\n",
    "            break\n",
    "# -------------------------------------------------------------------------------------- player 체크\n",
    "def playerCheck():\n",
    "    for player_check in range(1,10):\n",
    "        player_input = int(input('원하는 위치를 입력하세요 ! : '))\n",
    "        if board[player_input] == '-':\n",
    "            board[player_input] = player_shape\n",
    "            drawBoard(board)\n",
    "            print('plyaer 선택 완료 ! -------------------------------------- ')\n",
    "            isWin_player()\n",
    "            break\n",
    "# -------------------------------------------------------------------------------------- computer 승리 체크\n",
    "winToLine = ['123','456','789','741','852','963','753','951']\n",
    "def isWin_computer():\n",
    "    global regame_computer\n",
    "    for line in winToLIne:                                                                    # 0~8\n",
    "        count_computer = 0\n",
    "        for j in range(3):                                                                # 0~2\n",
    "            if board[int(line[j])] == computer_shape:                     # winToLine[2][0]/[2][1]/[2][2] = 9, board[7],board[8],board[9]\n",
    "                count_computer += 1                                             # winToLine[2][0]/[2][1]/[2][2] \n",
    "                if count_computer == 3:\n",
    "                    print('컴퓨터가 이겼네요.. 당신은 졌어요 ┭┲┭ . ┲┭┲')\n",
    "                    regame_computer = input('게임을 다시 한 번 해볼래요? 예 : y, 아니요 : n ---> ')\n",
    "                    break\n",
    "#         if regame_computer in ['n','y']:\n",
    "        break\n",
    "#                   if regame == 'y':\n",
    "#                   else: regame = 'n'\n",
    "# -------------------------------------------------------------------------------------- player 승리 체크        \n",
    "def isWin_player():\n",
    "    global regame_player\n",
    "    for i in range(8):                                                                   # 0~7\n",
    "        count_player = 0\n",
    "        for j in range(3):                                                               # 0~2\n",
    "            if board[int(winToLine[i][j])] == player_shape:                     # winToLine[2][0]/[2][1]/[2][2] = 9, board[7],board[8],board[9]\n",
    "                count_player += 1                                             # winToLine[2][0]/[2][1]/[2][2] \n",
    "                if count_player == 3:\n",
    "                    print('☆★☆★☆★당신이 이겼네요☆★☆★☆★☆★')\n",
    "                    regame_player = input('게임을 다시 한 번 해볼래요? 예 : y, 아니요 : n ---> ')\n",
    "                    break\n",
    "#         if regame_player in ['n','y']:\n",
    "        break\n",
    "# -------------------------------------------------------------------------------------- draw 여부 체크 \n",
    "def draw():\n",
    "    global draw_game, empty_count\n",
    "    empty_count = 0\n",
    "    for i in range(1,10):\n",
    "        if board[i] != '-':\n",
    "            empty_count += 1\n",
    "    if empty_count == 9:\n",
    "        draw_game = 'draw'\n",
    "        print('▣▣▣▣▣▣무승부▣▣▣▣▣▣')\n",
    "#                   if regame == 'y':\n",
    "#                   else: regame = 'n'\n",
    "                        \n",
    "# -------------------------------------------------------------------------------------- 함수 선언 끝\n",
    "# computer_toWin = [1, 2, 3, 4, 5, 6, 7, 8, 9]\n",
    "\n",
    "while 1:\n",
    "    regame_computer = 1\n",
    "    regame_player = 1\n",
    "    draw_game = 0\n",
    "    board = ['-', '-', '-', '-', '-', '-', '-', '-', '-', '-']\n",
    "    print('게임을 시작합니다\\n')\n",
    "    close = input('강제종료 할까요? : y or n : --> ').upper()\n",
    "    if close == 'Y': break\n",
    "    player_shape = input('player!!!! 원하는 문자를 선택하시오 (O,X 중 택1) : ').upper()          # word[0] = 0  word[1] = 1\n",
    "    if player_shape == 'O':\n",
    "        computer_shape = 'X'\n",
    "    else: computer_shape = 'O'\n",
    "    sun = random.sample((0,1),2)\n",
    "    if sun[0] == 0:\n",
    "        computer_sun = 'first'\n",
    "        print('computer가 먼저 시작합니다.')\n",
    "    else:\n",
    "        computer_sun = 'second'\n",
    "        print('player가 먼저 시작합니다.')\n",
    "# -------------------------------------------------------------------------------------------여기서부터 9번 반복    \n",
    "    for i in range(1,10):\n",
    "            \n",
    "        if computer_sun == 'first':                                                 \n",
    "            \n",
    "            draw()\n",
    "            if draw_game == 'draw': break\n",
    "            computerCheck()\n",
    "            if regame_computer in ['n','y']: break\n",
    "            draw()\n",
    "            if draw_game == 'draw': break\n",
    "            drawBoard(board)\n",
    "            playerCheck()\n",
    "            if regame_player in ['n','y']: break\n",
    "                                              \n",
    "        elif computer_sun == 'second':                                                                        # player_sun이 first\n",
    "            \n",
    "            draw()\n",
    "            if draw_game == 'draw': break\n",
    "            drawBoard(board)\n",
    "            playerCheck()\n",
    "            if regame_player in ['n','y']: break\n",
    "            computerCheck()\n",
    "            if regame_computer in ['n','y']: break\n",
    "                        \n",
    "        elif regame == 'n': break\n",
    "            \n",
    "    if regame_computer == 'n' or regame_player =='n':\n",
    "        break\n",
    "    elif draw_game == 'draw':\n",
    "        continue\n",
    "\n",
    "drawBoard(board)\n",
    "if close != 'Y': drawBoard(board)\n",
    "else: print('게임이 종료되었습니다 ! 다음에 또 만나요 ')"
   ]
  },
  {
   "cell_type": "code",
   "execution_count": 4,
   "metadata": {},
   "outputs": [],
   "source": [
    "board_new = ['-','-','-','-','-','-','-','-','-','-']"
   ]
  },
  {
   "cell_type": "code",
   "execution_count": 6,
   "metadata": {},
   "outputs": [
    {
     "name": "stdout",
     "output_type": "stream",
     "text": [
      "무승부\n"
     ]
    }
   ],
   "source": [
    "def draw()\n",
    "    for i in board:\n",
    "        if i != '-':\n",
    "            continue\n",
    "    print('무승부')"
   ]
  },
  {
   "cell_type": "code",
   "execution_count": null,
   "metadata": {},
   "outputs": [],
   "source": [
    "for i in board_new:\n",
    "    if i != '-':\n",
    "        continue\n",
    "draw_game = 'draw'\n",
    "print('무승부')"
   ]
  },
  {
   "cell_type": "code",
   "execution_count": null,
   "metadata": {},
   "outputs": [],
   "source": [
    "winToLine = ['123','456','789','741','852','963','753','951']\n",
    "def isWin_computer():\n",
    "    global regame_computer\n",
    "    for i in range(8):                                                                    # 0~8\n",
    "        count_computer = 0\n",
    "        for j in range(3):                                                                # 0~2\n",
    "            if board[int(winToLine[i][j])] == computer_shape:                     # winToLine[2][0]/[2][1]/[2][2] = 9, board[7],board[8],board[9]\n",
    "                count_computer += 1                                             # winToLine[2][0]/[2][1]/[2][2] \n",
    "                if count_computer == 3:\n",
    "                    print('컴퓨터가 이겼네요.. 당신은 졌어요 ┭┲┭ . ┲┭┲')\n",
    "                    regame_computer = input('게임을 다시 한 번 해볼래요? 예 : y, 아니요 : n ---> ')\n",
    "                    break\n",
    "        if regame_computer in ['n','y']:\n",
    "            break\n",
    "#                   if regame == 'y':\n",
    "#                   else: regame = 'n'\n",
    "# -------------------------------------------------------------------------------------- player 승리 체크        \n",
    "def isWin_player():\n",
    "    global regame_player\n",
    "    for i in range(8):                                                                   # 0~7\n",
    "        count_player = 0\n",
    "        for j in range(3):                                                               # 0~2\n",
    "            if board[int(winToLine[i][j])] == player_shape:                     # winToLine[2][0]/[2][1]/[2][2] = 9, board[7],board[8],board[9]\n",
    "                count_player += 1                                             # winToLine[2][0]/[2][1]/[2][2] \n",
    "                if count_player == 3:\n",
    "                    print('☆★☆★☆★당신이 이겼네요☆★☆★☆★☆★')\n",
    "                    regame_player = input('게임을 다시 한 번 해볼래요? 예 : y, 아니요 : n ---> ')\n",
    "                    break\n",
    "        if regame_player in ['n','y']:\n",
    "            break\n",
    "# ---------------------------------------------------------------------------------\n",
    "def isWin(user):\n",
    "    global regame_player, regame_computer\n",
    "    for i in range(8):\n",
    "        count = 0\n",
    "        for j in range(3):\n",
    "            if board[int(winToLine[i][j])] == user_shape:\n",
    "                cocunt += 1\n",
    "                if count == 3:\n",
    "                    print('이 게임의 승자 : --> ', user)\n",
    "                    regame_user = input('게임을 다시 한 번 해볼래요? 예 : y, 아니요 : n --> ')\n",
    "                    break\n",
    "        if regame_user in ['n', 'y']:\n",
    "            break\n",
    "            "
   ]
  },
  {
   "cell_type": "code",
   "execution_count": 1,
   "metadata": {
    "scrolled": false
   },
   "outputs": [
    {
     "name": "stdout",
     "output_type": "stream",
     "text": [
      "게임을 시작합니다\n",
      "\n",
      "강제종료 할까요? : y or n : --> n\n",
      "player!!!! 원하는 문자를 선택하시오 (O,X 중 택1) : o\n",
      "computer가 먼저 시작합니다.\n",
      "computer 선택 완료 ! ------------------------------------ \n"
     ]
    },
    {
     "ename": "NameError",
     "evalue": "name 'computer' is not defined",
     "output_type": "error",
     "traceback": [
      "\u001b[1;31m---------------------------------------------------------------------------\u001b[0m",
      "\u001b[1;31mNameError\u001b[0m                                 Traceback (most recent call last)",
      "\u001b[1;32m<ipython-input-1-f44e25725606>\u001b[0m in \u001b[0;36m<module>\u001b[1;34m\u001b[0m\n\u001b[0;32m     89\u001b[0m             \u001b[0mdraw\u001b[0m\u001b[1;33m(\u001b[0m\u001b[1;33m)\u001b[0m\u001b[1;33m\u001b[0m\u001b[1;33m\u001b[0m\u001b[0m\n\u001b[0;32m     90\u001b[0m             \u001b[1;32mif\u001b[0m \u001b[0mdraw_game\u001b[0m \u001b[1;33m==\u001b[0m \u001b[1;34m'draw'\u001b[0m\u001b[1;33m:\u001b[0m \u001b[1;32mbreak\u001b[0m\u001b[1;33m\u001b[0m\u001b[1;33m\u001b[0m\u001b[0m\n\u001b[1;32m---> 91\u001b[1;33m             \u001b[0mcomputerCheck\u001b[0m\u001b[1;33m(\u001b[0m\u001b[1;33m)\u001b[0m\u001b[1;33m\u001b[0m\u001b[1;33m\u001b[0m\u001b[0m\n\u001b[0m\u001b[0;32m     92\u001b[0m             \u001b[1;32mif\u001b[0m \u001b[0mregame_computer\u001b[0m \u001b[1;32min\u001b[0m \u001b[1;33m[\u001b[0m\u001b[1;34m'n'\u001b[0m\u001b[1;33m,\u001b[0m\u001b[1;34m'y'\u001b[0m\u001b[1;33m]\u001b[0m\u001b[1;33m:\u001b[0m \u001b[1;32mbreak\u001b[0m\u001b[1;33m\u001b[0m\u001b[1;33m\u001b[0m\u001b[0m\n\u001b[0;32m     93\u001b[0m             \u001b[0mdraw\u001b[0m\u001b[1;33m(\u001b[0m\u001b[1;33m)\u001b[0m\u001b[1;33m\u001b[0m\u001b[1;33m\u001b[0m\u001b[0m\n",
      "\u001b[1;32m<ipython-input-1-f44e25725606>\u001b[0m in \u001b[0;36mcomputerCheck\u001b[1;34m()\u001b[0m\n\u001b[0;32m     20\u001b[0m             \u001b[0mboard\u001b[0m\u001b[1;33m[\u001b[0m\u001b[0mcomputer_check\u001b[0m\u001b[1;33m]\u001b[0m \u001b[1;33m=\u001b[0m \u001b[0mcomputer_shape\u001b[0m\u001b[1;33m\u001b[0m\u001b[1;33m\u001b[0m\u001b[0m\n\u001b[0;32m     21\u001b[0m             \u001b[0mprint\u001b[0m\u001b[1;33m(\u001b[0m\u001b[1;34m'computer 선택 완료 ! ------------------------------------ '\u001b[0m\u001b[1;33m)\u001b[0m\u001b[1;33m\u001b[0m\u001b[1;33m\u001b[0m\u001b[0m\n\u001b[1;32m---> 22\u001b[1;33m             \u001b[0misWin\u001b[0m\u001b[1;33m(\u001b[0m\u001b[0mcomputer\u001b[0m\u001b[1;33m)\u001b[0m\u001b[1;33m\u001b[0m\u001b[1;33m\u001b[0m\u001b[0m\n\u001b[0m\u001b[0;32m     23\u001b[0m             \u001b[1;32mbreak\u001b[0m\u001b[1;33m\u001b[0m\u001b[1;33m\u001b[0m\u001b[0m\n\u001b[0;32m     24\u001b[0m \u001b[1;31m# -------------------------------------------------------------------------------------- player 체크\u001b[0m\u001b[1;33m\u001b[0m\u001b[1;33m\u001b[0m\u001b[1;33m\u001b[0m\u001b[0m\n",
      "\u001b[1;31mNameError\u001b[0m: name 'computer' is not defined"
     ]
    }
   ],
   "source": []
  },
  {
   "cell_type": "code",
   "execution_count": null,
   "metadata": {},
   "outputs": [],
   "source": []
  }
 ],
 "metadata": {
  "kernelspec": {
   "display_name": "Python 3",
   "language": "python",
   "name": "python3"
  },
  "language_info": {
   "codemirror_mode": {
    "name": "ipython",
    "version": 3
   },
   "file_extension": ".py",
   "mimetype": "text/x-python",
   "name": "python",
   "nbconvert_exporter": "python",
   "pygments_lexer": "ipython3",
   "version": "3.7.5"
  }
 },
 "nbformat": 4,
 "nbformat_minor": 2
}
