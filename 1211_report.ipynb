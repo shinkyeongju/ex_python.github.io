{
 "cells": [
  {
   "cell_type": "code",
   "execution_count": 1,
   "metadata": {},
   "outputs": [],
   "source": [
    "import turtle as t\n",
    "t.fd(20)"
   ]
  },
  {
   "cell_type": "code",
   "execution_count": 1,
   "metadata": {},
   "outputs": [
    {
     "ename": "IndentationError",
     "evalue": "expected an indented block (<ipython-input-1-fe1788afb72d>, line 6)",
     "output_type": "error",
     "traceback": [
      "\u001b[1;36m  File \u001b[1;32m\"<ipython-input-1-fe1788afb72d>\"\u001b[1;36m, line \u001b[1;32m6\u001b[0m\n\u001b[1;33m    t.fd(50)\u001b[0m\n\u001b[1;37m    ^\u001b[0m\n\u001b[1;31mIndentationError\u001b[0m\u001b[1;31m:\u001b[0m expected an indented block\n"
     ]
    }
   ],
   "source": [
    "t.color('green')\n",
    "count=0\n",
    "num = int(input('몇 각형을 원하니?'))\n",
    "\n",
    "while count <num:\n",
    "t.fd(50)\n",
    "t.left(360/num)\n",
    "count+=1"
   ]
  },
  {
   "cell_type": "code",
   "execution_count": 1,
   "metadata": {},
   "outputs": [
    {
     "name": "stdout",
     "output_type": "stream",
     "text": [
      "동전을 넣으세요 : 6000\n",
      "현재 잔액은  6000  원 입니다.\n",
      "음료를 선택하세요. 콜라:0, 사이다:1, 환타:2, 환불:3, 관리자모드:4 --> 4\n",
      "관리자\n",
      "현재 잔액은  6000  원 입니다.\n",
      "음료를 선택하세요. 콜라:0, 사이다:1, 환타:2, 환불:3, 관리자모드:4 --> 3\n",
      "거스름돈 :  6000  원 입니다.\n"
     ]
    }
   ],
   "source": [
    "coin = int(input('동전을 넣으세요 : '))\n",
    "while coin >= 500:\n",
    "    print('현재 잔액은 ', coin, ' 원 입니다.')\n",
    "    choice = input('음료를 선택하세요. 콜라:0, 사이다:1, 환타:2, 환불:3, 관리자모드:4 --> ')\n",
    "    if choice == '0': print('콜라가 나왔습니다.')\n",
    "    elif choice == '1': print('사이다가 나왔습니다.')\n",
    "    elif choice == '2': print('환타가 나왔습니다.')\n",
    "    elif choice == '3': break\n",
    "    elif choice == '4': #print('관리자모드')\n",
    "        print('---- 관리자 모드---- ')\n",
    "        continue\n",
    "        #         continue:\n",
    "    coin -= 500\n",
    "print('거스름돈 : ', coin, ' 원 입니다.')      "
   ]
  },
  {
   "cell_type": "code",
   "execution_count": 3,
   "metadata": {},
   "outputs": [
    {
     "name": "stdout",
     "output_type": "stream",
     "text": [
      "4\n",
      "no\n"
     ]
    }
   ],
   "source": [
    "num = int(input())\n",
    "if num == 3:\n",
    "    print('num = ', 3)\n",
    "else:\n",
    "    print('no')"
   ]
  },
  {
   "cell_type": "code",
   "execution_count": null,
   "metadata": {},
   "outputs": [],
   "source": []
  }
 ],
 "metadata": {
  "kernelspec": {
   "display_name": "Python 3",
   "language": "python",
   "name": "python3"
  },
  "language_info": {
   "codemirror_mode": {
    "name": "ipython",
    "version": 3
   },
   "file_extension": ".py",
   "mimetype": "text/x-python",
   "name": "python",
   "nbconvert_exporter": "python",
   "pygments_lexer": "ipython3",
   "version": "3.7.5"
  }
 },
 "nbformat": 4,
 "nbformat_minor": 2
}
