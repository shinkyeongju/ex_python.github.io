{
 "cells": [
  {
   "cell_type": "code",
   "execution_count": 4,
   "metadata": {},
   "outputs": [],
   "source": [
    "from tkinter import *\n",
    "from tkinter.filedialog import *\n",
    "import tkinter.messagebox\n",
    "\n",
    "import tkinter.simpledialog\n",
    "\n",
    "\n",
    "def temper():\n",
    "    global entry_c, entry_f\n",
    "    window = Tk()\n",
    "    window.title('온도 변환 프로그램') # 윈도우 이름\n",
    "    window.geometry('250x150') # 윈도우 가로 * 세로 사이즈\n",
    "    label_1 = Label(window, text='온도 변환 프로그램')\n",
    "    label_2 = Label(window, text = '섭씨')\n",
    "    label_3 = Label(window, text = '화씨')\n",
    "    label_1.grid(row=0, column = 0, columnspan =2)        # label 위젯을 윈도우에 배치 , span --> 열이나 행을 합치는 것\n",
    "    label_2.grid(row=1, column = 0)\n",
    "    label_3.grid(row=2, column = 0)\n",
    "\n",
    "\n",
    "\n",
    "    entry_c = Entry(window)\n",
    "    entry_f = Entry(window)\n",
    "\n",
    "    entry_c.grid(row=1, column=1)\n",
    "    entry_f.grid(row=2, column=1)                      # 형식 : Entry(객체명, 속성)\n",
    "\n",
    "    btn_1=Button(window, text='섭씨 -> 화씨', command = cTof)\n",
    "    btn_2=Button(window, text='화씨 -> 섭씨', command = fToc)\n",
    "\n",
    "    btn_1.grid(row=3, column = 0)\n",
    "    btn_2.grid(row=3, column = 1)\n",
    "    window.mainloop()\n",
    "    \n",
    "def cTof():\n",
    "    global entry_f\n",
    "    c = float(entry_c.get())\n",
    "    f = 9.0/5.0*c+32.0\n",
    "    entry_c.delete(0,END)\n",
    "    entry_f.insert(0,str(f))\n",
    "\n",
    "\n",
    "def fToc():\n",
    "    global entry_c\n",
    "    f = float(entry_f.get())\n",
    "    c = 5.0/9.0*(f-32.0)\n",
    "    entry_f.delete(0,END)\n",
    "    entry_c.insert(0,str(c))  "
   ]
  },
  {
   "cell_type": "code",
   "execution_count": 5,
   "metadata": {},
   "outputs": [],
   "source": [
    "temper()"
   ]
  }
 ],
 "metadata": {
  "kernelspec": {
   "display_name": "Python 3",
   "language": "python",
   "name": "python3"
  },
  "language_info": {
   "codemirror_mode": {
    "name": "ipython",
    "version": 3
   },
   "file_extension": ".py",
   "mimetype": "text/x-python",
   "name": "python",
   "nbconvert_exporter": "python",
   "pygments_lexer": "ipython3",
   "version": "3.7.5"
  }
 },
 "nbformat": 4,
 "nbformat_minor": 2
}
