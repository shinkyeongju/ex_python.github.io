{
 "cells": [
  {
   "cell_type": "markdown",
   "metadata": {},
   "source": [
    "# 모두의 파이썬 & 알고리즘 (p.208)\n",
    "- 프로그램 : 자료구조 + 알고리즘 + 언어\n",
    "- 알고리즘 : 어떤 문제를 풀기 위한 절차나 방법 / 주어진 입력 정보를 원하는 출력 정보로 만드는 과정"
   ]
  },
  {
   "cell_type": "code",
   "execution_count": 47,
   "metadata": {},
   "outputs": [],
   "source": [
    "import math # math 모듈 import"
   ]
  },
  {
   "cell_type": "code",
   "execution_count": 33,
   "metadata": {},
   "outputs": [],
   "source": [
    "def absTest(num):               # 절댓값 구하기 함수 설정 version 1\n",
    "    if num > 0 : return num\n",
    "    elif num < 0 : return -num\n",
    "    else: return 0"
   ]
  },
  {
   "cell_type": "code",
   "execution_count": 34,
   "metadata": {},
   "outputs": [
    {
     "data": {
      "text/plain": [
       "5"
      ]
     },
     "execution_count": 34,
     "metadata": {},
     "output_type": "execute_result"
    }
   ],
   "source": [
    " absTest(-5)"
   ]
  },
  {
   "cell_type": "code",
   "execution_count": 44,
   "metadata": {},
   "outputs": [],
   "source": [
    "def absTestJegop(num):        # 절댓값 구하기 함수 설정 version 2\n",
    "    return int((num**2)**0.5)"
   ]
  },
  {
   "cell_type": "code",
   "execution_count": 45,
   "metadata": {},
   "outputs": [
    {
     "data": {
      "text/plain": [
       "5"
      ]
     },
     "execution_count": 45,
     "metadata": {},
     "output_type": "execute_result"
    }
   ],
   "source": [
    "absTestJegop(-5)"
   ]
  },
  {
   "cell_type": "code",
   "execution_count": 54,
   "metadata": {},
   "outputs": [],
   "source": [
    "def absTestSqrt(num):         # 절댓값 구하기 함수 설정 version 3 \n",
    "    num = num * num\n",
    "    return int(math.sqrt(num))# math.sqrt() --> 제곱근 구한다"
   ]
  },
  {
   "cell_type": "code",
   "execution_count": 55,
   "metadata": {},
   "outputs": [
    {
     "data": {
      "text/plain": [
       "2"
      ]
     },
     "execution_count": 55,
     "metadata": {},
     "output_type": "execute_result"
    }
   ],
   "source": [
    "absTestSqrt(-2)"
   ]
  },
  {
   "cell_type": "code",
   "execution_count": 60,
   "metadata": {},
   "outputs": [
    {
     "data": {
      "text/plain": [
       "2"
      ]
     },
     "execution_count": 60,
     "metadata": {},
     "output_type": "execute_result"
    }
   ],
   "source": [
    "abs(-2)                       # abs() --> 자체적으로 절댓값 구해주는 함수가 있다"
   ]
  },
  {
   "cell_type": "code",
   "execution_count": 105,
   "metadata": {},
   "outputs": [],
   "source": [
    "def SumZeroToNum(num):        # 1 ~ num까지 모두 더하는 함수\n",
    "    sum = 0\n",
    "    for i in range(num+1): sum += i\n",
    "    return sum"
   ]
  },
  {
   "cell_type": "code",
   "execution_count": 106,
   "metadata": {},
   "outputs": [
    {
     "data": {
      "text/plain": [
       "55"
      ]
     },
     "execution_count": 106,
     "metadata": {},
     "output_type": "execute_result"
    }
   ],
   "source": [
    "SumZeroToNum(10)"
   ]
  },
  {
   "cell_type": "code",
   "execution_count": 102,
   "metadata": {},
   "outputs": [],
   "source": [
    "def numSum(num1, num2):       # 지정한 숫자부터 지정한 숫자까지의 합을 구하는 함수\n",
    "    sum = 0\n",
    "    for i in range(num1, num2+1): sum += i\n",
    "    return sum"
   ]
  },
  {
   "cell_type": "code",
   "execution_count": 103,
   "metadata": {},
   "outputs": [
    {
     "data": {
      "text/plain": [
       "3"
      ]
     },
     "execution_count": 103,
     "metadata": {},
     "output_type": "execute_result"
    }
   ],
   "source": [
    "numSum(1,2)"
   ]
  },
  {
   "cell_type": "code",
   "execution_count": 140,
   "metadata": {},
   "outputs": [],
   "source": [
    "def numSumGaus(num):        # 가우스 방법으로 0부터 num까지 숫자 더하기\n",
    "    return num*(num+1) // 2  # // 로 나눠주면 정수/정수 해도 결과값이 정수가 나온다"
   ]
  },
  {
   "cell_type": "code",
   "execution_count": 141,
   "metadata": {},
   "outputs": [
    {
     "data": {
      "text/plain": [
       "66"
      ]
     },
     "execution_count": 141,
     "metadata": {},
     "output_type": "execute_result"
    }
   ],
   "source": [
    "numSumGaus(11)"
   ]
  },
  {
   "cell_type": "markdown",
   "metadata": {},
   "source": [
    "## 입력 크기와 계산 횟수 ( p 221 )"
   ]
  },
  {
   "cell_type": "markdown",
   "metadata": {},
   "source": [
    "### 알고리즘의 성능 분석 기법\n",
    "1. 실행 시간을 측정\n",
    "2. 알고리즘의 분석도 분석\n",
    " - 시간 복잡도 : 수행 시간 분석\n",
    " - 공간 복잡도 : 수행시 필요로 하는 메모리 공간 분석"
   ]
  },
  {
   "cell_type": "markdown",
   "metadata": {},
   "source": [
    "### 대문자 O 표기법 ('빅 오' 표기법) : 계산 복잡도 표현\n",
    "- 어떤 알고리즘이 문제를 풀기 위해 해야 하는 계산이 얼마나 복잡한지 나타낸 정도\n",
    "- '빅 오'표기법\n",
    " - 계산 횟수를 표현하는 것이 아니라 입력 크기와의 관계로 표현 O(n)\n",
    " - 입력 크기 n과 필요한 계산의 횟수가 무관하면 O(1)\n",
    "- 입력 크기가 큰 문제를 풀 때는 보통 O(1)인 알고리즘이 훨씬 빠르다"
   ]
  },
  {
   "cell_type": "markdown",
   "metadata": {},
   "source": [
    "#### 연습문제 1 ) 1부터 n까지 연속한 숫자의 제곱의 합을 구하는 프로그램을 for문으로 만들기\n",
    "- 계산복잡도는 ? O(n)"
   ]
  },
  {
   "cell_type": "code",
   "execution_count": 152,
   "metadata": {},
   "outputs": [],
   "source": [
    "def sumJegopUseFor(num):\n",
    "    sum = 0\n",
    "    for i in range(1,num+1): sum += i**2\n",
    "    return sum"
   ]
  },
  {
   "cell_type": "code",
   "execution_count": 153,
   "metadata": {},
   "outputs": [
    {
     "data": {
      "text/plain": [
       "385"
      ]
     },
     "execution_count": 153,
     "metadata": {},
     "output_type": "execute_result"
    }
   ],
   "source": [
    "sumJegopUseFor(10)"
   ]
  },
  {
   "cell_type": "markdown",
   "metadata": {},
   "source": [
    "#### 연습문제 1 -1) 1부터 n까지 연속한 숫자의 제곱의 합을 구하는 프로그램 공식으로 만들기"
   ]
  },
  {
   "cell_type": "code",
   "execution_count": 167,
   "metadata": {},
   "outputs": [],
   "source": [
    "def sumJegop(num):\n",
    "        return (num*(num+1)*(2*num+1)) // 6"
   ]
  },
  {
   "cell_type": "code",
   "execution_count": 168,
   "metadata": {},
   "outputs": [
    {
     "data": {
      "text/plain": [
       "385"
      ]
     },
     "execution_count": 168,
     "metadata": {},
     "output_type": "execute_result"
    }
   ],
   "source": [
    "sumJegop(10)"
   ]
  },
  {
   "cell_type": "markdown",
   "metadata": {},
   "source": [
    "#### 주어진 n개의 중 최댓값 찾는 알고리즘 만들기 --> sort 이용"
   ]
  },
  {
   "cell_type": "code",
   "execution_count": 252,
   "metadata": {},
   "outputs": [
    {
     "data": {
      "text/plain": [
       "101"
      ]
     },
     "execution_count": 252,
     "metadata": {},
     "output_type": "execute_result"
    }
   ],
   "source": [
    "nums = '17,92,18,33,58,7,101,42'.split(',')    # len(nums) = 8\n",
    "nums_int = [int (i) for i in nums]\n",
    "nums_int.sort()\n",
    "nums_int[-1]"
   ]
  },
  {
   "cell_type": "markdown",
   "metadata": {},
   "source": [
    "#### 주어진 n개의 중 최댓값 찾는 알고리즘 만들기 --> "
   ]
  },
  {
   "cell_type": "code",
   "execution_count": 260,
   "metadata": {},
   "outputs": [],
   "source": [
    "a= [17,92,18,33,58,7,101,42]\n",
    "def bigFind(list):\n",
    "    big = list[0]\n",
    "    for i in range(len(list)-1):     # i = 0 1 2 3 4 5 .....len(list) // i + 1 = 1, 2, 3, 4, 5 .....len(list)+1\n",
    "        if list[i] > big:\n",
    "            big = list[i]\n",
    "    return big"
   ]
  },
  {
   "cell_type": "code",
   "execution_count": 261,
   "metadata": {},
   "outputs": [
    {
     "data": {
      "text/plain": [
       "101"
      ]
     },
     "execution_count": 261,
     "metadata": {},
     "output_type": "execute_result"
    }
   ],
   "source": [
    "bigFind([17,92,18,33,58,7,101,42])"
   ]
  },
  {
   "cell_type": "code",
   "execution_count": 262,
   "metadata": {},
   "outputs": [],
   "source": [
    "def find_max(a):\n",
    "    m = len(a)\n",
    "    max_v = a[0]\n",
    "    for i in range(1, len(a)):\n",
    "        if a[i] > max_v: max_v = a[i]\n",
    "    return max_v"
   ]
  },
  {
   "cell_type": "code",
   "execution_count": 264,
   "metadata": {},
   "outputs": [
    {
     "data": {
      "text/plain": [
       "101"
      ]
     },
     "execution_count": 264,
     "metadata": {},
     "output_type": "execute_result"
    }
   ],
   "source": [
    "find_max(a)"
   ]
  },
  {
   "cell_type": "markdown",
   "metadata": {},
   "source": [
    "#### 리스트에 숫자가 n개 있을 때  가장 큰 값이 있는 위치 번호를 돌려주는 알고리즘"
   ]
  },
  {
   "cell_type": "code",
   "execution_count": 265,
   "metadata": {},
   "outputs": [],
   "source": [
    "nums_list = '17,92,18,33,58,7,101,42'.split(',')    # len(nums) = 8\n",
    "nums = [int (i) for i in nums]"
   ]
  },
  {
   "cell_type": "code",
   "execution_count": 266,
   "metadata": {},
   "outputs": [],
   "source": [
    "def findIndex(list):\n",
    "    for index in range(1, len(list)): # 0~7\n",
    "        if list[index] > big:\n",
    "            big = list[index]\n",
    "    return list.index(big)"
   ]
  },
  {
   "cell_type": "code",
   "execution_count": 267,
   "metadata": {},
   "outputs": [
    {
     "data": {
      "text/plain": [
       "6"
      ]
     },
     "execution_count": 267,
     "metadata": {},
     "output_type": "execute_result"
    }
   ],
   "source": [
    "findIndex(nums)"
   ]
  },
  {
   "cell_type": "markdown",
   "metadata": {},
   "source": [
    "#### 숫자 n개를 리스트로 입력받아 최솟값을 구하는 프로그램\n",
    "- 계산 복잡도? : O(n)"
   ]
  },
  {
   "cell_type": "code",
   "execution_count": 272,
   "metadata": {},
   "outputs": [],
   "source": [
    "def minFind(list):   # nums = [17,92,18,33,58,7,101,42]\n",
    "    small = list[0]\n",
    "    for i in range(1,len(list)):   # 0~7\n",
    "        if small > list[i]: small = list[i]\n",
    "    return small"
   ]
  },
  {
   "cell_type": "code",
   "execution_count": 273,
   "metadata": {},
   "outputs": [
    {
     "data": {
      "text/plain": [
       "7"
      ]
     },
     "execution_count": 273,
     "metadata": {},
     "output_type": "execute_result"
    }
   ],
   "source": [
    "minFind(nums)"
   ]
  },
  {
   "cell_type": "markdown",
   "metadata": {},
   "source": [
    "#### 숫자 n개를 리스트로 입력받아 최솟값의 인덱스를 구하는 프로그램"
   ]
  },
  {
   "cell_type": "code",
   "execution_count": 276,
   "metadata": {},
   "outputs": [],
   "source": [
    "def minIndex(list):   # nums = [17,92,18,33,58,7,101,42]\n",
    "    small = list[0]\n",
    "    for i in range(1,len(list)):   # 0~7\n",
    "        if small > list[i]: small = list[i]\n",
    "    return list.index(small)"
   ]
  },
  {
   "cell_type": "code",
   "execution_count": 277,
   "metadata": {},
   "outputs": [
    {
     "data": {
      "text/plain": [
       "5"
      ]
     },
     "execution_count": 277,
     "metadata": {},
     "output_type": "execute_result"
    }
   ],
   "source": [
    "minIndex(nums)"
   ]
  },
  {
   "cell_type": "markdown",
   "metadata": {},
   "source": [
    "#### 숫자 n개를 리스트로 입력받아 최솟갑과 최솟값의 인덱스 모두 구하는 프로그램"
   ]
  },
  {
   "cell_type": "code",
   "execution_count": 287,
   "metadata": {},
   "outputs": [],
   "source": [
    "def minAndIndex(list):   # nums = [17,92,18,33,58,7,101,42]\n",
    "    small = list[0]\n",
    "    for i in range(1,len(list)):   # 0~7\n",
    "        if small > list[i]: small = list[i]\n",
    "    return print(f'최솟값은 {small}, 최솟값의 인덱스는 {list.index(small)}')"
   ]
  },
  {
   "cell_type": "code",
   "execution_count": 288,
   "metadata": {},
   "outputs": [
    {
     "name": "stdout",
     "output_type": "stream",
     "text": [
      "최솟값은 7, 최솟값의 인덱스는 5\n"
     ]
    }
   ],
   "source": [
    "minAndIndex(nums)"
   ]
  },
  {
   "cell_type": "markdown",
   "metadata": {},
   "source": [
    "#### n명의 사람 이름 중에서 같은 이름을 찾아 집합으로 만들어 돌려주는 알고리즘\n",
    "- 동명이인 찾기\n",
    "- 집합 : 여러 개 넣어서 보관할 수 있는 파이썬의 자료형\n",
    " - 집합 하나에는 같은 자료가 중복되어 들어가지 않고, 자료의 순서도 의미가 없다"
   ]
  },
  {
   "cell_type": "code",
   "execution_count": 346,
   "metadata": {},
   "outputs": [],
   "source": [
    "names = ['tom', 'jerry', 'mike', 'kate', 'jerry', 'tom', 'bob', 'harry', 'nataly']"
   ]
  },
  {
   "cell_type": "code",
   "execution_count": 330,
   "metadata": {},
   "outputs": [],
   "source": [
    "def findSameName(list):\n",
    "    sameName = set()\n",
    "    for i in list:\n",
    "        if list.count(i) >= 2: sameName.add(i)   # count함수 사용 list.count(원소) --> list 안에 원소의 갯수 구함\n",
    "    return sameName"
   ]
  },
  {
   "cell_type": "code",
   "execution_count": 331,
   "metadata": {},
   "outputs": [
    {
     "data": {
      "text/plain": [
       "{'jerry', 'tom'}"
      ]
     },
     "execution_count": 331,
     "metadata": {},
     "output_type": "execute_result"
    }
   ],
   "source": [
    "findSameName(names)"
   ]
  },
  {
   "cell_type": "code",
   "execution_count": 441,
   "metadata": {},
   "outputs": [],
   "source": [
    "names = ['tom', 'jerry', 'mike', 'kate', 'jerry', 'tom', 'bob', 'harry', 'jay']\n",
    "\n",
    "def sameNamePop(list):\n",
    "    b= []\n",
    "    for i in range(0,len(list)-1):\n",
    "        for j in range(i+1,len(list)):      # i+1 ! i 번째 이전과 j를 비교할 필요 없다!!!!!!!!\n",
    "            if list[i] == list[j]: b.append(list[j])\n",
    "    return set(b)"
   ]
  },
  {
   "cell_type": "code",
   "execution_count": 442,
   "metadata": {},
   "outputs": [
    {
     "data": {
      "text/plain": [
       "{'jerry', 'tom'}"
      ]
     },
     "execution_count": 442,
     "metadata": {},
     "output_type": "execute_result"
    }
   ],
   "source": [
    "sameNamePop(names)"
   ]
  },
  {
   "cell_type": "markdown",
   "metadata": {},
   "source": [
    "#### 팩토리얼 구하기"
   ]
  },
  {
   "cell_type": "code",
   "execution_count": 434,
   "metadata": {},
   "outputs": [],
   "source": [
    "def facto(num):\n",
    "    gop = 1\n",
    "    for i in range(1,num+1): gop *= i\n",
    "    return gop"
   ]
  },
  {
   "cell_type": "code",
   "execution_count": 438,
   "metadata": {},
   "outputs": [
    {
     "data": {
      "text/plain": [
       "720"
      ]
     },
     "execution_count": 438,
     "metadata": {},
     "output_type": "execute_result"
    }
   ],
   "source": [
    "facto(6)"
   ]
  },
  {
   "cell_type": "code",
   "execution_count": 443,
   "metadata": {},
   "outputs": [
    {
     "data": {
      "text/plain": [
       "1"
      ]
     },
     "execution_count": 443,
     "metadata": {},
     "output_type": "execute_result"
    }
   ],
   "source": [
    "facto(0)"
   ]
  },
  {
   "cell_type": "markdown",
   "metadata": {},
   "source": [
    "#### 재귀 호출\n",
    "- 어떤 함수 안에서 자기 자신을 부르는 것"
   ]
  },
  {
   "cell_type": "code",
   "execution_count": 505,
   "metadata": {},
   "outputs": [],
   "source": [
    "# 재귀함수 사용해서 팩토리얼 만들기\n",
    "def jagyu(num):\n",
    "    if num <= 1 : return 1\n",
    "    return num * jagyu(num-1)"
   ]
  },
  {
   "cell_type": "code",
   "execution_count": 506,
   "metadata": {},
   "outputs": [
    {
     "data": {
      "text/plain": [
       "720"
      ]
     },
     "execution_count": 506,
     "metadata": {},
     "output_type": "execute_result"
    }
   ],
   "source": [
    "jagyu(3)"
   ]
  },
  {
   "cell_type": "markdown",
   "metadata": {},
   "source": [
    "### 피보나치 만들기 ) 재귀함수 사용 ( p 249  4-3 )\n",
    "- 0 1 1 2 3 5 8 13 21 34 55 .."
   ]
  },
  {
   "cell_type": "code",
   "execution_count": 570,
   "metadata": {},
   "outputs": [],
   "source": [
    "def fibo(num):\n",
    "    if (num-2) <= 0: return 1\n",
    "    return fibo(num-2) + fibo(num-1)"
   ]
  },
  {
   "cell_type": "code",
   "execution_count": 592,
   "metadata": {},
   "outputs": [
    {
     "data": {
      "text/plain": [
       "2"
      ]
     },
     "execution_count": 592,
     "metadata": {},
     "output_type": "execute_result"
    }
   ],
   "source": [
    "fibo(3)"
   ]
  },
  {
   "cell_type": "markdown",
   "metadata": {},
   "source": [
    "### 1부터 n까지의 합 구하기 ) 재귀함수 사용 ( p 249 4-1 )"
   ]
  },
  {
   "cell_type": "code",
   "execution_count": 576,
   "metadata": {},
   "outputs": [],
   "source": [
    "def numPlus(n):\n",
    "    if n == 1 : return 1\n",
    "    return numPlus(n-1) + n"
   ]
  },
  {
   "cell_type": "code",
   "execution_count": 580,
   "metadata": {},
   "outputs": [
    {
     "data": {
      "text/plain": [
       "6"
      ]
     },
     "execution_count": 580,
     "metadata": {},
     "output_type": "execute_result"
    }
   ],
   "source": [
    "numPlus(3)"
   ]
  },
  {
   "cell_type": "markdown",
   "metadata": {},
   "source": [
    "### 숫자 n개중에서 최댓값 구하기 ) 재귀함수 사용 ( p 249 4-1 )"
   ]
  },
  {
   "cell_type": "code",
   "execution_count": 632,
   "metadata": {},
   "outputs": [],
   "source": [
    "nums = [11,2000002,33,44,3,6,88,445,2,67,1020,10003]\n",
    "def maxFind(list, n) :                # maxFind(리스트, (원소 수 >=1))\n",
    "    if n-1 == 0: return list[0]\n",
    "    if list[0] > list[n-1]:\n",
    "        list.pop(n-1)\n",
    "    else: list.pop(0)\n",
    "    return maxFind(list, (n-1))"
   ]
  },
  {
   "cell_type": "code",
   "execution_count": 634,
   "metadata": {},
   "outputs": [
    {
     "data": {
      "text/plain": [
       "2000002"
      ]
     },
     "execution_count": 634,
     "metadata": {},
     "output_type": "execute_result"
    }
   ],
   "source": [
    "maxFind(nums,12)"
   ]
  },
  {
   "cell_type": "markdown",
   "metadata": {},
   "source": [
    "### 하노이의 탑 옮기기 --> 과제\n",
    "- abc/0/0\n",
    "- bc/0/a\n",
    "- c/b/a\n",
    "- c/ab/0\n",
    "- 0/ab/c\n",
    "- a/b/c\n",
    "- a/0/bc\n",
    "- 0/0abc"
   ]
  },
  {
   "cell_type": "code",
   "execution_count": null,
   "metadata": {},
   "outputs": [],
   "source": []
  }
 ],
 "metadata": {
  "kernelspec": {
   "display_name": "Python 3",
   "language": "python",
   "name": "python3"
  },
  "language_info": {
   "codemirror_mode": {
    "name": "ipython",
    "version": 3
   },
   "file_extension": ".py",
   "mimetype": "text/x-python",
   "name": "python",
   "nbconvert_exporter": "python",
   "pygments_lexer": "ipython3",
   "version": "3.7.5"
  }
 },
 "nbformat": 4,
 "nbformat_minor": 2
}
