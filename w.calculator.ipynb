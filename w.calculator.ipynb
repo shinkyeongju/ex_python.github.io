{
 "cells": [
  {
   "cell_type": "code",
   "execution_count": 1,
   "metadata": {},
   "outputs": [],
   "source": [
    "from tkinter import *\n",
    "\n",
    "def cal():\n",
    "    global col_index, s\n",
    "    window = Tk()\n",
    "    window.title('My Calculator')\n",
    "    display = Entry(window, width = 33, bg = 'pink')\n",
    "    display.grid(row = 0, column = 0, columnspan = 5)\n",
    "    bt_list = '7,8,9,/,C,4,5,6,*,%,1,2,3,-,**,0,,=,+,←'.split(\",\")\n",
    "    print(bt_list)\n",
    "\n",
    "    col_index = 0\n",
    "    row_num = 1\n",
    "    for button_text in bt_list:       # command =lambda x = button_text : click(x) --> button_text 가 x로 가고 x가 click()으로 간다.\n",
    "        Button(window, text=button_text, width = 5, command =lambda x = button_text : click(x)).grid(row = row_num, column = col_index)\n",
    "    #     btn = Button(window, text=bt_text, width = 5)\n",
    "    #     btn.grid(row = row_num, column = col_index)              \n",
    "        col_index += 1\n",
    "        if col_index == 5:      # row 변경 해주는 code\n",
    "            row_num+=1\n",
    "            col_index = 0\n",
    "    def click(key):\n",
    "        if key == '=':\n",
    "            result = eval(display.get())\n",
    "            s = str(result)\n",
    "            display.insert(END, '=' + s)\n",
    "        elif key == 'C':\n",
    "            display.delete(0, END)               # delete(시작점,끝점) --> 시작점부터 끝점까지 지운다.\n",
    "        elif key == '←':\n",
    "            size = len(display.get())\n",
    "            display.delete(size-1,END)\n",
    "        else: display.insert(END, key)\n",
    "    window.mainloop()"
   ]
  },
  {
   "cell_type": "code",
   "execution_count": 2,
   "metadata": {},
   "outputs": [
    {
     "name": "stdout",
     "output_type": "stream",
     "text": [
      "['7', '8', '9', '/', 'C', '4', '5', '6', '*', '%', '1', '2', '3', '-', '**', '0', '', '=', '+', '←']\n"
     ]
    }
   ],
   "source": [
    "cal()"
   ]
  },
  {
   "cell_type": "code",
   "execution_count": null,
   "metadata": {},
   "outputs": [],
   "source": []
  }
 ],
 "metadata": {
  "kernelspec": {
   "display_name": "Python 3",
   "language": "python",
   "name": "python3"
  },
  "language_info": {
   "codemirror_mode": {
    "name": "ipython",
    "version": 3
   },
   "file_extension": ".py",
   "mimetype": "text/x-python",
   "name": "python",
   "nbconvert_exporter": "python",
   "pygments_lexer": "ipython3",
   "version": "3.7.5"
  }
 },
 "nbformat": 4,
 "nbformat_minor": 2
}
