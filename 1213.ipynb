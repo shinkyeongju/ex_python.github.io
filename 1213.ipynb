{
 "cells": [
  {
   "cell_type": "markdown",
   "metadata": {},
   "source": [
    "# 과제 - 문제 3"
   ]
  },
  {
   "cell_type": "code",
   "execution_count": 6,
   "metadata": {},
   "outputs": [
    {
     "name": "stdout",
     "output_type": "stream",
     "text": [
      "input : A gift in season is a double favor to the needy.\n"
     ]
    },
    {
     "data": {
      "text/plain": [
       "['gift', 'in', 'season', 'is', 'double', 'favor', 'to', 'needy.']"
      ]
     },
     "execution_count": 6,
     "metadata": {},
     "output_type": "execute_result"
    }
   ],
   "source": [
    "# A gift in season is a double favor to the needy.\n",
    "words = input('input : ').split()\n",
    "\n",
    "# i = 0\n",
    "# while i < len(words):\n",
    "#     if words[i].upper() == 'A' or words[i].upper() == 'AN' or words[i].upper() == 'THE':\n",
    "#         del words[i]\n",
    "#     i +=1 \n",
    "# words\n",
    "\n",
    "for i in words:\n",
    "    if i.upper() == 'A' or i.upper() == 'AN' or i.upper() == 'THE':\n",
    "        words.remove(i)\n",
    "words"
   ]
  },
  {
   "cell_type": "code",
   "execution_count": 7,
   "metadata": {},
   "outputs": [
    {
     "name": "stdout",
     "output_type": "stream",
     "text": [
      "input : A gift in season is a double favor to the needy.\n"
     ]
    },
    {
     "data": {
      "text/plain": [
       "['gift', 'in', 'season', 'is', 'double', 'favor', 'to', 'needy.']"
      ]
     },
     "execution_count": 7,
     "metadata": {},
     "output_type": "execute_result"
    }
   ],
   "source": [
    "# A gift in season is a double favor to the needy.\n",
    "words = input('input : ').split()\n",
    "for i in words:\n",
    "    if i.upper() == 'A' or i.upper() == 'AN' or i.upper() == 'THE': # if i.upper() in ['A', 'An', 'THE']\n",
    "        words.remove(i)\n",
    "words"
   ]
  },
  {
   "cell_type": "code",
   "execution_count": 21,
   "metadata": {},
   "outputs": [
    {
     "name": "stdout",
     "output_type": "stream",
     "text": [
      "input : A gift in season is a double favor to the needy.\n"
     ]
    },
    {
     "data": {
      "text/plain": [
       "['gift', 'in', 'season', 'is', 'double', 'favor', 'to', 'needy.']"
      ]
     },
     "execution_count": 21,
     "metadata": {},
     "output_type": "execute_result"
    }
   ],
   "source": [
    "# A gift in season is a double favor to the needy.\n",
    "words = input('input : ').split()\n",
    "for i in words:\n",
    "    if i.upper() in ['A', 'An', 'THE']:\n",
    "        words.remove(i)\n",
    "words"
   ]
  },
  {
   "cell_type": "markdown",
   "metadata": {},
   "source": [
    "# 문제 3 - 다른 풀이"
   ]
  },
  {
   "cell_type": "code",
   "execution_count": 42,
   "metadata": {},
   "outputs": [
    {
     "name": "stdout",
     "output_type": "stream",
     "text": [
      "input : A gift in season is a double favor to the needy.\n"
     ]
    },
    {
     "data": {
      "text/plain": [
       "['gift', 'in', 'season', 'is', 'double', 'favor', 'to', 'needy.']"
      ]
     },
     "execution_count": 42,
     "metadata": {},
     "output_type": "execute_result"
    }
   ],
   "source": [
    "# A gift in season is a double favor to the needy.\n",
    "words = input('input : ').split()\n",
    "words_len = len(words)\n",
    "\n",
    "for i in range(-words_len,0):\n",
    "    if words[i].upper() in ['A', 'An', 'THE']:\n",
    "        del words[i]\n",
    "words"
   ]
  },
  {
   "cell_type": "markdown",
   "metadata": {},
   "source": [
    "# 과제 - 문제 4"
   ]
  },
  {
   "cell_type": "code",
   "execution_count": 16,
   "metadata": {},
   "outputs": [
    {
     "name": "stdout",
     "output_type": "stream",
     "text": [
      "복권 번호를 맞춰보세yo! \n",
      "\n",
      "4개의 숫자를 입력하세요 : 1 2 3 4\n",
      "이번주 복권 당첨 번호는 [1, 3, 4, 5] 입니다.\n",
      "맞춘 숫자는 [1, 3, 4]입니다.\n",
      "3개를 맞춰 당첨금은 5000 원입니다.\n",
      "\n",
      "또 하시겠습니까? : (y or n) : 1 2 3 4 \n",
      "4개의 숫자를 입력하세요 : 1 2 3 4\n",
      "이번주 복권 당첨 번호는 [1, 2, 3, 5] 입니다.\n",
      "맞춘 숫자는 [1, 2, 3]입니다.\n",
      "3개를 맞춰 당첨금은 5000 원입니다.\n",
      "\n",
      "또 하시겠습니까? : (y or n) : n\n",
      "\n",
      "총 당첨금은 ●●●●10000원●●●●입니다.\n"
     ]
    }
   ],
   "source": [
    "import random\n",
    "\n",
    "print('복권 번호를 맞춰보세yo! \\n')\n",
    "sum = 0\n",
    "while True:\n",
    "    nums = input('4개의 숫자를 입력하세요 : ').split()\n",
    "    nums = [int (i) for i in nums]\n",
    "    ran = random.sample(range(1,6), 4)\n",
    "    ran.sort()\n",
    "    \n",
    "    print(f'이번주 복권 당첨 번호는 {ran} 입니다.')\n",
    "    \n",
    "    same = []\n",
    "    for i in nums:\n",
    "        for j in ran:\n",
    "                if i == j:\n",
    "                    same.append(j)\n",
    "    print(f'맞춘 숫자는 {same}입니다.')\n",
    "    \n",
    "    \n",
    "    if len(same) == 3: dangchum = 5000\n",
    "    elif len(same) == 4: dangchum = 10000\n",
    "    else: dangchum = 0\n",
    "     \n",
    "    print(f'{len(same)}개를 맞춰 당첨금은 {dangchum} 원입니다.\\n')\n",
    "    \n",
    "    sum += dangchum\n",
    "       \n",
    "    q = input('또 하시겠습니까? : (y or n) : ')\n",
    "    if q.upper() == 'Y':\n",
    "        continue\n",
    "    elif q.upper() == 'N':\n",
    "        break\n",
    "\n",
    "print(f'\\n총 당첨금은 ●●●●{sum}원●●●●입니다.')"
   ]
  },
  {
   "cell_type": "code",
   "execution_count": 19,
   "metadata": {},
   "outputs": [
    {
     "name": "stdout",
     "output_type": "stream",
     "text": [
      "복권 번호를 맞춰보세yo! \n",
      "\n",
      "4개의 숫자를 입력하세요 : 1 2 3 4\n",
      "이번주 복권 당첨 번호는 [1, 2, 3, 4] 입니다.\n",
      "맞춘 숫자는 {1, 2, 3, 4}입니다.\n",
      "4개를 맞춰 당첨금은 10000 원입니다.\n",
      "\n",
      "또 하시겠습니까? : (y or n) : n\n",
      "\n",
      "총 당첨금은 ●●●●10000원●●●●입니다.\n"
     ]
    }
   ],
   "source": [
    "import random\n",
    "\n",
    "print('복권 번호를 맞춰보세yo! \\n')\n",
    "sum = 0\n",
    "while True:\n",
    "    nums = input('4개의 숫자를 입력하세요 : ').split()\n",
    "    nums = [int (i) for i in nums]\n",
    "    ran = random.sample(range(1,6), 4)\n",
    "    ran.sort()\n",
    "    \n",
    "    print(f'이번주 복권 당첨 번호는 {ran} 입니다.')\n",
    "    \n",
    "    same = set(ran) & set(nums)\n",
    "    print(f'맞춘 숫자는 {same}입니다.')\n",
    "    \n",
    "    if len(same) == 3: dangchum = 5000\n",
    "    elif len(same) == 4: dangchum = 10000\n",
    "    else: dangchum = 0\n",
    "     \n",
    "    print(f'{len(same)}개를 맞춰 당첨금은 {dangchum} 원입니다.\\n')\n",
    "    \n",
    "    sum += dangchum\n",
    "       \n",
    "    q = input('또 하시겠습니까? : (y or n) : ')\n",
    "    if q.upper() == 'Y':\n",
    "        continue\n",
    "    elif q.upper() == 'N':\n",
    "        break\n",
    "\n",
    "print(f'\\n총 당첨금은 ●●●●{sum}원●●●●입니다.')"
   ]
  },
  {
   "cell_type": "markdown",
   "metadata": {},
   "source": [
    "# 예제2) 비밀 번호 맞추기"
   ]
  },
  {
   "cell_type": "code",
   "execution_count": 28,
   "metadata": {},
   "outputs": [
    {
     "name": "stdout",
     "output_type": "stream",
     "text": [
      "비밀번호를 설정하세요\n",
      "1\n",
      "비밀번호를 입력하세요\n",
      "2\n",
      "비밀번호를 틀렸습니다. 남은 횟수 : 4\n",
      "\n",
      "비밀번호를 입력하세요\n",
      "2\n",
      "비밀번호를 틀렸습니다. 남은 횟수 : 3\n",
      "\n",
      "비밀번호를 입력하세요\n",
      "2\n",
      "비밀번호를 틀렸습니다. 남은 횟수 : 2\n",
      "\n",
      "비밀번호를 입력하세요\n",
      "1\n",
      "로그인 성공\n"
     ]
    }
   ],
   "source": [
    "secret = input('비밀번호를 설정하세요\\n')\n",
    "\n",
    "for i in range(5,0,-1):\n",
    "    pw = input('비밀번호를 입력하세요\\n')\n",
    "    if secret == pw :\n",
    "        print('로그인 성공')\n",
    "        break\n",
    "    else:\n",
    "        print(f'비밀번호를 틀렸습니다. 남은 횟수 : {i-1}\\n')\n",
    "else:\n",
    "    print('\\n로그인 실패! 10분 후 다시 시도하세요')"
   ]
  },
  {
   "cell_type": "markdown",
   "metadata": {},
   "source": [
    "# 예제2) 동 이름 추출 -1"
   ]
  },
  {
   "cell_type": "code",
   "execution_count": 40,
   "metadata": {},
   "outputs": [
    {
     "name": "stdout",
     "output_type": "stream",
     "text": [
      "input : 강동구 노원구 용산구 상암동1 서울시 논현동1 평창동1 중구\n",
      "동이 없습니다.\n"
     ]
    }
   ],
   "source": [
    "# 구 이름과 동 이름을 입력 받아 그 중 첫 번째 동 이름만 출력\n",
    "# 동 이름이 없을 시, '동 이름이 없습니다.'를 출력\n",
    "# 강동구 노원구 용산구 상암동 서울시 논현동 평창동 중구\n",
    "\n",
    "locs = input('input : ').split()\n",
    "for i in locs:\n",
    "    if i[-1] == '동':\n",
    "        print(i)\n",
    "        break\n",
    "else: print('동이 없습니다.')        "
   ]
  },
  {
   "cell_type": "markdown",
   "metadata": {},
   "source": [
    "# 3이상 100 미만의 소수 찾기"
   ]
  },
  {
   "cell_type": "code",
   "execution_count": 52,
   "metadata": {},
   "outputs": [
    {
     "name": "stdout",
     "output_type": "stream",
     "text": [
      "3 소수\n",
      "5 소수\n",
      "7 소수\n",
      "11 소수\n",
      "13 소수\n",
      "17 소수\n",
      "19 소수\n",
      "23 소수\n",
      "29 소수\n",
      "31 소수\n",
      "37 소수\n",
      "41 소수\n",
      "43 소수\n",
      "47 소수\n",
      "53 소수\n",
      "59 소수\n",
      "61 소수\n",
      "67 소수\n",
      "71 소수\n",
      "73 소수\n",
      "79 소수\n",
      "83 소수\n",
      "89 소수\n",
      "97 소수\n"
     ]
    }
   ],
   "source": [
    "for i in range(3,100,2):\n",
    "    for d in range(3,i,2):\n",
    "        if i % d == 0:\n",
    "            break\n",
    "    else: print(i, '소수')"
   ]
  },
  {
   "cell_type": "markdown",
   "metadata": {},
   "source": [
    "#  소수 판별"
   ]
  },
  {
   "cell_type": "code",
   "execution_count": 66,
   "metadata": {},
   "outputs": [
    {
     "name": "stdout",
     "output_type": "stream",
     "text": [
      "3 소수\n",
      "5 소수\n",
      "7 소수\n",
      "9 소수\n",
      "11 소수\n",
      "13 소수\n",
      "15 소수\n",
      "17 소수\n",
      "19 소수\n",
      "21 소수\n",
      "23 소수\n",
      "25 소수\n",
      "27 소수\n",
      "29 소수\n",
      "31 소수\n",
      "33 소수\n",
      "35 소수\n",
      "37 소수\n",
      "39 소수\n",
      "41 소수\n",
      "43 소수\n",
      "45 소수\n",
      "47 소수\n",
      "49 소수\n",
      "51 소수\n",
      "53 소수\n",
      "55 소수\n",
      "57 소수\n",
      "59 소수\n",
      "61 소수\n",
      "63 소수\n",
      "65 소수\n",
      "67 소수\n",
      "69 소수\n",
      "71 소수\n",
      "73 소수\n",
      "75 소수\n",
      "77 소수\n",
      "79 소수\n",
      "81 소수\n",
      "83 소수\n",
      "85 소수\n",
      "87 소수\n",
      "89 소수\n",
      "91 소수\n",
      "93 소수\n",
      "95 소수\n",
      "97 소수\n",
      "99 소수\n"
     ]
    }
   ],
   "source": [
    "primes = []\n",
    "for n in range(3, 100, 2):\n",
    "    for di in primes:\n",
    "        if n % di == 0: break\n",
    "    else: primes.append(n)\n",
    "    print(n, '소수')"
   ]
  },
  {
   "cell_type": "markdown",
   "metadata": {},
   "source": [
    "# 야구 게임"
   ]
  },
  {
   "cell_type": "code",
   "execution_count": null,
   "metadata": {},
   "outputs": [
    {
     "name": "stdout",
     "output_type": "stream",
     "text": [
      "숫자 3자리 입력해요 : 1 2 3\n",
      "숫자 3자리 입력해요 : 4 3 5\n"
     ]
    }
   ],
   "source": [
    "import random\n",
    "com = random.sample(range(9),3)\n",
    "computer = [str (i) for i in com]\n",
    "# computer_set=set(computer)\n",
    "# computer_tuple=tuple(computer)\n",
    "computer_string = computer[0]+computer[1]+computer[2]\n",
    "\n",
    "for count in range(10):\n",
    "    me = input('숫자 3자리 입력해요 : ').split()\n",
    "#     me_set=set(me)\n",
    "#     me_tuple=tuple(me)\n",
    "    me_string = me[0]+me[1]+me[2]\n",
    "    \n",
    "    if me_string == computer_string:\n",
    "        print('out')\n",
    "    elif len(computer_set & me_set) == 1:\n",
    "        for i in range(3):\n",
    "            if computer_tuple[i] == me_tuple[i]:\n",
    "                strike = 1\n",
    "            else: ball = 1\n",
    "        continue\n",
    "    elif len(computer_set & me_set) == 2:\n",
    "        for i in range(3):\n",
    "            if computer_tuple[i] == me_tuple[i]:\n",
    "                strike = 2\n",
    "            else: ball = 2\n",
    "        continue\n",
    "    elif len(computer_set & me_set) == 3:\n",
    "        for i in range(3):\n",
    "            if computer_tuple[i] == me_tuple[i]:\n",
    "                strike = 3\n",
    "                break\n",
    "            else: ball = 3\n",
    "        continue\n",
    "else: print(f'기회를 다 소진했다. 정답은 {computer}')\n",
    "print('맞춤')            "
   ]
  },
  {
   "cell_type": "code",
   "execution_count": null,
   "metadata": {},
   "outputs": [],
   "source": [
    "import random\n",
    "com = random.sample(range(9),3)\n",
    "computer = [str (i) for i in com]\n",
    "computer_string = computer[0]+computer[1]+computer[2] # computer_string = ''.join(random.sample('0123456789',3))\n",
    "\n",
    "print(computer)\n",
    "\n",
    "for count in range(10):\n",
    "    me = input('숫자 3자리 입력해요 : ').split()\n",
    "    me_string = me[0]+me[1]+me[2]\n",
    "    strikes = 0\n",
    "    balls = 0\n",
    "    \n",
    "    for i in range(3): # 0, 1, 2\n",
    "        if me_string[i] == computer_string[i]: # 00/11/22 \n",
    "                strikes += 1\n",
    "        for j in range(3): # 0, 1, 2\n",
    "            if strikes == 3 :\n",
    "                    break\n",
    "            if me_string[i] == computer_string[j]: # 01/02 // 10/12 // 20/21\n",
    "                if i == j:\n",
    "                    continue\n",
    "                balls += 1\n",
    "            if me_string[0] != computer_string[0] and me_string[1] != computer_string[1] and me_string[2] != computer_string[2]: \n",
    "                print('out')\n",
    "    print(f'스트라이크 : {strikes}, 볼 : {balls}')\n",
    "else: print(f'기회를 다 소진했다. 정답은 {computer}')\n",
    "print('맞춤')            "
   ]
  },
  {
   "cell_type": "code",
   "execution_count": null,
   "metadata": {},
   "outputs": [],
   "source": [
    "for chance in range(10,0,-1):\n",
    "    guess = input(' 숫자 입력 : ')\n",
    "    strike , ball = 0, 0\n",
    "    for i in ragne(3):\n",
    "#         if guess[i] in secret:\n",
    "#             if guess[i] == secret[i] : strike += 1\n",
    "#                 else: ball += 1\n",
    "        if guess[i] == secret[i] : strike += 1\n",
    "        elif guess[i] == in secret: ball += 1\n",
    "    if strike == 3: break\n",
    "        \n",
    "    if strike > 0\n"
   ]
  },
  {
   "cell_type": "markdown",
   "metadata": {},
   "source": [
    "# list comprehension "
   ]
  },
  {
   "cell_type": "code",
   "execution_count": 1,
   "metadata": {},
   "outputs": [
    {
     "data": {
      "text/plain": [
       "[1, 4, 9, 16, 25, 36, 49, 64, 81, 100]"
      ]
     },
     "execution_count": 1,
     "metadata": {},
     "output_type": "execute_result"
    }
   ],
   "source": [
    "x = []\n",
    "for i in range(1,11):\n",
    "    x.append(i**2)\n",
    "x\n",
    "\n",
    "# 같은 표현\n",
    "# x = [i**2 for i in range(1,11)]"
   ]
  },
  {
   "cell_type": "markdown",
   "metadata": {},
   "source": [
    "# ord() 를 쓰면 알파벳을 숫자로 변경"
   ]
  },
  {
   "cell_type": "code",
   "execution_count": 2,
   "metadata": {},
   "outputs": [
    {
     "data": {
      "text/plain": [
       "97"
      ]
     },
     "execution_count": 2,
     "metadata": {},
     "output_type": "execute_result"
    }
   ],
   "source": [
    "ord('a')"
   ]
  },
  {
   "cell_type": "code",
   "execution_count": 3,
   "metadata": {},
   "outputs": [
    {
     "data": {
      "text/plain": [
       "65"
      ]
     },
     "execution_count": 3,
     "metadata": {},
     "output_type": "execute_result"
    }
   ],
   "source": [
    "ord('A')"
   ]
  },
  {
   "cell_type": "markdown",
   "metadata": {},
   "source": [
    "# chr()를 이용하여 문자를 숫자로 변경"
   ]
  },
  {
   "cell_type": "code",
   "execution_count": 5,
   "metadata": {},
   "outputs": [
    {
     "data": {
      "text/plain": [
       "['a',\n",
       " 'b',\n",
       " 'c',\n",
       " 'd',\n",
       " 'e',\n",
       " 'f',\n",
       " 'g',\n",
       " 'h',\n",
       " 'i',\n",
       " 'j',\n",
       " 'k',\n",
       " 'l',\n",
       " 'm',\n",
       " 'n',\n",
       " 'o',\n",
       " 'p',\n",
       " 'q',\n",
       " 'r',\n",
       " 's',\n",
       " 't',\n",
       " 'u',\n",
       " 'v',\n",
       " 'w',\n",
       " 'x',\n",
       " 'y',\n",
       " 'z']"
      ]
     },
     "execution_count": 5,
     "metadata": {},
     "output_type": "execute_result"
    }
   ],
   "source": [
    "[chr(x) for x in range(ord('a'), ord('z')+1)]\n",
    "# chr(x) for ord('a') <= x < ord('z') + 1"
   ]
  },
  {
   "cell_type": "markdown",
   "metadata": {},
   "source": [
    "# 구구단을 list comprehension 이용해서 만들기"
   ]
  },
  {
   "cell_type": "code",
   "execution_count": 7,
   "metadata": {},
   "outputs": [
    {
     "data": {
      "text/plain": [
       "['2 * 2 = 4',\n",
       " '2 * 3 = 6',\n",
       " '2 * 4 = 8',\n",
       " '2 * 5 = 10',\n",
       " '2 * 6 = 12',\n",
       " '2 * 7 = 14',\n",
       " '2 * 8 = 16',\n",
       " '2 * 9 = 18',\n",
       " '3 * 2 = 6',\n",
       " '3 * 3 = 9',\n",
       " '3 * 4 = 12',\n",
       " '3 * 5 = 15',\n",
       " '3 * 6 = 18',\n",
       " '3 * 7 = 21',\n",
       " '3 * 8 = 24',\n",
       " '3 * 9 = 27',\n",
       " '4 * 2 = 8',\n",
       " '4 * 3 = 12',\n",
       " '4 * 4 = 16',\n",
       " '4 * 5 = 20',\n",
       " '4 * 6 = 24',\n",
       " '4 * 7 = 28',\n",
       " '4 * 8 = 32',\n",
       " '4 * 9 = 36',\n",
       " '5 * 2 = 10',\n",
       " '5 * 3 = 15',\n",
       " '5 * 4 = 20',\n",
       " '5 * 5 = 25',\n",
       " '5 * 6 = 30',\n",
       " '5 * 7 = 35',\n",
       " '5 * 8 = 40',\n",
       " '5 * 9 = 45',\n",
       " '6 * 2 = 12',\n",
       " '6 * 3 = 18',\n",
       " '6 * 4 = 24',\n",
       " '6 * 5 = 30',\n",
       " '6 * 6 = 36',\n",
       " '6 * 7 = 42',\n",
       " '6 * 8 = 48',\n",
       " '6 * 9 = 54',\n",
       " '7 * 2 = 14',\n",
       " '7 * 3 = 21',\n",
       " '7 * 4 = 28',\n",
       " '7 * 5 = 35',\n",
       " '7 * 6 = 42',\n",
       " '7 * 7 = 49',\n",
       " '7 * 8 = 56',\n",
       " '7 * 9 = 63',\n",
       " '8 * 2 = 16',\n",
       " '8 * 3 = 24',\n",
       " '8 * 4 = 32',\n",
       " '8 * 5 = 40',\n",
       " '8 * 6 = 48',\n",
       " '8 * 7 = 56',\n",
       " '8 * 8 = 64',\n",
       " '8 * 9 = 72',\n",
       " '9 * 2 = 18',\n",
       " '9 * 3 = 27',\n",
       " '9 * 4 = 36',\n",
       " '9 * 5 = 45',\n",
       " '9 * 6 = 54',\n",
       " '9 * 7 = 63',\n",
       " '9 * 8 = 72',\n",
       " '9 * 9 = 81']"
      ]
     },
     "execution_count": 7,
     "metadata": {},
     "output_type": "execute_result"
    }
   ],
   "source": [
    "[f'{a} * {b} = {a*b}' for a in range(2,10) for b in range(2,10)]"
   ]
  },
  {
   "cell_type": "markdown",
   "metadata": {},
   "source": [
    "# Dictionary\n",
    "- a= {key1 : value1, key2 : value2, ...}의 형태\n",
    "- value의 선택\n",
    "    1. a[key]\n",
    "    2. a.get(key)\n",
    "        - 1번과 2번의 차이는? 1번은 없는 key값을 넣으면 오류 발생 / 2번은 값 없음(None)\n",
    "    3. key값은 수정이 불가능한 형태가 와야한다. 중복도 x\n",
    "    4. keys() - key만 모아서 반환\n",
    "    5. values() - value만 모아서 반환\n",
    "    6. items() - key와 value 쌍들을 반환"
   ]
  },
  {
   "cell_type": "code",
   "execution_count": 8,
   "metadata": {},
   "outputs": [
    {
     "data": {
      "text/plain": [
       "'a'"
      ]
     },
     "execution_count": 8,
     "metadata": {},
     "output_type": "execute_result"
    }
   ],
   "source": [
    "a = {1 : 'a', 2:'b','three':'c'}\n",
    "a[1]"
   ]
  },
  {
   "cell_type": "code",
   "execution_count": 9,
   "metadata": {},
   "outputs": [
    {
     "data": {
      "text/plain": [
       "'b'"
      ]
     },
     "execution_count": 9,
     "metadata": {},
     "output_type": "execute_result"
    }
   ],
   "source": [
    "a.get(2)"
   ]
  },
  {
   "cell_type": "code",
   "execution_count": 10,
   "metadata": {},
   "outputs": [
    {
     "ename": "KeyError",
     "evalue": "33",
     "output_type": "error",
     "traceback": [
      "\u001b[1;31m---------------------------------------------------------------------------\u001b[0m",
      "\u001b[1;31mKeyError\u001b[0m                                  Traceback (most recent call last)",
      "\u001b[1;32m<ipython-input-10-63d4d1b8b4fe>\u001b[0m in \u001b[0;36m<module>\u001b[1;34m\u001b[0m\n\u001b[1;32m----> 1\u001b[1;33m \u001b[0ma\u001b[0m\u001b[1;33m[\u001b[0m\u001b[1;36m33\u001b[0m\u001b[1;33m]\u001b[0m\u001b[1;33m\u001b[0m\u001b[1;33m\u001b[0m\u001b[0m\n\u001b[0m",
      "\u001b[1;31mKeyError\u001b[0m: 33"
     ]
    }
   ],
   "source": [
    "a[33]"
   ]
  },
  {
   "cell_type": "code",
   "execution_count": 16,
   "metadata": {},
   "outputs": [],
   "source": [
    "a.get(33)"
   ]
  },
  {
   "cell_type": "code",
   "execution_count": 15,
   "metadata": {},
   "outputs": [
    {
     "name": "stdout",
     "output_type": "stream",
     "text": [
      "a\n",
      "None\n"
     ]
    }
   ],
   "source": [
    "print(a.get(1))\n",
    "print(a.get(33))"
   ]
  },
  {
   "cell_type": "markdown",
   "metadata": {},
   "source": [
    "## key 존재 여부 확인"
   ]
  },
  {
   "cell_type": "code",
   "execution_count": 21,
   "metadata": {},
   "outputs": [
    {
     "data": {
      "text/plain": [
       "True"
      ]
     },
     "execution_count": 21,
     "metadata": {},
     "output_type": "execute_result"
    }
   ],
   "source": [
    "# a = {1 : 'a', 2:'b','three':'c'}\n",
    "1 in a"
   ]
  },
  {
   "cell_type": "code",
   "execution_count": 19,
   "metadata": {},
   "outputs": [
    {
     "data": {
      "text/plain": [
       "True"
      ]
     },
     "execution_count": 19,
     "metadata": {},
     "output_type": "execute_result"
    }
   ],
   "source": [
    "2 in a"
   ]
  },
  {
   "cell_type": "code",
   "execution_count": 20,
   "metadata": {},
   "outputs": [
    {
     "data": {
      "text/plain": [
       "False"
      ]
     },
     "execution_count": 20,
     "metadata": {},
     "output_type": "execute_result"
    }
   ],
   "source": [
    "3 in a"
   ]
  },
  {
   "cell_type": "code",
   "execution_count": 23,
   "metadata": {},
   "outputs": [
    {
     "name": "stdout",
     "output_type": "stream",
     "text": [
      "1\n",
      "2\n",
      "three\n"
     ]
    }
   ],
   "source": [
    "for x in a:\n",
    "    print(x)\n",
    "# key값을 불러온다"
   ]
  },
  {
   "cell_type": "code",
   "execution_count": 26,
   "metadata": {},
   "outputs": [
    {
     "data": {
      "text/plain": [
       "'b'"
      ]
     },
     "execution_count": 26,
     "metadata": {},
     "output_type": "execute_result"
    }
   ],
   "source": [
    "a[2]"
   ]
  },
  {
   "cell_type": "markdown",
   "metadata": {},
   "source": [
    "### keys, values, items 출력해보기"
   ]
  },
  {
   "cell_type": "code",
   "execution_count": 27,
   "metadata": {},
   "outputs": [
    {
     "data": {
      "text/plain": [
       "dict_keys([1, 2, 'three'])"
      ]
     },
     "execution_count": 27,
     "metadata": {},
     "output_type": "execute_result"
    }
   ],
   "source": [
    "# a = {1 : 'a', 2:'b','three':'c'}\n",
    "a.keys()"
   ]
  },
  {
   "cell_type": "code",
   "execution_count": 28,
   "metadata": {},
   "outputs": [
    {
     "data": {
      "text/plain": [
       "dict_values(['a', 'b', 'c'])"
      ]
     },
     "execution_count": 28,
     "metadata": {},
     "output_type": "execute_result"
    }
   ],
   "source": [
    "a.values()"
   ]
  },
  {
   "cell_type": "code",
   "execution_count": 29,
   "metadata": {},
   "outputs": [
    {
     "data": {
      "text/plain": [
       "dict_items([(1, 'a'), (2, 'b'), ('three', 'c')])"
      ]
     },
     "execution_count": 29,
     "metadata": {},
     "output_type": "execute_result"
    }
   ],
   "source": [
    "a.items()"
   ]
  },
  {
   "cell_type": "code",
   "execution_count": 30,
   "metadata": {},
   "outputs": [
    {
     "name": "stdout",
     "output_type": "stream",
     "text": [
      "1\n",
      "2\n",
      "three\n"
     ]
    }
   ],
   "source": [
    "for i in a.keys(): print(i)"
   ]
  },
  {
   "cell_type": "code",
   "execution_count": 31,
   "metadata": {},
   "outputs": [
    {
     "name": "stdout",
     "output_type": "stream",
     "text": [
      "a\n",
      "b\n",
      "c\n"
     ]
    }
   ],
   "source": [
    "for i in a.values(): print(i)"
   ]
  },
  {
   "cell_type": "code",
   "execution_count": 32,
   "metadata": {},
   "outputs": [
    {
     "name": "stdout",
     "output_type": "stream",
     "text": [
      "(1, 'a')\n",
      "(2, 'b')\n",
      "('three', 'c')\n"
     ]
    }
   ],
   "source": [
    "for i in a.items(): print(i)"
   ]
  },
  {
   "cell_type": "code",
   "execution_count": 34,
   "metadata": {},
   "outputs": [
    {
     "name": "stdout",
     "output_type": "stream",
     "text": [
      "1 a\n",
      "2 b\n",
      "three c\n"
     ]
    }
   ],
   "source": [
    "for i,j in a.items(): print(i,j)"
   ]
  },
  {
   "cell_type": "markdown",
   "metadata": {},
   "source": [
    "## item 수정, 추가, 삭제\n",
    " - 수정과 추가의 방식이 같다"
   ]
  },
  {
   "cell_type": "markdown",
   "metadata": {},
   "source": [
    "### item 수정, 추가, 삭제 - 연습"
   ]
  },
  {
   "cell_type": "code",
   "execution_count": 73,
   "metadata": {},
   "outputs": [],
   "source": [
    "m1 = {'name':'홍길동','age':20, 'tel':'010-9251-3478','addr':['서울','성동구']}"
   ]
  },
  {
   "cell_type": "markdown",
   "metadata": {},
   "source": [
    "#### 문제1: m1에서 전화번호 마지막 4 숫자 선택하기"
   ]
  },
  {
   "cell_type": "code",
   "execution_count": 74,
   "metadata": {},
   "outputs": [
    {
     "data": {
      "text/plain": [
       "'3478'"
      ]
     },
     "execution_count": 74,
     "metadata": {},
     "output_type": "execute_result"
    }
   ],
   "source": [
    "(m1['tel'])[-4:]"
   ]
  },
  {
   "cell_type": "markdown",
   "metadata": {},
   "source": [
    "#### 문제2: m1에서 age를 1 증가시키기"
   ]
  },
  {
   "cell_type": "code",
   "execution_count": 75,
   "metadata": {},
   "outputs": [
    {
     "data": {
      "text/plain": [
       "21"
      ]
     },
     "execution_count": 75,
     "metadata": {},
     "output_type": "execute_result"
    }
   ],
   "source": [
    "m1['age'] = m1.get('age')+1\n",
    "# m1['age'] += 1\n",
    "m1['age']"
   ]
  },
  {
   "cell_type": "markdown",
   "metadata": {},
   "source": [
    "#### 문제3: 주소에서 성동구 뒤에 '왕십리로 222' 추가하기"
   ]
  },
  {
   "cell_type": "code",
   "execution_count": 70,
   "metadata": {},
   "outputs": [
    {
     "data": {
      "text/plain": [
       "['서울', '성동구', '왕십리로 222', '왕십리로 222']"
      ]
     },
     "execution_count": 70,
     "metadata": {},
     "output_type": "execute_result"
    }
   ],
   "source": [
    "# m1['addr'] += '왕십리로 222'\n",
    "# m1['addr']\n",
    "m1['addr'] += ['왕십리로 222']\n",
    "# m1['addr'].append('왕십리로 222')\n",
    "m1['addr']"
   ]
  },
  {
   "cell_type": "markdown",
   "metadata": {},
   "source": [
    "#### 문제4: 성별 : 남 추가하기"
   ]
  },
  {
   "cell_type": "code",
   "execution_count": 69,
   "metadata": {},
   "outputs": [
    {
     "data": {
      "text/plain": [
       "{'name': '홍길동',\n",
       " 'age': 21,\n",
       " 'tel': '010-9251-3478',\n",
       " 'addr': ['서울', '성동구', '왕십리로 222'],\n",
       " 'sex': '남'}"
      ]
     },
     "execution_count": 69,
     "metadata": {},
     "output_type": "execute_result"
    }
   ],
   "source": [
    "m1['sex']='남'\n",
    "m1"
   ]
  },
  {
   "cell_type": "markdown",
   "metadata": {},
   "source": [
    "### 자판기 프로그램 + 재고 관리 추가 - dic 사용"
   ]
  },
  {
   "cell_type": "code",
   "execution_count": 4,
   "metadata": {},
   "outputs": [
    {
     "name": "stdout",
     "output_type": "stream",
     "text": [
      "동전을 넣어라 : 5000\n",
      "현재 금액 :  5000 원\n",
      "음료를 선택해라 (콜라 : 0, 사이다 : 1, 환타 : 2, 환불 :3, 재고 확인 :4, 음료 추가 : 5 )1\n",
      "사이다가 나왔습니다\n",
      "\n",
      "현재 금액 :  4500 원\n",
      "음료를 선택해라 (콜라 : 0, 사이다 : 1, 환타 : 2, 환불 :3, 재고 확인 :4, 음료 추가 : 5 )4\n",
      "○○○○○○○현재 재고○○○○○○ {'콜라': 10, '사이다': 0, '환타': 10}\n",
      "\n",
      "현재 금액 :  4500 원\n",
      "음료를 선택해라 (콜라 : 0, 사이다 : 1, 환타 : 2, 환불 :3, 재고 확인 :4, 음료 추가 : 5 )1\n",
      "재고가 부족해요xxxxxxxxxxxxxxxxxxxx. 다른 음료 선택해요\n",
      "\n",
      "현재 금액 :  4500 원\n",
      "음료를 선택해라 (콜라 : 0, 사이다 : 1, 환타 : 2, 환불 :3, 재고 확인 :4, 음료 추가 : 5 )1\n",
      "재고가 부족해요xxxxxxxxxxxxxxxxxxxx. 다른 음료 선택해요\n",
      "\n",
      "현재 금액 :  4500 원\n",
      "음료를 선택해라 (콜라 : 0, 사이다 : 1, 환타 : 2, 환불 :3, 재고 확인 :4, 음료 추가 : 5 )3\n",
      "거스름돈 :  4500 원\n"
     ]
    }
   ],
   "source": [
    "coin = int(input('동전을 넣어라 : '))\n",
    "drink=['콜라','사이다', '환타']\n",
    "items = {'콜라':10, '사이다':1, '환타':10}\n",
    "\n",
    "while coin >= 500:\n",
    "    print('현재 금액 : ', coin, '원')\n",
    "    sel = int(input('음료를 선택해라 (콜라 : 0, 사이다 : 1, 환타 : 2, 환불 :3, 재고 확인 :4, 음료 추가 : 5 )'))\n",
    "    \n",
    "    if sel in [0,1,2]:\n",
    "        if items[drink[sel]] >=1 :\n",
    "            print(drink[sel] + '가 나왔습니다')\n",
    "            items[drink[sel]] -= 1\n",
    "            coin -= 500\n",
    "        else:\n",
    "            print('재고가 부족해요xxxxxxxxxxxxxxxxxxxx. 다른 음료 선택해요')\n",
    "    elif sel == 4: print('○○○○○○○현재 재고○○○○○○',items)\n",
    "    elif sel == 5:\n",
    "        add = input('음료 추가 예) 콜라-1 : ----->').split('-')\n",
    "        if add[0] in drink:\n",
    "            print('---------추가한 사항',add)\n",
    "            items[add[0]] += int(add[1])\n",
    "        else: break\n",
    "    else: break\n",
    "    print()\n",
    "print('거스름돈 : ', coin, '원')"
   ]
  },
  {
   "cell_type": "markdown",
   "metadata": {},
   "source": [
    "### 문제2) 한영사전 프로그램"
   ]
  },
  {
   "cell_type": "code",
   "execution_count": 4,
   "metadata": {},
   "outputs": [
    {
     "name": "stdout",
     "output_type": "stream",
     "text": [
      "메뉴 : 1.단어추가 2.단어찾기 3.종료 : -->1\n",
      "추가할 단어 ! 예) 사과/apple사과/applㄷ\n",
      "메뉴 : 1.단어추가 2.단어찾기 3.종료 : -->2\n",
      "찾을 한글 단어 입력하시오 : -->사과\n",
      "applㄷ\n",
      "메뉴 : 1.단어추가 2.단어찾기 3.종료 : -->3\n",
      "사전 종료##############\n"
     ]
    }
   ],
   "source": [
    "dic1= {'책':'book','차':'car'}\n",
    "while 1:\n",
    "    q = input('메뉴 : 1.단어추가 2.단어찾기 3.종료 : -->')\n",
    "    if q == '1':\n",
    "        kor, eng = input('추가할 단어 ! 예) 사과/apple').split('/')\n",
    "        dic1[kor]=eng\n",
    "    elif q == '2':\n",
    "        f=input('찾을 한글 단어 입력하시오 : -->')\n",
    "        print(dic1[f])\n",
    "    else:\n",
    "        print('사전 종료##############') \n",
    "        break"
   ]
  },
  {
   "cell_type": "markdown",
   "metadata": {},
   "source": [
    "# 함수\n",
    "- 코드의 간결성\n",
    "- 코드의 재사용성\n",
    "- 프로그램의 모듈화\n",
    "- 코드 수정의 용이성\n",
    "\n",
    "## 함수의 종류\n",
    "- 내장함수 : input(), print()\n",
    "- 모듈의 함수 : random.ranint()\n",
    "- 사용자 정의 함수\n",
    "\n",
    "## 함수의 정의\n",
    " - def 함수이름():\n",
    "\n",
    "## 함수 블록은 실행하지 않고 호출해주면 실행한다"
   ]
  },
  {
   "cell_type": "markdown",
   "metadata": {},
   "source": [
    "#### return과 print의 차이 보기\n",
    "- print쓰면 'BMI과' getBMI의 값이 다 준비가 되어 있어야 print 한다\n",
    "- getBMI의 return값이 없기 때문에 print문 뒤에 getBMI는 None이 나온다"
   ]
  },
  {
   "cell_type": "code",
   "execution_count": 6,
   "metadata": {},
   "outputs": [
    {
     "name": "stdout",
     "output_type": "stream",
     "text": [
      "BMI :  21.874999999999996\n",
      "BMI :  21.29529475392104\n",
      "BMI :  29.93827160493827\n"
     ]
    }
   ],
   "source": [
    "def getBMI(w, h):\n",
    "    return w / h **2\n",
    "    \n",
    "print('BMI : ', getBMI(56, 1.6))\n",
    "print('BMI : ', getBMI(63, 1.72))\n",
    "print('BMI : ', getBMI(97, 1.8))"
   ]
  },
  {
   "cell_type": "code",
   "execution_count": 10,
   "metadata": {},
   "outputs": [
    {
     "name": "stdout",
     "output_type": "stream",
     "text": [
      "21.874999999999996\n",
      "None\n",
      "21.29529475392104\n",
      "None\n",
      "29.93827160493827\n",
      "None\n"
     ]
    }
   ],
   "source": [
    "def getBMI(w, h):\n",
    "    print(w / h **2)\n",
    "    \n",
    "print(getBMI(56, 1.6))\n",
    "print(getBMI(63, 1.72))\n",
    "print(getBMI(97, 1.8))"
   ]
  },
  {
   "cell_type": "code",
   "execution_count": 11,
   "metadata": {},
   "outputs": [
    {
     "name": "stdout",
     "output_type": "stream",
     "text": [
      "ㅋㅋㅋㅋ\n",
      "입력받은 내용은 ㅋㅋㅋㅋ\n"
     ]
    }
   ],
   "source": [
    "print('입력받은 내용은', input())"
   ]
  },
  {
   "cell_type": "code",
   "execution_count": 12,
   "metadata": {},
   "outputs": [
    {
     "name": "stdout",
     "output_type": "stream",
     "text": [
      "15.51246537396122\n"
     ]
    }
   ],
   "source": [
    "def getBMI(w,h):\n",
    "    print( w/ h **2)\n",
    "BMI = getBMI(56,1.9)"
   ]
  },
  {
   "cell_type": "markdown",
   "metadata": {},
   "source": [
    " ### 예제1) 절대값 구하는 함수 만들기\n",
    " - return값은 꼭 1개가 아니여도 된다.\n",
    " - return은 값을 반환해주기도 하지만, 함수를 끝내주는 역할 (=break) "
   ]
  },
  {
   "cell_type": "code",
   "execution_count": 15,
   "metadata": {},
   "outputs": [
    {
     "data": {
      "text/plain": [
       "14"
      ]
     },
     "execution_count": 15,
     "metadata": {},
     "output_type": "execute_result"
    }
   ],
   "source": [
    "def userAbs(num):\n",
    "    if num >= 0: return num\n",
    "    else: return -num\n",
    "    print('!!!!!')    # return 뒤에 나오는 print는 실행이 안된다.\n",
    "                        # return은 반환해주기도 하지만, 함수 끝내는 역할\n",
    "userAbs(-14)"
   ]
  },
  {
   "cell_type": "markdown",
   "metadata": {},
   "source": [
    "### 소수점 아래 숫자 개수 조절하는 함수 만들기"
   ]
  },
  {
   "cell_type": "code",
   "execution_count": 86,
   "metadata": {},
   "outputs": [],
   "source": [
    "def floor(num,pos):\n",
    "    if pos > 0:\n",
    "        m = 10 ** pos\n",
    "        return int(num*m)/m\n",
    "    else:\n",
    "        return int(num)"
   ]
  },
  {
   "cell_type": "code",
   "execution_count": 18,
   "metadata": {},
   "outputs": [
    {
     "data": {
      "text/plain": [
       "3.141"
      ]
     },
     "execution_count": 18,
     "metadata": {},
     "output_type": "execute_result"
    }
   ],
   "source": [
    "floor(3.141592,3)"
   ]
  },
  {
   "cell_type": "markdown",
   "metadata": {},
   "source": [
    "### 사칙연산 계산기 만들기 ( + - * /)"
   ]
  },
  {
   "cell_type": "code",
   "execution_count": 22,
   "metadata": {},
   "outputs": [],
   "source": [
    "def cal(n1,n2,w):    # + - * /\n",
    "    if w == '+':\n",
    "        return n1 + n2\n",
    "    elif w == '-':\n",
    "        return n1 - n2\n",
    "    elif w == '*':\n",
    "        return (n1 * n2)\n",
    "    elif w == '/':\n",
    "        return n1 / n2"
   ]
  },
  {
   "cell_type": "code",
   "execution_count": 24,
   "metadata": {},
   "outputs": [
    {
     "data": {
      "text/plain": [
       "120"
      ]
     },
     "execution_count": 24,
     "metadata": {},
     "output_type": "execute_result"
    }
   ],
   "source": [
    "cal(100,20,'+')"
   ]
  },
  {
   "cell_type": "code",
   "execution_count": 25,
   "metadata": {},
   "outputs": [
    {
     "data": {
      "text/plain": [
       "80"
      ]
     },
     "execution_count": 25,
     "metadata": {},
     "output_type": "execute_result"
    }
   ],
   "source": [
    "cal(100,20,'-')"
   ]
  },
  {
   "cell_type": "code",
   "execution_count": 26,
   "metadata": {},
   "outputs": [
    {
     "data": {
      "text/plain": [
       "2000"
      ]
     },
     "execution_count": 26,
     "metadata": {},
     "output_type": "execute_result"
    }
   ],
   "source": [
    "cal(100,20,'*')"
   ]
  },
  {
   "cell_type": "code",
   "execution_count": 27,
   "metadata": {},
   "outputs": [
    {
     "data": {
      "text/plain": [
       "5.0"
      ]
     },
     "execution_count": 27,
     "metadata": {},
     "output_type": "execute_result"
    }
   ],
   "source": [
    "cal(100,20,'/')"
   ]
  },
  {
   "cell_type": "markdown",
   "metadata": {},
   "source": [
    "## 함수의 기본값 설정\n",
    "- def cal(n1,n2,op='+'): ~~~ # op='+' 기본값. 지정하지않아도 저장\n",
    "- ex) split() --> 안에 스페이스가 기본값\n",
    "- ex) print() --> 안에 줄바꿈이 기본값"
   ]
  },
  {
   "cell_type": "markdown",
   "metadata": {},
   "source": [
    "### 매개변수 지정 호출"
   ]
  },
  {
   "cell_type": "code",
   "execution_count": 43,
   "metadata": {},
   "outputs": [],
   "source": [
    "def cal(n1,n2, op='-'):    # + - * /\n",
    "    return n1 - n2"
   ]
  },
  {
   "cell_type": "code",
   "execution_count": 44,
   "metadata": {},
   "outputs": [
    {
     "data": {
      "text/plain": [
       "-90"
      ]
     },
     "execution_count": 44,
     "metadata": {},
     "output_type": "execute_result"
    }
   ],
   "source": [
    "cal(n2=100, n1=10)"
   ]
  },
  {
   "cell_type": "code",
   "execution_count": 45,
   "metadata": {},
   "outputs": [
    {
     "data": {
      "text/plain": [
       "90"
      ]
     },
     "execution_count": 45,
     "metadata": {},
     "output_type": "execute_result"
    }
   ],
   "source": [
    "cal(100,10)"
   ]
  },
  {
   "cell_type": "markdown",
   "metadata": {},
   "source": [
    "#### 부분적으로 매개변수를 지정하면 오류난다\n",
    "#### 지정해줄거면 다 지정해줘야한다"
   ]
  },
  {
   "cell_type": "code",
   "execution_count": 47,
   "metadata": {},
   "outputs": [
    {
     "ename": "SyntaxError",
     "evalue": "positional argument follows keyword argument (<ipython-input-47-66ba52651a0e>, line 1)",
     "output_type": "error",
     "traceback": [
      "\u001b[1;36m  File \u001b[1;32m\"<ipython-input-47-66ba52651a0e>\"\u001b[1;36m, line \u001b[1;32m1\u001b[0m\n\u001b[1;33m    cal(n2=100, n1=10, '/')\u001b[0m\n\u001b[1;37m                      ^\u001b[0m\n\u001b[1;31mSyntaxError\u001b[0m\u001b[1;31m:\u001b[0m positional argument follows keyword argument\n"
     ]
    }
   ],
   "source": [
    "cal(n2=100, n1=10, '/')"
   ]
  },
  {
   "cell_type": "markdown",
   "metadata": {},
   "source": [
    "## 다수의 데이터를 받을때 사용하는 문자 : *(아스테리크)"
   ]
  },
  {
   "cell_type": "code",
   "execution_count": 49,
   "metadata": {},
   "outputs": [
    {
     "data": {
      "text/plain": [
       "[2, 3]"
      ]
     },
     "execution_count": 49,
     "metadata": {},
     "output_type": "execute_result"
    }
   ],
   "source": [
    "a, *b = 1,2,3\n",
    "b"
   ]
  },
  {
   "cell_type": "code",
   "execution_count": 66,
   "metadata": {},
   "outputs": [],
   "source": [
    "def cal(*num,op='+'):\n",
    "    result=0\n",
    "    for i in num:\n",
    "         result += i\n",
    "    return result              "
   ]
  },
  {
   "cell_type": "code",
   "execution_count": 67,
   "metadata": {},
   "outputs": [
    {
     "data": {
      "text/plain": [
       "6"
      ]
     },
     "execution_count": 67,
     "metadata": {},
     "output_type": "execute_result"
    }
   ],
   "source": [
    "cal(1,2,3)"
   ]
  },
  {
   "cell_type": "code",
   "execution_count": 81,
   "metadata": {},
   "outputs": [],
   "source": [
    "def cal(*nums, op='+'):\n",
    "    if op == '+':\n",
    "        result = 0\n",
    "        for n in nums: result +=n\n",
    "    elif op == '*':\n",
    "        result =1\n",
    "        for n in nums: result *=n\n",
    "    elif op == '-':\n",
    "        result = 0\n",
    "        for n in nums: result -=n\n",
    "    elif op =='/':\n",
    "        result = 1\n",
    "        for n in nums: result /=n\n",
    "    return result"
   ]
  },
  {
   "cell_type": "code",
   "execution_count": 82,
   "metadata": {},
   "outputs": [
    {
     "data": {
      "text/plain": [
       "24"
      ]
     },
     "execution_count": 82,
     "metadata": {},
     "output_type": "execute_result"
    }
   ],
   "source": [
    "cal(2,3,4, op='*')"
   ]
  },
  {
   "cell_type": "code",
   "execution_count": 83,
   "metadata": {},
   "outputs": [
    {
     "data": {
      "text/plain": [
       "9"
      ]
     },
     "execution_count": 83,
     "metadata": {},
     "output_type": "execute_result"
    }
   ],
   "source": [
    "cal(2,3,4, op='+')"
   ]
  },
  {
   "cell_type": "code",
   "execution_count": 84,
   "metadata": {},
   "outputs": [
    {
     "data": {
      "text/plain": [
       "-9"
      ]
     },
     "execution_count": 84,
     "metadata": {},
     "output_type": "execute_result"
    }
   ],
   "source": [
    "cal(2,3,4, op='-')"
   ]
  },
  {
   "cell_type": "code",
   "execution_count": 85,
   "metadata": {},
   "outputs": [
    {
     "data": {
      "text/plain": [
       "0.041666666666666664"
      ]
     },
     "execution_count": 85,
     "metadata": {},
     "output_type": "execute_result"
    }
   ],
   "source": [
    "cal(2,3,4, op='/')"
   ]
  },
  {
   "cell_type": "code",
   "execution_count": 72,
   "metadata": {},
   "outputs": [
    {
     "data": {
      "text/plain": [
       "20"
      ]
     },
     "execution_count": 72,
     "metadata": {},
     "output_type": "execute_result"
    }
   ],
   "source": [
    "cal(2,3,4,5,6)"
   ]
  },
  {
   "cell_type": "markdown",
   "metadata": {},
   "source": [
    "### 소수점 아래 숫자 함수와 사칙연산 함수 "
   ]
  },
  {
   "cell_type": "code",
   "execution_count": 87,
   "metadata": {},
   "outputs": [
    {
     "data": {
      "text/plain": [
       "0.041"
      ]
     },
     "execution_count": 87,
     "metadata": {},
     "output_type": "execute_result"
    }
   ],
   "source": [
    "# def floor(num,pos):\n",
    "#     if pos > 0:\n",
    "#         m = 10 ** pos\n",
    "#         return int(num*m)/m\n",
    "#     else:\n",
    "#         return int(num)\n",
    "floor(cal(2,3,4, op='/'),3)"
   ]
  },
  {
   "cell_type": "code",
   "execution_count": 88,
   "metadata": {},
   "outputs": [],
   "source": [
    "# * 여러값 받기\n",
    "# 초기값은 = 사용해서"
   ]
  },
  {
   "cell_type": "markdown",
   "metadata": {},
   "source": [
    "### 전역변수 vs 지역변수"
   ]
  },
  {
   "cell_type": "code",
   "execution_count": 1,
   "metadata": {},
   "outputs": [
    {
     "data": {
      "text/plain": [
       "-20"
      ]
     },
     "execution_count": 1,
     "metadata": {},
     "output_type": "execute_result"
    }
   ],
   "source": [
    "def funcEx(b):\n",
    "    b = a+b\n",
    "    return b\n",
    "a = -10\n",
    "a = funcEx(a)\n",
    "a"
   ]
  },
  {
   "cell_type": "code",
   "execution_count": 6,
   "metadata": {},
   "outputs": [
    {
     "data": {
      "text/plain": [
       "-20"
      ]
     },
     "execution_count": 6,
     "metadata": {},
     "output_type": "execute_result"
    }
   ],
   "source": [
    "funcEx(a)    # 함수를 받는 애가 없어서 그냥 소멸된다.\n",
    "a"
   ]
  },
  {
   "cell_type": "code",
   "execution_count": 96,
   "metadata": {},
   "outputs": [
    {
     "name": "stdout",
     "output_type": "stream",
     "text": [
      "-20 -17\n"
     ]
    }
   ],
   "source": [
    "b = funcEx(3)\n",
    "print(a,b)"
   ]
  },
  {
   "cell_type": "code",
   "execution_count": 3,
   "metadata": {},
   "outputs": [
    {
     "ename": "NameError",
     "evalue": "name 'b' is not defined",
     "output_type": "error",
     "traceback": [
      "\u001b[1;31m---------------------------------------------------------------------------\u001b[0m",
      "\u001b[1;31mNameError\u001b[0m                                 Traceback (most recent call last)",
      "\u001b[1;32m<ipython-input-3-89e6c98d9288>\u001b[0m in \u001b[0;36m<module>\u001b[1;34m\u001b[0m\n\u001b[1;32m----> 1\u001b[1;33m \u001b[0mb\u001b[0m\u001b[1;33m\u001b[0m\u001b[1;33m\u001b[0m\u001b[0m\n\u001b[0m",
      "\u001b[1;31mNameError\u001b[0m: name 'b' is not defined"
     ]
    }
   ],
   "source": []
  },
  {
   "cell_type": "markdown",
   "metadata": {},
   "source": [
    "### 과제"
   ]
  },
  {
   "cell_type": "code",
   "execution_count": null,
   "metadata": {},
   "outputs": [],
   "source": []
  }
 ],
 "metadata": {
  "kernelspec": {
   "display_name": "Python 3",
   "language": "python",
   "name": "python3"
  },
  "language_info": {
   "codemirror_mode": {
    "name": "ipython",
    "version": 3
   },
   "file_extension": ".py",
   "mimetype": "text/x-python",
   "name": "python",
   "nbconvert_exporter": "python",
   "pygments_lexer": "ipython3",
   "version": "3.7.5"
  }
 },
 "nbformat": 4,
 "nbformat_minor": 2
}
