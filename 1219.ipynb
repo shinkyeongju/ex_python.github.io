{
 "cells": [
  {
   "cell_type": "markdown",
   "metadata": {},
   "source": [
    "# 영어단어 타자연습 프로그램"
   ]
  },
  {
   "cell_type": "code",
   "execution_count": 31,
   "metadata": {},
   "outputs": [],
   "source": [
    "from tkinter import *\n",
    "import random\n",
    "import tkinter.messagebox\n",
    "import tkinter.simpledialog\n",
    "window = Tk()\n",
    "window.title(\"영어단어타자연습\")\n",
    "canvas = Canvas(window, bg='white', width=500, height = 500)\n",
    "canvas.pack()\n",
    "label_level = Label(window, text = f'난이도 : {level}') \n",
    "label_level.pack()\n",
    "label_score = Label(window, text = f'점수 : {score}') \n",
    "label_score.pack()\n",
    "entry = Entry(window, font='Helvetica 16')\n",
    "entry.pack()\n",
    "\n",
    "\n",
    "\n",
    "button = Button(window, text='게임종료', font = 'Helvetica 16 bold', command = quit)\n",
    "button.pack()\n",
    "\n",
    "wordlist = '''ant baboon badger bat bear beaver camel cat clam cobra cougar coyote crow deer dog donkey duck eagle\n",
    "ferret fox frog goat goose hawk lion lizard llama mole monkey moose mouse mule newt otter owl panda parrot pigeon\n",
    "python rabbit ram rat raven rhino salmon seal shark sheep skunk sloth snake spider stork swan tiger toad trout turkey\n",
    "turtle weasel whale wolf zebra'''.split()\n",
    "# randy = 0\n",
    "\n",
    "def randomWord():\n",
    "    global randy, randIndex\n",
    "    randIndex = random.randint(0, len(wordlist)-1)\n",
    "    randx = random.randint(50,450)\n",
    "    randy = random.randint(50,100)\n",
    "    canvas.create_text(randx, randy, font='Helvetica 16', text=wordlist[randIndex], tags='word')\n",
    "randomWord()\n",
    "\n",
    "def del_word(event):\n",
    "    global level, score\n",
    "    level, score = 1, 0\n",
    "    if entry.get() == wordlist[randIndex]:\n",
    "        canvas.delete('word')\n",
    "        entry.delete(0,END)\n",
    "        score += 1\n",
    "        randomWord()\n",
    "        label_score['text'] = '점수는 : ' + str(score)\n",
    "        \n",
    "        \n",
    "    else:\n",
    "        entry.delete(0,END)\n",
    "        score -= 1\n",
    "        label_socre['text'] = '점수는 : ' + str(score)\n",
    "        \n",
    "def quit():\n",
    "    global a\n",
    "    a = False\n",
    "    window.destroy()\n",
    "\n",
    "\n",
    "choice = 0\n",
    "def levelChoice():\n",
    "    global choice\n",
    "    choice = tkinter.simpledialog.askinteger('난이도 선택', '난이도 1 ~ 4')\n",
    "    window.destroy()\n",
    "    \n",
    "canvas.bind_all(\"<KeyPress-Return>\", del_word)    \n",
    "\n",
    "a = True\n",
    "\n",
    "while a:\n",
    "    canvas.move('word', 0, 10)\n",
    "    canvas.after(100)\n",
    "    canvas.update()\n",
    "    randy = randy + 10\n",
    "    \n",
    "    if randy > 500:\n",
    "        canvas.delete('word')\n",
    "        randomWord()\n",
    "\n",
    "window.mainloop()"
   ]
  },
  {
   "cell_type": "code",
   "execution_count": 6,
   "metadata": {},
   "outputs": [
    {
     "data": {
      "text/plain": [
       "1"
      ]
     },
     "execution_count": 6,
     "metadata": {},
     "output_type": "execute_result"
    }
   ],
   "source": [
    "choice"
   ]
  },
  {
   "cell_type": "markdown",
   "metadata": {},
   "source": [
    "## 순차 탐색으로 특정 값의 위치 찾기"
   ]
  },
  {
   "cell_type": "code",
   "execution_count": 34,
   "metadata": {},
   "outputs": [
    {
     "data": {
      "text/plain": [
       "[2, 3]"
      ]
     },
     "execution_count": 34,
     "metadata": {},
     "output_type": "execute_result"
    }
   ],
   "source": [
    "list_1 = [17,92,18,33,58,5,33,42]\n",
    "sel = [18,33,900]\n",
    "loc = []\n",
    "for i in list_1:\n",
    "    for j in sel:\n",
    "        if i == j :\n",
    "            if list_1.index(i) not in loc:\n",
    "                loc.append(list_1.index(i))\n",
    "            \n",
    "loc"
   ]
  },
  {
   "cell_type": "code",
   "execution_count": null,
   "metadata": {},
   "outputs": [],
   "source": [
    "list_1 = [17,92,18,33,58,5,33,42]\n",
    "sel = [18,33,900]\n",
    "loc = []\n",
    "def findNumIndex():\n",
    "    for i in list_1:\n",
    "    for j in sel:\n",
    "        if i == j :\n",
    "            if list_1.index(i) not in loc:\n",
    "                loc.append(list_1.index(i))"
   ]
  },
  {
   "cell_type": "code",
   "execution_count": null,
   "metadata": {},
   "outputs": [],
   "source": []
  }
 ],
 "metadata": {
  "kernelspec": {
   "display_name": "Python 3",
   "language": "python",
   "name": "python3"
  },
  "language_info": {
   "codemirror_mode": {
    "name": "ipython",
    "version": 3
   },
   "file_extension": ".py",
   "mimetype": "text/x-python",
   "name": "python",
   "nbconvert_exporter": "python",
   "pygments_lexer": "ipython3",
   "version": "3.7.5"
  }
 },
 "nbformat": 4,
 "nbformat_minor": 2
}
