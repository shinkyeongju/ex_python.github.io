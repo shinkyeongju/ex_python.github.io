{
 "cells": [
  {
   "cell_type": "markdown",
   "metadata": {},
   "source": [
    "# 나무베기"
   ]
  },
  {
   "cell_type": "code",
   "execution_count": 5,
   "metadata": {},
   "outputs": [
    {
     "name": "stdout",
     "output_type": "stream",
     "text": [
      "내구력 : 11-->Hit\n",
      "내구력 : 10-->Hit\n",
      "내구력 : 9-->Hit\n",
      "내구력 : 8-->Hit\n",
      "내구력 : 7-->Hit\n",
      "내구력 : 6-->Hit\n",
      "내구력 : 5-->Hit\n",
      "내구력 : 4-->Hit\n",
      "내구력 : 3-->Hit\n",
      "내구력 : 2-->Hit\n",
      "내구력 : 1-->Hit\n",
      "나무가 넘어갔다\n"
     ]
    }
   ],
   "source": [
    "import random\n",
    "maxHit = random.randint(7,12)\n",
    "while maxHit > 0:\n",
    "    input('내구력 : '+str(maxHit)+'-->Hit')\n",
    "    maxHit -=1\n",
    "print('나무가 넘어갔다')"
   ]
  },
  {
   "cell_type": "markdown",
   "metadata": {},
   "source": [
    "# 크리티컬 나무베기"
   ]
  },
  {
   "cell_type": "code",
   "execution_count": 15,
   "metadata": {},
   "outputs": [
    {
     "name": "stdout",
     "output_type": "stream",
     "text": [
      "내구력 : 8--> Hit!\n",
      "내구력 : 7--> Hit!\n",
      "내구력 : 6--> Hit!\n",
      "내구력 : 5--> Hit!\n",
      "내구력 : 4--> Hit!\n",
      "critical\n",
      "내구력 : 1--> Hit!\n",
      "나무가 넘어감\n"
     ]
    }
   ],
   "source": [
    "maxHit = random.randint(7,12)\n",
    "while maxHit >0:\n",
    "    input('내구력 : ' + str(maxHit) + '--> Hit!')\n",
    "    \n",
    "    if random.randint(1,10) == 1:\n",
    "        print('critical')\n",
    "        maxHit -=3\n",
    "    else:\n",
    "        maxHit -=1\n",
    "print('나무가 넘어감')"
   ]
  },
  {
   "cell_type": "markdown",
   "metadata": {},
   "source": [
    "# 5번만에 숫자맞추기"
   ]
  },
  {
   "cell_type": "code",
   "execution_count": null,
   "metadata": {},
   "outputs": [],
   "source": [
    "import random\n",
    "secret = random.randint(1,50)\n",
    "count= 5\n",
    "while count > 0 :\n",
    "    \n",
    "    guess = int(input(f'숫자를 입력하시오 : 답 : {secret}, 내답 :'))\n",
    "\n",
    "    if secret == guess:\n",
    "        print('숫자를 맞췄네요')\n",
    "        break\n",
    "    elif guess < secret : print('low')\n",
    "    elif guess > secret : print('high')\n",
    "    count -=1\n",
    "    if count ==0:\n",
    "        print(f'5번만에 못맞췄네요. 정답은 :{secret}')\n",
    "        break"
   ]
  },
  {
   "cell_type": "markdown",
   "metadata": {},
   "source": [
    "# 5번만에 숫자맞추기 - 1"
   ]
  },
  {
   "cell_type": "code",
   "execution_count": 6,
   "metadata": {},
   "outputs": [
    {
     "name": "stdout",
     "output_type": "stream",
     "text": [
      "숫자를 입력하시오 : 답 : 41, 내답 :1\n",
      "low\n",
      "숫자를 입력하시오 : 답 : 41, 내답 :1\n",
      "low\n",
      "숫자를 입력하시오 : 답 : 41, 내답 :1\n",
      "low\n",
      "숫자를 입력하시오 : 답 : 41, 내답 :1\n",
      "low\n",
      "숫자를 입력하시오 : 답 : 41, 내답 :1\n",
      "low\n",
      "5번만에 못맞췄네요┬┬. 정답은 :41\n"
     ]
    }
   ],
   "source": [
    "import random\n",
    "secret = random.randint(1,50)\n",
    "count= 5\n",
    "while count > 0 :\n",
    "    \n",
    "    guess = int(input(f'숫자를 입력하시오 : 답 : {secret}, 내답 :'))\n",
    "\n",
    "    if secret == guess:\n",
    "        print('■■■숫자를 맞췄네요■■■')\n",
    "        break\n",
    "    elif guess < secret : print('low')\n",
    "#     elif guess > secret : print('high')\n",
    "    else : print('high')\n",
    "    count -=1\n",
    "    \n",
    "else : print(f'5번만에 못맞췄네요┬┬. 정답은 :{secret}')"
   ]
  },
  {
   "cell_type": "markdown",
   "metadata": {},
   "source": [
    "# 복권 프로그램"
   ]
  },
  {
   "cell_type": "code",
   "execution_count": 10,
   "metadata": {
    "scrolled": true
   },
   "outputs": [
    {
     "name": "stdout",
     "output_type": "stream",
     "text": [
      "동전을 넣으시오 : 5000\n",
      "당점(+5000)★★★★★★. 현재금액 10000\n",
      "꽝(-1000)♨♨♨♨♨♨. 현재금액 9000\n",
      "진행할까요? n\n",
      "현재 금액 9000원 환불!\n"
     ]
    }
   ],
   "source": [
    "import random\n",
    "\n",
    "money = int(input('동전을 넣으시오 : '))\n",
    "\n",
    "while money >= 1000:\n",
    "    secret = random.randint(1,10)\n",
    "    \n",
    "    if secret <= 3:\n",
    "        money += 5000\n",
    "        print(f'당점(+5000)★★★★★★. 현재금액 {money}')\n",
    "    else :\n",
    "        money -= 1000\n",
    "        print(f'꽝(-1000)♨♨♨♨♨♨. 현재금액 {money}')\n",
    "        \n",
    "        if input('진행할까요? ').upper() == 'N':\n",
    "            print(f'현재 금액 {money}원 환불!')\n",
    "            break\n",
    "        \n",
    "else: print('돈이 부족해요')"
   ]
  },
  {
   "cell_type": "markdown",
   "metadata": {},
   "source": [
    "# 복권 프로그램 -1"
   ]
  },
  {
   "cell_type": "code",
   "execution_count": 9,
   "metadata": {},
   "outputs": [
    {
     "name": "stdout",
     "output_type": "stream",
     "text": [
      "돈을 넣으세요200\n",
      "남은 금액 :  200\n"
     ]
    }
   ],
   "source": [
    "coin = int(input('돈을 넣으세요'))\n",
    "\n",
    "while coin > 1000 :\n",
    "    if random.randint(1,10) == 1:\n",
    "        print('당첨')\n",
    "        coin += 5000\n",
    "    else:\n",
    "        print('꽝')\n",
    "        coin -= 1000\n",
    "    print(f'현재금액 {coin}원')\n",
    "    \n",
    "    if input('더 할래?') == 'n': break\n",
    "\n",
    "print('남은 금액 : ', coin)"
   ]
  },
  {
   "cell_type": "code",
   "execution_count": 9,
   "metadata": {},
   "outputs": [
    {
     "name": "stdout",
     "output_type": "stream",
     "text": [
      "??d\n"
     ]
    },
    {
     "data": {
      "text/plain": [
       "'D'"
      ]
     },
     "execution_count": 9,
     "metadata": {},
     "output_type": "execute_result"
    }
   ],
   "source": [
    "a= input('??')\n",
    "A = a.upper()\n",
    "A"
   ]
  },
  {
   "cell_type": "markdown",
   "metadata": {},
   "source": [
    "# str.upper() 사용"
   ]
  },
  {
   "cell_type": "code",
   "execution_count": 1,
   "metadata": {},
   "outputs": [
    {
     "name": "stdout",
     "output_type": "stream",
     "text": [
      "진행해?yes\n"
     ]
    },
    {
     "data": {
      "text/plain": [
       "'YES'"
      ]
     },
     "execution_count": 1,
     "metadata": {},
     "output_type": "execute_result"
    }
   ],
   "source": [
    "a = input('진행해?').upper()\n",
    "a"
   ]
  },
  {
   "cell_type": "markdown",
   "metadata": {},
   "source": [
    "# 자료형 , for문"
   ]
  },
  {
   "cell_type": "markdown",
   "metadata": {},
   "source": [
    "- list\n",
    "- tuple\n",
    "- set\n",
    "- dictionary"
   ]
  },
  {
   "cell_type": "markdown",
   "metadata": {},
   "source": [
    "# 리스트 ( list )\n",
    "- [1, 2, 3, 4, 5]\n",
    "- [1. 'a', 'bcd', '3']\n",
    "- [1, 23, [6,7]. 2. 4]\n",
    "- 순서가 있기때문에 중복값 있어도 상관없다.\n",
    "- list + list --> 리스트 값이 추가 된 하나의 list가 된다\n",
    "- list * 숫자 --> list를 숫자 만큼 반복하여 값을 추가한 list가 된다.\n",
    "- list 인덱싱 --> 왼쪽 부터 0, 1, 2번째... 오른쪽부터 -1, -2, -3번째...\n",
    "- list 슬라이싱 --> 변수[시작:끝:증감]. 끝값은 포함되지 않는다.\n",
    "- "
   ]
  },
  {
   "cell_type": "code",
   "execution_count": 11,
   "metadata": {},
   "outputs": [],
   "source": [
    "a=[1,2,3,[4,'dd']]"
   ]
  },
  {
   "cell_type": "code",
   "execution_count": 15,
   "metadata": {},
   "outputs": [
    {
     "data": {
      "text/plain": [
       "[4, 'dd']"
      ]
     },
     "execution_count": 15,
     "metadata": {},
     "output_type": "execute_result"
    }
   ],
   "source": [
    "a[len(a)-1]"
   ]
  },
  {
   "cell_type": "code",
   "execution_count": 17,
   "metadata": {},
   "outputs": [
    {
     "data": {
      "text/plain": [
       "[4, 'dd']"
      ]
     },
     "execution_count": 17,
     "metadata": {},
     "output_type": "execute_result"
    }
   ],
   "source": [
    "a[-1]"
   ]
  },
  {
   "cell_type": "code",
   "execution_count": 18,
   "metadata": {},
   "outputs": [],
   "source": [
    "b=['apple',1,-5,'b',0,[10,20,30]]"
   ]
  },
  {
   "cell_type": "code",
   "execution_count": 23,
   "metadata": {},
   "outputs": [
    {
     "data": {
      "text/plain": [
       "[1, 2, 3, [4, 'dd'], 'apple', 1, -5, 'b', 0, [10, 20, 30]]"
      ]
     },
     "execution_count": 23,
     "metadata": {},
     "output_type": "execute_result"
    }
   ],
   "source": [
    "c = a+b\n",
    "c"
   ]
  },
  {
   "cell_type": "code",
   "execution_count": 25,
   "metadata": {},
   "outputs": [
    {
     "data": {
      "text/plain": [
       "[1, 2, 3, [4, 'dd']]"
      ]
     },
     "execution_count": 25,
     "metadata": {},
     "output_type": "execute_result"
    }
   ],
   "source": [
    "a"
   ]
  },
  {
   "cell_type": "code",
   "execution_count": 26,
   "metadata": {},
   "outputs": [
    {
     "data": {
      "text/plain": [
       "'dd'"
      ]
     },
     "execution_count": 26,
     "metadata": {},
     "output_type": "execute_result"
    }
   ],
   "source": [
    "a[-1][-1]"
   ]
  },
  {
   "cell_type": "markdown",
   "metadata": {},
   "source": [
    "리스트의 값중에서 문자열도 슬라이싱 가능"
   ]
  },
  {
   "cell_type": "code",
   "execution_count": 27,
   "metadata": {},
   "outputs": [
    {
     "data": {
      "text/plain": [
       "'d'"
      ]
     },
     "execution_count": 27,
     "metadata": {},
     "output_type": "execute_result"
    }
   ],
   "source": [
    "a[-1][-1][0]"
   ]
  },
  {
   "cell_type": "code",
   "execution_count": 28,
   "metadata": {},
   "outputs": [],
   "source": [
    "list1 = list(range(10))"
   ]
  },
  {
   "cell_type": "code",
   "execution_count": 29,
   "metadata": {},
   "outputs": [
    {
     "data": {
      "text/plain": [
       "[0, 1, 2, 3, 4, 5, 6, 7, 8, 9]"
      ]
     },
     "execution_count": 29,
     "metadata": {},
     "output_type": "execute_result"
    }
   ],
   "source": [
    "list1"
   ]
  },
  {
   "cell_type": "code",
   "execution_count": 30,
   "metadata": {},
   "outputs": [
    {
     "data": {
      "text/plain": [
       "[2, 4, 6]"
      ]
     },
     "execution_count": 30,
     "metadata": {},
     "output_type": "execute_result"
    }
   ],
   "source": [
    "list1[2:8:2]\n",
    "# 끝값 포함되지 않는다"
   ]
  },
  {
   "cell_type": "code",
   "execution_count": 35,
   "metadata": {},
   "outputs": [
    {
     "data": {
      "text/plain": [
       "[2, 3, 4, 5, 6]"
      ]
     },
     "execution_count": 35,
     "metadata": {},
     "output_type": "execute_result"
    }
   ],
   "source": [
    "list1[-8:-3]"
   ]
  },
  {
   "cell_type": "code",
   "execution_count": 37,
   "metadata": {},
   "outputs": [
    {
     "data": {
      "text/plain": [
       "[6, 5, 4, 3, 2]"
      ]
     },
     "execution_count": 37,
     "metadata": {},
     "output_type": "execute_result"
    }
   ],
   "source": [
    "list1[6:1:-1]"
   ]
  },
  {
   "cell_type": "code",
   "execution_count": 38,
   "metadata": {},
   "outputs": [
    {
     "data": {
      "text/plain": [
       "[2, 3, 4, 5, 6]"
      ]
     },
     "execution_count": 38,
     "metadata": {},
     "output_type": "execute_result"
    }
   ],
   "source": [
    "list1[2:7]"
   ]
  },
  {
   "cell_type": "code",
   "execution_count": 40,
   "metadata": {},
   "outputs": [
    {
     "data": {
      "text/plain": [
       "['a', 'b', 'c', 'd', 'e', 'f']"
      ]
     },
     "execution_count": 40,
     "metadata": {},
     "output_type": "execute_result"
    }
   ],
   "source": [
    "list2=['a','b','c','d','e','f']\n",
    "list2"
   ]
  },
  {
   "cell_type": "code",
   "execution_count": 49,
   "metadata": {},
   "outputs": [
    {
     "data": {
      "text/plain": [
       "['c', 'd', 'e', 'f']"
      ]
     },
     "execution_count": 49,
     "metadata": {},
     "output_type": "execute_result"
    }
   ],
   "source": [
    "list2[2:6]"
   ]
  },
  {
   "cell_type": "code",
   "execution_count": 46,
   "metadata": {},
   "outputs": [
    {
     "data": {
      "text/plain": [
       "['f', 'e', 'd', 'c']"
      ]
     },
     "execution_count": 46,
     "metadata": {},
     "output_type": "execute_result"
    }
   ],
   "source": [
    "list2[5:1:-1]"
   ]
  },
  {
   "cell_type": "code",
   "execution_count": 53,
   "metadata": {},
   "outputs": [
    {
     "data": {
      "text/plain": [
       "'abcdefghijklmn'"
      ]
     },
     "execution_count": 53,
     "metadata": {},
     "output_type": "execute_result"
    }
   ],
   "source": [
    "# 문자열 자체만으로도 인덱싱 가능\n",
    "list3 = 'abcdefghijklmn'\n",
    "list3"
   ]
  },
  {
   "cell_type": "code",
   "execution_count": 55,
   "metadata": {},
   "outputs": [
    {
     "data": {
      "text/plain": [
       "'cdef'"
      ]
     },
     "execution_count": 55,
     "metadata": {},
     "output_type": "execute_result"
    }
   ],
   "source": [
    "list3[2:6]"
   ]
  },
  {
   "cell_type": "code",
   "execution_count": 58,
   "metadata": {},
   "outputs": [
    {
     "data": {
      "text/plain": [
       "''"
      ]
     },
     "execution_count": 58,
     "metadata": {},
     "output_type": "execute_result"
    }
   ],
   "source": [
    "list3[5:2:1]\n",
    "# 도달할 수 없는 경우 빈 문자열 반환. 자료형만 유지"
   ]
  },
  {
   "cell_type": "code",
   "execution_count": 59,
   "metadata": {},
   "outputs": [
    {
     "data": {
      "text/plain": [
       "''"
      ]
     },
     "execution_count": 59,
     "metadata": {},
     "output_type": "execute_result"
    }
   ],
   "source": [
    "list3[2:5:-1]\n",
    "# 도달할 수 없는 경우 빈 문자열 반환. 자료형만 유지"
   ]
  },
  {
   "cell_type": "code",
   "execution_count": 60,
   "metadata": {},
   "outputs": [
    {
     "data": {
      "text/plain": [
       "'cde'"
      ]
     },
     "execution_count": 60,
     "metadata": {},
     "output_type": "execute_result"
    }
   ],
   "source": [
    "list3[2:5]"
   ]
  },
  {
   "cell_type": "code",
   "execution_count": 61,
   "metadata": {},
   "outputs": [
    {
     "data": {
      "text/plain": [
       "'cde'"
      ]
     },
     "execution_count": 61,
     "metadata": {},
     "output_type": "execute_result"
    }
   ],
   "source": [
    "list3[2:5:1]"
   ]
  },
  {
   "cell_type": "code",
   "execution_count": 62,
   "metadata": {},
   "outputs": [
    {
     "data": {
      "text/plain": [
       "'cdefghijklmn'"
      ]
     },
     "execution_count": 62,
     "metadata": {},
     "output_type": "execute_result"
    }
   ],
   "source": [
    "list3[2:]"
   ]
  },
  {
   "cell_type": "code",
   "execution_count": 64,
   "metadata": {},
   "outputs": [
    {
     "data": {
      "text/plain": [
       "[0, 1, 2, 3, 4, 5, 6, 7, 8, 9]"
      ]
     },
     "execution_count": 64,
     "metadata": {},
     "output_type": "execute_result"
    }
   ],
   "source": [
    "list1"
   ]
  },
  {
   "cell_type": "code",
   "execution_count": 66,
   "metadata": {},
   "outputs": [
    {
     "data": {
      "text/plain": [
       "[5, 4, 3, 2, 1, 0]"
      ]
     },
     "execution_count": 66,
     "metadata": {},
     "output_type": "execute_result"
    }
   ],
   "source": [
    "list1[5::-1]"
   ]
  },
  {
   "cell_type": "code",
   "execution_count": 67,
   "metadata": {},
   "outputs": [
    {
     "data": {
      "text/plain": [
       "[5, 6, 7, 8, 9]"
      ]
     },
     "execution_count": 67,
     "metadata": {},
     "output_type": "execute_result"
    }
   ],
   "source": [
    "list1[5::]"
   ]
  },
  {
   "cell_type": "code",
   "execution_count": 68,
   "metadata": {},
   "outputs": [
    {
     "data": {
      "text/plain": [
       "[9, 8, 7, 6]"
      ]
     },
     "execution_count": 68,
     "metadata": {},
     "output_type": "execute_result"
    }
   ],
   "source": [
    "list1[:5:-1]"
   ]
  },
  {
   "cell_type": "code",
   "execution_count": 70,
   "metadata": {},
   "outputs": [
    {
     "data": {
      "text/plain": [
       "[9, 8, 7, 6, 5, 4, 3, 2, 1, 0]"
      ]
     },
     "execution_count": 70,
     "metadata": {},
     "output_type": "execute_result"
    }
   ],
   "source": [
    "list1[::-1]\n",
    "# 전체를 역순으로"
   ]
  },
  {
   "cell_type": "markdown",
   "metadata": {},
   "source": [
    "list 슬라이싱 연습"
   ]
  },
  {
   "cell_type": "code",
   "execution_count": 71,
   "metadata": {},
   "outputs": [
    {
     "data": {
      "text/plain": [
       "[1, 2, 'a', 'b', '3', '76', [1, 52, 3], 'c', 5, 'ac', '[4,3,9]']"
      ]
     },
     "execution_count": 71,
     "metadata": {},
     "output_type": "execute_result"
    }
   ],
   "source": [
    "listA=[1,2,'a','b','3','76',[1,52,3],'c',5,'ac','[4,3,9]']\n",
    "listA"
   ]
  },
  {
   "cell_type": "code",
   "execution_count": 73,
   "metadata": {},
   "outputs": [
    {
     "data": {
      "text/plain": [
       "['a', 'b', '3']"
      ]
     },
     "execution_count": 73,
     "metadata": {},
     "output_type": "execute_result"
    }
   ],
   "source": [
    "listA[2:5]"
   ]
  },
  {
   "cell_type": "code",
   "execution_count": 77,
   "metadata": {},
   "outputs": [
    {
     "data": {
      "text/plain": [
       "['c', 5, 'ac']"
      ]
     },
     "execution_count": 77,
     "metadata": {},
     "output_type": "execute_result"
    }
   ],
   "source": [
    "listA[-4:-1]"
   ]
  },
  {
   "cell_type": "code",
   "execution_count": 82,
   "metadata": {},
   "outputs": [
    {
     "data": {
      "text/plain": [
       "['[4,3,9]', 'ac', 5, 'c']"
      ]
     },
     "execution_count": 82,
     "metadata": {},
     "output_type": "execute_result"
    }
   ],
   "source": [
    "listA[-1:-5:-1]"
   ]
  },
  {
   "cell_type": "code",
   "execution_count": 88,
   "metadata": {},
   "outputs": [
    {
     "data": {
      "text/plain": [
       "[[1, 52, 3], '76', '3']"
      ]
     },
     "execution_count": 88,
     "metadata": {},
     "output_type": "execute_result"
    }
   ],
   "source": [
    "listA[-5:-8:-1]"
   ]
  },
  {
   "cell_type": "code",
   "execution_count": 89,
   "metadata": {},
   "outputs": [
    {
     "data": {
      "text/plain": [
       "[2, 'b', '76']"
      ]
     },
     "execution_count": 89,
     "metadata": {},
     "output_type": "execute_result"
    }
   ],
   "source": [
    "listA[1:6:2]"
   ]
  },
  {
   "cell_type": "code",
   "execution_count": 96,
   "metadata": {},
   "outputs": [
    {
     "data": {
      "text/plain": [
       "[1, 'a', 'ac', 'c']"
      ]
     },
     "execution_count": 96,
     "metadata": {},
     "output_type": "execute_result"
    }
   ],
   "source": [
    "listA[0:3:2] + listA[-2:-5:-2]"
   ]
  },
  {
   "cell_type": "code",
   "execution_count": 99,
   "metadata": {},
   "outputs": [
    {
     "data": {
      "text/plain": [
       "'['"
      ]
     },
     "execution_count": 99,
     "metadata": {},
     "output_type": "execute_result"
    }
   ],
   "source": [
    "listA[-1][0]"
   ]
  },
  {
   "cell_type": "code",
   "execution_count": 101,
   "metadata": {},
   "outputs": [
    {
     "data": {
      "text/plain": [
       "[0, 1, 2, 3, 4]"
      ]
     },
     "execution_count": 101,
     "metadata": {},
     "output_type": "execute_result"
    }
   ],
   "source": [
    "listB = list(range(5))\n",
    "listB"
   ]
  },
  {
   "cell_type": "code",
   "execution_count": 102,
   "metadata": {},
   "outputs": [
    {
     "data": {
      "text/plain": [
       "True"
      ]
     },
     "execution_count": 102,
     "metadata": {},
     "output_type": "execute_result"
    }
   ],
   "source": [
    "3 in listB"
   ]
  },
  {
   "cell_type": "code",
   "execution_count": 103,
   "metadata": {},
   "outputs": [
    {
     "data": {
      "text/plain": [
       "3"
      ]
     },
     "execution_count": 103,
     "metadata": {},
     "output_type": "execute_result"
    }
   ],
   "source": [
    "listB.index(3)"
   ]
  },
  {
   "cell_type": "code",
   "execution_count": 106,
   "metadata": {},
   "outputs": [
    {
     "data": {
      "text/plain": [
       "4"
      ]
     },
     "execution_count": 106,
     "metadata": {},
     "output_type": "execute_result"
    }
   ],
   "source": [
    "# String에서 문자열 find\n",
    "a='hello'\n",
    "a.find('o')"
   ]
  },
  {
   "cell_type": "code",
   "execution_count": 109,
   "metadata": {},
   "outputs": [
    {
     "data": {
      "text/plain": [
       "['a', 'p', 'p', 'l', 'e']"
      ]
     },
     "execution_count": 109,
     "metadata": {},
     "output_type": "execute_result"
    }
   ],
   "source": [
    "c=list('apple') # 문자열을 한 글자씩 분리하여 list 생성\n",
    "c"
   ]
  },
  {
   "cell_type": "markdown",
   "metadata": {},
   "source": [
    "# split() 사용하여 문자열 분리(문자열에만 해당)"
   ]
  },
  {
   "cell_type": "code",
   "execution_count": 114,
   "metadata": {},
   "outputs": [
    {
     "data": {
      "text/plain": [
       "['1', '2', '3', '4', '5', '']"
      ]
     },
     "execution_count": 114,
     "metadata": {},
     "output_type": "execute_result"
    }
   ],
   "source": [
    "# split(). 규칙을 기준으로 쪼개주는 것\n",
    "a = '1 2 3 4 5 '\n",
    "b= a.split(' ')\n",
    "b"
   ]
  },
  {
   "cell_type": "code",
   "execution_count": 116,
   "metadata": {},
   "outputs": [
    {
     "data": {
      "text/plain": [
       "['1', '2', '3', '4', '5']"
      ]
     },
     "execution_count": 116,
     "metadata": {},
     "output_type": "execute_result"
    }
   ],
   "source": [
    "'1 2 3 4 5'.split()"
   ]
  },
  {
   "cell_type": "code",
   "execution_count": 117,
   "metadata": {},
   "outputs": [
    {
     "data": {
      "text/plain": [
       "'Hello world'"
      ]
     },
     "execution_count": 117,
     "metadata": {},
     "output_type": "execute_result"
    }
   ],
   "source": [
    "a = 'Hello world'\n",
    "b = list(a)\n",
    "c = a.split()\n",
    "d = a.split('o')\n",
    "a"
   ]
  },
  {
   "cell_type": "code",
   "execution_count": 118,
   "metadata": {},
   "outputs": [
    {
     "data": {
      "text/plain": [
       "['H', 'e', 'l', 'l', 'o', ' ', 'w', 'o', 'r', 'l', 'd']"
      ]
     },
     "execution_count": 118,
     "metadata": {},
     "output_type": "execute_result"
    }
   ],
   "source": [
    "b"
   ]
  },
  {
   "cell_type": "code",
   "execution_count": 119,
   "metadata": {},
   "outputs": [
    {
     "data": {
      "text/plain": [
       "['Hello', 'world']"
      ]
     },
     "execution_count": 119,
     "metadata": {},
     "output_type": "execute_result"
    }
   ],
   "source": [
    "c"
   ]
  },
  {
   "cell_type": "code",
   "execution_count": 120,
   "metadata": {},
   "outputs": [
    {
     "data": {
      "text/plain": [
       "['Hell', ' w', 'rld']"
      ]
     },
     "execution_count": 120,
     "metadata": {},
     "output_type": "execute_result"
    }
   ],
   "source": [
    "d"
   ]
  },
  {
   "cell_type": "code",
   "execution_count": 121,
   "metadata": {},
   "outputs": [
    {
     "data": {
      "text/plain": [
       "['Hello wo', 'ld']"
      ]
     },
     "execution_count": 121,
     "metadata": {},
     "output_type": "execute_result"
    }
   ],
   "source": [
    "a.split('r')"
   ]
  },
  {
   "cell_type": "code",
   "execution_count": 124,
   "metadata": {},
   "outputs": [
    {
     "data": {
      "text/plain": [
       "['He', '', 'o wor', 'd']"
      ]
     },
     "execution_count": 124,
     "metadata": {},
     "output_type": "execute_result"
    }
   ],
   "source": [
    "a.split('l')\n",
    "# l과 l 사이 빈 원소가 하나 생긴다."
   ]
  },
  {
   "cell_type": "code",
   "execution_count": 123,
   "metadata": {},
   "outputs": [
    {
     "data": {
      "text/plain": [
       "['Hello wo', 'd']"
      ]
     },
     "execution_count": 123,
     "metadata": {},
     "output_type": "execute_result"
    }
   ],
   "source": [
    "a.split('rl')"
   ]
  },
  {
   "cell_type": "markdown",
   "metadata": {},
   "source": [
    "split() 문자열 응용"
   ]
  },
  {
   "cell_type": "code",
   "execution_count": 125,
   "metadata": {},
   "outputs": [
    {
     "data": {
      "text/plain": [
       "['red', 'blud', 'black', 'green']"
      ]
     },
     "execution_count": 125,
     "metadata": {},
     "output_type": "execute_result"
    }
   ],
   "source": [
    "colors = 'red blud black green'.split()\n",
    "colors"
   ]
  },
  {
   "cell_type": "code",
   "execution_count": 127,
   "metadata": {},
   "outputs": [
    {
     "data": {
      "text/plain": [
       "[2, 4, 6, 8]"
      ]
     },
     "execution_count": 127,
     "metadata": {},
     "output_type": "execute_result"
    }
   ],
   "source": [
    "list(range(2,10,2))"
   ]
  },
  {
   "cell_type": "code",
   "execution_count": 128,
   "metadata": {},
   "outputs": [
    {
     "data": {
      "text/plain": [
       "[1, 2, 3, 4, 5, 6, 7, 8, 9]"
      ]
     },
     "execution_count": 128,
     "metadata": {},
     "output_type": "execute_result"
    }
   ],
   "source": [
    "list(range(1,10,1))"
   ]
  },
  {
   "cell_type": "code",
   "execution_count": 130,
   "metadata": {},
   "outputs": [
    {
     "data": {
      "text/plain": [
       "[0, 1, 2, 3, 4, 5, 6, 7, 8, 9]"
      ]
     },
     "execution_count": 130,
     "metadata": {},
     "output_type": "execute_result"
    }
   ],
   "source": [
    "list(range(10))"
   ]
  },
  {
   "cell_type": "code",
   "execution_count": 132,
   "metadata": {},
   "outputs": [
    {
     "data": {
      "text/plain": [
       "[3, 4, 5, 6]"
      ]
     },
     "execution_count": 132,
     "metadata": {},
     "output_type": "execute_result"
    }
   ],
   "source": [
    "list(range(3,7))"
   ]
  },
  {
   "cell_type": "code",
   "execution_count": 134,
   "metadata": {},
   "outputs": [
    {
     "data": {
      "text/plain": [
       "[10, 8, 6, 4, 2]"
      ]
     },
     "execution_count": 134,
     "metadata": {},
     "output_type": "execute_result"
    }
   ],
   "source": [
    "list(range(10,1,-2))"
   ]
  },
  {
   "cell_type": "code",
   "execution_count": 135,
   "metadata": {},
   "outputs": [
    {
     "data": {
      "text/plain": [
       "[]"
      ]
     },
     "execution_count": 135,
     "metadata": {},
     "output_type": "execute_result"
    }
   ],
   "source": [
    "list(range(1,7,-1))"
   ]
  },
  {
   "cell_type": "code",
   "execution_count": 136,
   "metadata": {},
   "outputs": [
    {
     "data": {
      "text/plain": [
       "[]"
      ]
     },
     "execution_count": 136,
     "metadata": {},
     "output_type": "execute_result"
    }
   ],
   "source": [
    "list(range(10,1))"
   ]
  },
  {
   "cell_type": "code",
   "execution_count": 138,
   "metadata": {},
   "outputs": [
    {
     "data": {
      "text/plain": [
       "[10, 9, 8, 7, 6, 5, 4, 3, 2]"
      ]
     },
     "execution_count": 138,
     "metadata": {},
     "output_type": "execute_result"
    }
   ],
   "source": [
    "list(range(10,1,-1))"
   ]
  },
  {
   "cell_type": "markdown",
   "metadata": {},
   "source": [
    "list 수정\n",
    "- list.append(item) --> 리스트의 마지막에 item 추가\n",
    "- list.extend(list2) --> 리스트에 리스트 연결\n",
    "- list.insert(index, item) --> 원하는 위치에 item 추가"
   ]
  },
  {
   "cell_type": "code",
   "execution_count": 146,
   "metadata": {},
   "outputs": [
    {
     "data": {
      "text/plain": [
       "['a', 'b', 'c']"
      ]
     },
     "execution_count": 146,
     "metadata": {},
     "output_type": "execute_result"
    }
   ],
   "source": [
    "a = list('abc')\n",
    "a"
   ]
  },
  {
   "cell_type": "code",
   "execution_count": 147,
   "metadata": {},
   "outputs": [
    {
     "data": {
      "text/plain": [
       "['a', 'b', 'c', 'd']"
      ]
     },
     "execution_count": 147,
     "metadata": {},
     "output_type": "execute_result"
    }
   ],
   "source": [
    "a.append('d')\n",
    "a"
   ]
  },
  {
   "cell_type": "code",
   "execution_count": 148,
   "metadata": {},
   "outputs": [
    {
     "data": {
      "text/plain": [
       "['a', 'b', 'c', 'd', 1, 2, 3]"
      ]
     },
     "execution_count": 148,
     "metadata": {},
     "output_type": "execute_result"
    }
   ],
   "source": [
    "a.extend([1,2,3])\n",
    "a"
   ]
  },
  {
   "cell_type": "code",
   "execution_count": 149,
   "metadata": {},
   "outputs": [],
   "source": [
    "a.insert(2,'k')"
   ]
  },
  {
   "cell_type": "code",
   "execution_count": 150,
   "metadata": {},
   "outputs": [
    {
     "data": {
      "text/plain": [
       "['a', 'b', 'k', 'c', 'd', 1, 2, 3]"
      ]
     },
     "execution_count": 150,
     "metadata": {},
     "output_type": "execute_result"
    }
   ],
   "source": [
    "a"
   ]
  },
  {
   "cell_type": "code",
   "execution_count": 152,
   "metadata": {},
   "outputs": [
    {
     "data": {
      "text/plain": [
       "['a', 'b', 'k', 'c', 'd', 1, 2, 3]"
      ]
     },
     "execution_count": 152,
     "metadata": {},
     "output_type": "execute_result"
    }
   ],
   "source": [
    "a"
   ]
  },
  {
   "cell_type": "code",
   "execution_count": 153,
   "metadata": {},
   "outputs": [],
   "source": [
    "a = list('abcd')"
   ]
  },
  {
   "cell_type": "code",
   "execution_count": 154,
   "metadata": {},
   "outputs": [
    {
     "data": {
      "text/plain": [
       "['a', 'b', 'c', 'd']"
      ]
     },
     "execution_count": 154,
     "metadata": {},
     "output_type": "execute_result"
    }
   ],
   "source": [
    "a"
   ]
  },
  {
   "cell_type": "markdown",
   "metadata": {},
   "source": [
    "- a.append('e')\n",
    "- a += ['e']"
   ]
  },
  {
   "cell_type": "code",
   "execution_count": 158,
   "metadata": {},
   "outputs": [],
   "source": [
    "a += ['e']\n",
    "# append와 같은 효과\n",
    "# append 하면 a, b, c, d, 뒤에 e 추가된다\n",
    "# a+=['e'] 하면 a가 원래 리스트 말고 e가 추가된 새로운 리스트를 가리킨다"
   ]
  },
  {
   "cell_type": "code",
   "execution_count": 159,
   "metadata": {},
   "outputs": [
    {
     "data": {
      "text/plain": [
       "['a', 'b', 'c', 'd', 'e', 'e']"
      ]
     },
     "execution_count": 159,
     "metadata": {},
     "output_type": "execute_result"
    }
   ],
   "source": [
    "a"
   ]
  },
  {
   "cell_type": "markdown",
   "metadata": {},
   "source": [
    "list에서 item 삭제\n",
    "- del list[index] --> 리스트의 index에 위치한 item 삭제\n",
    "- list.remove(item) --> 리스트에서 첫 번째로 나오는 item 삭제"
   ]
  },
  {
   "cell_type": "code",
   "execution_count": 192,
   "metadata": {},
   "outputs": [
    {
     "data": {
      "text/plain": [
       "['H', 'e', 'l', 'l', 'o', ' ', 'w', 'o', 'r', 'l', 'd', '!']"
      ]
     },
     "execution_count": 192,
     "metadata": {},
     "output_type": "execute_result"
    }
   ],
   "source": [
    "a = 'Hello world'\n",
    "b = list(a)\n",
    "b.append('!')\n",
    "b"
   ]
  },
  {
   "cell_type": "code",
   "execution_count": 193,
   "metadata": {},
   "outputs": [
    {
     "data": {
      "text/plain": [
       "['H', 'e', 'l', 'l', ' ', 'w', 'o', 'r', 'l', 'd', '!']"
      ]
     },
     "execution_count": 193,
     "metadata": {},
     "output_type": "execute_result"
    }
   ],
   "source": [
    "b.remove('o')\n",
    "b"
   ]
  },
  {
   "cell_type": "code",
   "execution_count": 194,
   "metadata": {},
   "outputs": [
    {
     "data": {
      "text/plain": [
       "['H', 'e', 'l', 'l', 'o', ' ', 'w', 'o', 'r', 'l', 'd', '!']"
      ]
     },
     "execution_count": 194,
     "metadata": {},
     "output_type": "execute_result"
    }
   ],
   "source": [
    "b.insert(4,'o')\n",
    "b"
   ]
  },
  {
   "cell_type": "code",
   "execution_count": 197,
   "metadata": {},
   "outputs": [],
   "source": [
    "while 'l' in b: b.remove('l')\n",
    "    # 모든 'l' 삭제"
   ]
  },
  {
   "cell_type": "code",
   "execution_count": 196,
   "metadata": {},
   "outputs": [
    {
     "data": {
      "text/plain": [
       "['H', 'e', 'o', ' ', 'w', 'o', 'r', 'd', '!']"
      ]
     },
     "execution_count": 196,
     "metadata": {},
     "output_type": "execute_result"
    }
   ],
   "source": [
    "b"
   ]
  },
  {
   "cell_type": "markdown",
   "metadata": {},
   "source": [
    "리스트 sort"
   ]
  },
  {
   "cell_type": "code",
   "execution_count": 202,
   "metadata": {},
   "outputs": [
    {
     "data": {
      "text/plain": [
       "['H', 'e', 'o', ' ', 'w', 'o', 'r', 'd', '!']"
      ]
     },
     "execution_count": 202,
     "metadata": {},
     "output_type": "execute_result"
    }
   ],
   "source": [
    "b"
   ]
  },
  {
   "cell_type": "code",
   "execution_count": 203,
   "metadata": {},
   "outputs": [],
   "source": [
    "b.sort()"
   ]
  },
  {
   "cell_type": "code",
   "execution_count": 204,
   "metadata": {},
   "outputs": [
    {
     "data": {
      "text/plain": [
       "[' ', '!', 'H', 'd', 'e', 'o', 'o', 'r', 'w']"
      ]
     },
     "execution_count": 204,
     "metadata": {},
     "output_type": "execute_result"
    }
   ],
   "source": [
    "b"
   ]
  },
  {
   "cell_type": "markdown",
   "metadata": {},
   "source": [
    "# 다수의 점수를 입력받아 합계, 평균 구하기"
   ]
  },
  {
   "cell_type": "code",
   "execution_count": 207,
   "metadata": {},
   "outputs": [
    {
     "name": "stdout",
     "output_type": "stream",
     "text": [
      "점수를 여러개 입력하세요 : 60 70 80 90 90\n",
      "점수의 합계는 390 입니다.\n",
      "점수의 평균은 78.0 입니다.\n"
     ]
    }
   ],
   "source": [
    "score = input('점수를 여러개 입력하세요 : ')\n",
    "scores = score.split()\n",
    "sum = 0\n",
    "i = 0\n",
    "while i < len(scores):\n",
    "    sum += int(scores[i])\n",
    "    i +=1\n",
    "print(f'점수의 합계는 {sum} 입니다.')\n",
    "print(f'점수의 평균은 {sum/len(scores)} 입니다.')"
   ]
  },
  {
   "cell_type": "markdown",
   "metadata": {},
   "source": [
    "# 자판기 음료 출력 list로 만들기"
   ]
  },
  {
   "cell_type": "code",
   "execution_count": 213,
   "metadata": {},
   "outputs": [
    {
     "data": {
      "text/plain": [
       "['콜라', '사이다', '환타']"
      ]
     },
     "execution_count": 213,
     "metadata": {},
     "output_type": "execute_result"
    }
   ],
   "source": [
    "d = '콜라 사이다 환타'\n",
    "drinks = d.split()\n",
    "drinks"
   ]
  },
  {
   "cell_type": "code",
   "execution_count": 2,
   "metadata": {},
   "outputs": [
    {
     "name": "stdout",
     "output_type": "stream",
     "text": [
      "돈을 넣으세요 : 200\n",
      "거스름돈 :  200\n"
     ]
    }
   ],
   "source": [
    "coin = int(input('돈을 넣으세요 : '))\n",
    "while coin >= 500:\n",
    "    print(f'현재 금액 : {coin}')\n",
    "    sel = int(input('콜라(0), 사이다(1), 환타(2)'))\n",
    "    print(drinks[sel] + '가 나왔습니다.')\n",
    "    coin -= 500\n",
    "print('거스름돈 : ' , coin)"
   ]
  },
  {
   "cell_type": "markdown",
   "metadata": {},
   "source": [
    "# 문제1)상품 재고 관리 프로그램"
   ]
  },
  {
   "cell_type": "code",
   "execution_count": null,
   "metadata": {},
   "outputs": [
    {
     "name": "stdout",
     "output_type": "stream",
     "text": [
      "상품관리(1.삽입 2.삭제 3.상품확인 4. 재고확인) : 1\n",
      "상품관리1-삽입) 삽입하고자 하는 상품은? 립스틱\n",
      "상품관리1-삽입) 삽입하고자 하는 위치는? 1\n",
      "상품관리(1.삽입 2.삭제 3.상품확인 4. 재고확인) : 2\n",
      "상품관리2-삭제) 삭제하고자 하는 상품은? 화장지\n",
      "상품관리(1.삽입 2.삭제 3.상품확인 4. 재고확인) : 3\n",
      "상품관리3-상품확인) 확인하고자 하는 상품은 ? 베개\n",
      "True\n",
      "상품관리(1.삽입 2.삭제 3.상품확인 4. 재고확인) : 4\n",
      "상품과나리4-재고 확인 : ['커피', '립스틱', '우유', '바나나', '감귤', '장갑', '이불', '베개', '장난감', '음료수', '빵']\n"
     ]
    }
   ],
   "source": [
    "a = '커피 우유 바나나 감귤 화장지 장갑 이불 베개 장난감 음료수 빵'\n",
    "# a = '커피 우유 바나나 감귤 화장지 장갑 이불 베개 장난감 음료수 빵'.split()\n",
    "b = a.split()\n",
    "\n",
    "while 1:\n",
    "    select = int(input('상품관리(1.삽입 2.삭제 3.상품확인 4. 재고확인) : '))\n",
    "    if select == 1:\n",
    "        what1 = input('상품관리1-삽입) 삽입하고자 하는 상품은? ')\n",
    "        where1 = int(input('상품관리1-삽입) 삽입하고자 하는 위치는? '))\n",
    "        b.insert(where1, what1)\n",
    "    elif select == 2:\n",
    "        what2 = input('상품관리2-삭제) 삭제하고자 하는 상품은? ')\n",
    "        b.remove(what2)\n",
    "    elif select  == 3:\n",
    "        what3 = input('상품관리3-상품확인) 확인하고자 하는 상품은 ? ')\n",
    "        if what3 in b: print('True')\n",
    "        else: print('False')\n",
    "    else:\n",
    "        print(f'상품과나리4-재고 확인 : {b}')"
   ]
  },
  {
   "cell_type": "markdown",
   "metadata": {},
   "source": [
    "# 문제2)구, 동을 입력받고 동 이름만 출력해라"
   ]
  },
  {
   "cell_type": "code",
   "execution_count": 8,
   "metadata": {},
   "outputs": [
    {
     "name": "stdout",
     "output_type": "stream",
     "text": [
      "ln : 강동구 노원구 용산구 상암동 서울시 논현동 평창동 중구\n",
      "상암동\n",
      "논현동\n",
      "평창동\n"
     ]
    }
   ],
   "source": [
    "locs = input('ln : ').split()\n",
    "i=0\n",
    "while i < len(locs):\n",
    "    if locs[i].endswith('동'):\n",
    "        print(locs[i])\n",
    "    i+=1"
   ]
  },
  {
   "cell_type": "markdown",
   "metadata": {},
   "source": [
    "# 구, 동을 입력받고 동 이름만 출력해라 - 1"
   ]
  },
  {
   "cell_type": "code",
   "execution_count": 12,
   "metadata": {},
   "outputs": [
    {
     "name": "stdout",
     "output_type": "stream",
     "text": [
      "ln : 강동구 노원구 용산구 상암동 서울시 논현동 평창동 중구\n",
      "상암동\n",
      "논현동\n",
      "평창동\n"
     ]
    }
   ],
   "source": [
    "addr = input('ln : ').split()\n",
    "\n",
    "i = 0\n",
    "while i < len(addr):\n",
    "    if addr[i][-1] == '동': print(addr[i])\n",
    "    i += 1"
   ]
  },
  {
   "cell_type": "markdown",
   "metadata": {},
   "source": [
    "# 문제3)문장 입력받고 문장 내 모든 단어의 list 출력"
   ]
  },
  {
   "cell_type": "code",
   "execution_count": 2,
   "metadata": {},
   "outputs": [
    {
     "name": "stdout",
     "output_type": "stream",
     "text": [
      "input : A gift in season is a double favor to the needy.\n"
     ]
    },
    {
     "data": {
      "text/plain": [
       "['gift', 'in', 'season', 'is', 'double', 'favor', 'to', 'needy.']"
      ]
     },
     "execution_count": 2,
     "metadata": {},
     "output_type": "execute_result"
    }
   ],
   "source": [
    "words = input('input : ').split()\n",
    "\n",
    "i = 0\n",
    "while i < len(words):\n",
    "    if words[i].upper() == 'A' or words[i].upper() == 'AN' or words[i].upper() == 'THE':\n",
    "        del words[i]\n",
    "    i +=1 \n",
    "words"
   ]
  },
  {
   "cell_type": "markdown",
   "metadata": {},
   "source": [
    "# 튜플 ( Tuple )\n",
    "- 문자열과 튜플은 수정이 불가능\n",
    "- a = (1, 2, 3)"
   ]
  },
  {
   "cell_type": "code",
   "execution_count": 29,
   "metadata": {},
   "outputs": [],
   "source": [
    "a, *b = 1,2,3\n",
    "# *는 나머지 다 받겠다는 의미. list로 받는다"
   ]
  },
  {
   "cell_type": "code",
   "execution_count": 31,
   "metadata": {},
   "outputs": [],
   "source": [
    "*a,b = 1, 2, 3"
   ]
  },
  {
   "cell_type": "markdown",
   "metadata": {},
   "source": [
    "# 집합 ( Set )\n",
    "- 순서 x, 수정 가능, 값 중복 x\n",
    "- a = {1, 2, 3}\n",
    "- 인덱싱 불가능\n",
    "- a.add(item)\n",
    "- a.remove(item)\n",
    "- a.clear()\n",
    "- a.pop()\n",
    "- a.update(item1, item2)"
   ]
  },
  {
   "cell_type": "code",
   "execution_count": 33,
   "metadata": {},
   "outputs": [
    {
     "data": {
      "text/plain": [
       "{1, 3, 4, 5, 7, 9}"
      ]
     },
     "execution_count": 33,
     "metadata": {},
     "output_type": "execute_result"
    }
   ],
   "source": [
    "a = {7,3,1,5}\n",
    "b={1,4,7,9,5}\n",
    "c={0,3,1}\n",
    "a|b"
   ]
  },
  {
   "cell_type": "code",
   "execution_count": 34,
   "metadata": {},
   "outputs": [
    {
     "data": {
      "text/plain": [
       "{1}"
      ]
     },
     "execution_count": 34,
     "metadata": {},
     "output_type": "execute_result"
    }
   ],
   "source": [
    "b&c"
   ]
  },
  {
   "cell_type": "code",
   "execution_count": 39,
   "metadata": {},
   "outputs": [
    {
     "data": {
      "text/plain": [
       "{0, 3}"
      ]
     },
     "execution_count": 39,
     "metadata": {},
     "output_type": "execute_result"
    }
   ],
   "source": [
    "c - (a & b)"
   ]
  },
  {
   "cell_type": "code",
   "execution_count": 37,
   "metadata": {},
   "outputs": [
    {
     "data": {
      "text/plain": [
       "{0, 1, 3, 4, 9}"
      ]
     },
     "execution_count": 37,
     "metadata": {},
     "output_type": "execute_result"
    }
   ],
   "source": [
    "(a ^ b) | c"
   ]
  },
  {
   "cell_type": "code",
   "execution_count": 38,
   "metadata": {},
   "outputs": [
    {
     "data": {
      "text/plain": [
       "{0, 1, 4, 9}"
      ]
     },
     "execution_count": 38,
     "metadata": {},
     "output_type": "execute_result"
    }
   ],
   "source": [
    "a ^ b ^ c"
   ]
  },
  {
   "cell_type": "markdown",
   "metadata": {},
   "source": [
    "# for문\n",
    "- for 변수 in 리스트(or 문자열 등):\n"
   ]
  },
  {
   "cell_type": "code",
   "execution_count": 40,
   "metadata": {},
   "outputs": [
    {
     "name": "stdout",
     "output_type": "stream",
     "text": [
      "1\n",
      "two\n",
      "three\n",
      "4\n"
     ]
    }
   ],
   "source": [
    "for i in ['1','two','three',4]:\n",
    "    print(i)"
   ]
  },
  {
   "cell_type": "code",
   "execution_count": 41,
   "metadata": {},
   "outputs": [
    {
     "name": "stdout",
     "output_type": "stream",
     "text": [
      "h\n",
      "e\n",
      "l\n",
      "l\n",
      "o\n"
     ]
    }
   ],
   "source": [
    "for i in 'hello':\n",
    "    print(i)"
   ]
  },
  {
   "cell_type": "code",
   "execution_count": 42,
   "metadata": {},
   "outputs": [
    {
     "name": "stdout",
     "output_type": "stream",
     "text": [
      "i really like programming.\n",
      "i really like pasta.\n",
      "i really like playing game.\n"
     ]
    }
   ],
   "source": [
    "for thing in ['programming', 'pasta', 'playing game']:\n",
    "    print(f'i really like {thing}.')"
   ]
  },
  {
   "cell_type": "code",
   "execution_count": 48,
   "metadata": {},
   "outputs": [
    {
     "data": {
      "text/plain": [
       "[5, 4, 3, 2, 1]"
      ]
     },
     "execution_count": 48,
     "metadata": {},
     "output_type": "execute_result"
    }
   ],
   "source": [
    "a= list(range(5,0,-1))\n",
    "a"
   ]
  },
  {
   "cell_type": "markdown",
   "metadata": {},
   "source": [
    "# 예제1 구구단 for문 이용"
   ]
  },
  {
   "cell_type": "code",
   "execution_count": 50,
   "metadata": {},
   "outputs": [
    {
     "name": "stdout",
     "output_type": "stream",
     "text": [
      "1 * 1 = 1\n",
      "1 * 2 = 2\n",
      "1 * 3 = 3\n",
      "1 * 4 = 4\n",
      "1 * 5 = 5\n",
      "1 * 6 = 6\n",
      "1 * 7 = 7\n",
      "1 * 8 = 8\n",
      "1 * 9 = 9\n",
      "------------------@------------------\n",
      "2 * 1 = 2\n",
      "2 * 2 = 4\n",
      "2 * 3 = 6\n",
      "2 * 4 = 8\n",
      "2 * 5 = 10\n",
      "2 * 6 = 12\n",
      "2 * 7 = 14\n",
      "2 * 8 = 16\n",
      "2 * 9 = 18\n",
      "------------------@------------------\n",
      "3 * 1 = 3\n",
      "3 * 2 = 6\n",
      "3 * 3 = 9\n",
      "3 * 4 = 12\n",
      "3 * 5 = 15\n",
      "3 * 6 = 18\n",
      "3 * 7 = 21\n",
      "3 * 8 = 24\n",
      "3 * 9 = 27\n",
      "------------------@------------------\n",
      "4 * 1 = 4\n",
      "4 * 2 = 8\n",
      "4 * 3 = 12\n",
      "4 * 4 = 16\n",
      "4 * 5 = 20\n",
      "4 * 6 = 24\n",
      "4 * 7 = 28\n",
      "4 * 8 = 32\n",
      "4 * 9 = 36\n",
      "------------------@------------------\n",
      "5 * 1 = 5\n",
      "5 * 2 = 10\n",
      "5 * 3 = 15\n",
      "5 * 4 = 20\n",
      "5 * 5 = 25\n",
      "5 * 6 = 30\n",
      "5 * 7 = 35\n",
      "5 * 8 = 40\n",
      "5 * 9 = 45\n",
      "------------------@------------------\n",
      "6 * 1 = 6\n",
      "6 * 2 = 12\n",
      "6 * 3 = 18\n",
      "6 * 4 = 24\n",
      "6 * 5 = 30\n",
      "6 * 6 = 36\n",
      "6 * 7 = 42\n",
      "6 * 8 = 48\n",
      "6 * 9 = 54\n",
      "------------------@------------------\n",
      "7 * 1 = 7\n",
      "7 * 2 = 14\n",
      "7 * 3 = 21\n",
      "7 * 4 = 28\n",
      "7 * 5 = 35\n",
      "7 * 6 = 42\n",
      "7 * 7 = 49\n",
      "7 * 8 = 56\n",
      "7 * 9 = 63\n",
      "------------------@------------------\n",
      "8 * 1 = 8\n",
      "8 * 2 = 16\n",
      "8 * 3 = 24\n",
      "8 * 4 = 32\n",
      "8 * 5 = 40\n",
      "8 * 6 = 48\n",
      "8 * 7 = 56\n",
      "8 * 8 = 64\n",
      "8 * 9 = 72\n",
      "------------------@------------------\n",
      "9 * 1 = 9\n",
      "9 * 2 = 18\n",
      "9 * 3 = 27\n",
      "9 * 4 = 36\n",
      "9 * 5 = 45\n",
      "9 * 6 = 54\n",
      "9 * 7 = 63\n",
      "9 * 8 = 72\n",
      "9 * 9 = 81\n",
      "------------------@------------------\n"
     ]
    }
   ],
   "source": [
    "for i in range(1,10):\n",
    "    for j in range(1,10):\n",
    "        print(f'{i} * {j} = {i*j}')\n",
    "    print('------------------@------------------')"
   ]
  },
  {
   "cell_type": "markdown",
   "metadata": {},
   "source": [
    "# 나무베기 for문 이용"
   ]
  },
  {
   "cell_type": "code",
   "execution_count": 66,
   "metadata": {
    "scrolled": true
   },
   "outputs": [
    {
     "name": "stdout",
     "output_type": "stream",
     "text": [
      "나무를 1 번 찍었습니다. 쾅\n",
      "나무를 2 번 찍었습니다. 쾅, 쾅\n",
      "나무를 3 번 찍었습니다. 쾅, 쾅, 쾅\n",
      "나무를 4 번 찍었습니다. 쾅, 쾅, 쾅, 쾅\n",
      "나무를 5 번 찍었습니다. 쾅, 쾅, 쾅, 쾅, 쾅\n",
      "나무를 6 번 찍었습니다. 쾅, 쾅, 쾅, 쾅, 쾅, 쾅\n",
      "나무를 7 번 찍었습니다. 쾅, 쾅, 쾅, 쾅, 쾅, 쾅, 쾅\n",
      "나무를 8 번 찍었습니다. 쾅, 쾅, 쾅, 쾅, 쾅, 쾅, 쾅, 쾅\n",
      "나무를 9 번 찍었습니다. 쾅, 쾅, 쾅, 쾅, 쾅, 쾅, 쾅, 쾅, 쾅\n",
      "나무를 10 번 찍었습니다. 쾅, 쾅, 쾅, 쾅, 쾅, 쾅, 쾅, 쾅, 쾅, 쾅\n",
      "나무가 넘어갔다\n"
     ]
    }
   ],
   "source": [
    "for n in range(1,11):\n",
    "    print('나무를', n , '번 찍었습니다.', '쾅, '*(n-1)+'쾅')\n",
    "print('나무가 넘어갔다')"
   ]
  },
  {
   "cell_type": "markdown",
   "metadata": {},
   "source": [
    "# 나무 그리기 for문 이용"
   ]
  },
  {
   "cell_type": "code",
   "execution_count": 7,
   "metadata": {},
   "outputs": [
    {
     "name": "stdout",
     "output_type": "stream",
     "text": [
      "나무크기 : 8\n",
      "나뭇잎 모양 : aa\n",
      "줄기 모양 : tt\n",
      "        \n",
      "       aa\n",
      "      aaaa\n",
      "     aaaaaa\n",
      "    aaaaaaaa\n",
      "   aaaaaaaaaa\n",
      "  aaaaaaaaaaaa\n",
      " aaaaaaaaaaaaaa\n",
      "aaaaaaaaaaaaaaaa\n",
      "       tt\n",
      "       tt\n",
      "       tt\n",
      "       tt\n"
     ]
    }
   ],
   "source": [
    "size = int(input('나무크기 : '))\n",
    "leaf = input('나뭇잎 모양 : ')\n",
    "stem = input('줄기 모양 : ')\n",
    "\n",
    "for i in range(size+1):\n",
    "    print(' ' * (size-i) + leaf * i)\n",
    "for j in range(size//2):\n",
    "    print(' ' * (size-1) + stem)"
   ]
  },
  {
   "cell_type": "code",
   "execution_count": null,
   "metadata": {},
   "outputs": [],
   "source": []
  },
  {
   "cell_type": "code",
   "execution_count": 20,
   "metadata": {},
   "outputs": [
    {
     "name": "stdout",
     "output_type": "stream",
     "text": [
      "점수를 여러개 입력하세요 : 70 80 90\n",
      "점수의 합계는 240 입니다.\n",
      "점수의 평균은 80.0 입니다.\n"
     ]
    }
   ],
   "source": [
    "scores = input('점수를 여러개 입력하세요 : ').split()\n",
    "sum = 0\n",
    "avg = 0\n",
    "for i in scores:\n",
    "    sum += int(i)\n",
    "    avg += sum\n",
    "print(f'점수의 합계는 {sum} 입니다.')\n",
    "print(f'점수의 평균은 {sum/len(scores)} 입니다.')"
   ]
  },
  {
   "cell_type": "markdown",
   "metadata": {},
   "source": [
    "# ??"
   ]
  },
  {
   "cell_type": "code",
   "execution_count": 4,
   "metadata": {},
   "outputs": [
    {
     "data": {
      "text/plain": [
       "[7, 1, 6, 4]"
      ]
     },
     "execution_count": 4,
     "metadata": {},
     "output_type": "execute_result"
    }
   ],
   "source": [
    "import random\n",
    "ran = random.sample(range(1,11), 4)\n",
    "ran"
   ]
  },
  {
   "cell_type": "code",
   "execution_count": 38,
   "metadata": {},
   "outputs": [
    {
     "data": {
      "text/plain": [
       "[3, 6, 7, 9]"
      ]
     },
     "execution_count": 38,
     "metadata": {},
     "output_type": "execute_result"
    }
   ],
   "source": [
    "import random\n",
    "ran =random.sampe"
   ]
  },
  {
   "cell_type": "markdown",
   "metadata": {},
   "source": [
    "# 문제4)1~10 중 4개의 숫자를 입력, 결과 알려주기"
   ]
  },
  {
   "cell_type": "code",
   "execution_count": 3,
   "metadata": {},
   "outputs": [
    {
     "name": "stdout",
     "output_type": "stream",
     "text": [
      "복권 번호를 맞춰보세yo! \n",
      "\n",
      "4개의 숫자를 입력하세요 : 1 2 3 4\n",
      "이번주 복권 예상 번호는 [1, 2, 3, 5] 입니다.\n",
      "맞춘 숫자는 [1, 2, 3]입니다.\n",
      "3개를 맞춰 당첨금은 5000 원입니다.\n",
      "또 하시겠습니까? : y\n",
      "4개의 숫자를 입력하세요 : 1 2 3 5\n",
      "이번주 복권 예상 번호는 [2, 3, 4, 5] 입니다.\n",
      "맞춘 숫자는 [2, 3, 5]입니다.\n",
      "3개를 맞춰 당첨금은 5000 원입니다.\n",
      "또 하시겠습니까? : n\n",
      "총 당첨금은 10000원입니다.\n"
     ]
    }
   ],
   "source": [
    "import random\n",
    "\n",
    "print('복권 번호를 맞춰보세yo! \\n')\n",
    "sum = 0\n",
    "while True:\n",
    "    nums = input('4개의 숫자를 입력하세요 : ').split()\n",
    "    nums = [int (i) for i in nums]\n",
    "    ran = random.sample(range(1,6), 4)\n",
    "    ran.sort()    \n",
    "    \n",
    "    print(f'이번주 복권 예상 번호는 {ran} 입니다.')\n",
    "    \n",
    "    same = []\n",
    "    for i in nums:\n",
    "        for j in ran:\n",
    "                if i == j:\n",
    "                    same.append(j)\n",
    "    print(f'맞춘 숫자는 {same}입니다.')\n",
    "    \n",
    "    \n",
    "    if len(same) == 3:\n",
    "        dangchum = 5000\n",
    "        \n",
    "    elif len(same) == 4:\n",
    "        dangchum = 10000\n",
    "        \n",
    "    else:\n",
    "        dangchum = 0\n",
    "     \n",
    "    print(f'{len(same)}개를 맞춰 당첨금은 {dangchum} 원입니다.')\n",
    "    \n",
    "    sum += dangchum\n",
    "       \n",
    "    q = input('또 하시겠습니까? : ')\n",
    "    if q.upper() == 'Y':\n",
    "        continue\n",
    "    elif q.upper() == 'N':\n",
    "        \n",
    "        break\n",
    "\n",
    "        \n",
    "print(f'총 당첨금은 {sum}원입니다.')"
   ]
  },
  {
   "cell_type": "code",
   "execution_count": 5,
   "metadata": {},
   "outputs": [
    {
     "data": {
      "text/plain": [
       "['k', 't']"
      ]
     },
     "execution_count": 5,
     "metadata": {},
     "output_type": "execute_result"
    }
   ],
   "source": [
    "# list 끼리 교집합 삭제\n",
    "a = ['a','an','the']\n",
    "b = ['k','t','the']\n",
    "\n",
    "for i in a:\n",
    "    for j in b:\n",
    "        if i == j:\n",
    "            b.remove(j)\n",
    "b"
   ]
  },
  {
   "cell_type": "code",
   "execution_count": null,
   "metadata": {},
   "outputs": [],
   "source": []
  }
 ],
 "metadata": {
  "kernelspec": {
   "display_name": "Python 3",
   "language": "python",
   "name": "python3"
  },
  "language_info": {
   "codemirror_mode": {
    "name": "ipython",
    "version": 3
   },
   "file_extension": ".py",
   "mimetype": "text/x-python",
   "name": "python",
   "nbconvert_exporter": "python",
   "pygments_lexer": "ipython3",
   "version": "3.7.5"
  }
 },
 "nbformat": 4,
 "nbformat_minor": 2
}
