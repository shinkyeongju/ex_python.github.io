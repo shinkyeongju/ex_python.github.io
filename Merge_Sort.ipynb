{
 "cells": [
  {
   "cell_type": "markdown",
   "metadata": {},
   "source": [
    "# 병합 정렬"
   ]
  },
  {
   "cell_type": "code",
   "execution_count": 9,
   "metadata": {},
   "outputs": [],
   "source": [
    "def mainList(list1, list2):\n",
    "    list1Sort = kk(list1)\n",
    "    list2Sort = kk(list2)\n",
    "    print(compareList(list1Sort,list2Sort))\n",
    "# ----------------------------------------------------------------- 선택정렬\n",
    "def k(a):\n",
    "    small = a[0]\n",
    "    for i in range(1,len(a)):\n",
    "        if small > a[i]:\n",
    "            small = a[i]\n",
    "    return small\n",
    "\n",
    "def kk(a):\n",
    "    result_list = []\n",
    "    while a:\n",
    "        result = a.pop(a.index(k(a)))\n",
    "        result_list.append(result)\n",
    "    return result_list\n",
    "# ----------------------------------------------------------------------\n",
    "def compareList(aSort,bSort):\n",
    "    c = []\n",
    "    while len(aSort)!=0 and len(bSort)!=0 :\n",
    "        if aSort[0] > bSort[0]:\n",
    "            value = bSort.pop(0)\n",
    "            c.append(value)\n",
    "#             print(value)\n",
    "        else:\n",
    "            value = aSort.pop(0)\n",
    "            c.append(value)\n",
    "#             print(value)\n",
    "    if len(aSort) !=0: c.extend(aSort)\n",
    "    elif len(bSort) !=0: c.extend(bSort)\n",
    "    return c"
   ]
  },
  {
   "cell_type": "code",
   "execution_count": 8,
   "metadata": {},
   "outputs": [
    {
     "name": "stdout",
     "output_type": "stream",
     "text": [
      "[1, 2, 3, 4, 5, 6, 7, 8, 9, 10]\n"
     ]
    }
   ],
   "source": [
    "a = [5,3,2,1,4]\n",
    "b = [9,10,7,6,8]\n",
    "mainList(a,b)"
   ]
  }
 ],
 "metadata": {
  "kernelspec": {
   "display_name": "Python 3",
   "language": "python",
   "name": "python3"
  },
  "language_info": {
   "codemirror_mode": {
    "name": "ipython",
    "version": 3
   },
   "file_extension": ".py",
   "mimetype": "text/x-python",
   "name": "python",
   "nbconvert_exporter": "python",
   "pygments_lexer": "ipython3",
   "version": "3.7.5"
  }
 },
 "nbformat": 4,
 "nbformat_minor": 2
}
