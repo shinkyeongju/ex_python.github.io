{
 "cells": [
  {
   "cell_type": "markdown",
   "metadata": {},
   "source": [
    "# 온도 변환 프로그램"
   ]
  },
  {
   "cell_type": "code",
   "execution_count": 22,
   "metadata": {},
   "outputs": [],
   "source": [
    "from tkinter import *\n",
    "from tkinter.filedialog import *\n",
    "import tkinter.messagebox\n",
    "\n",
    "import tkinter.simpledialog\n",
    "\n",
    "\n",
    "def temper():\n",
    "    global entry_c, entry_f\n",
    "    window = Tk()\n",
    "    window.title('온도 변환 프로그램') # 윈도우 이름\n",
    "    window.geometry('250x150') # 윈도우 가로 * 세로 사이즈\n",
    "    label_1 = Label(window, text='온도 변환 프로그램')\n",
    "    label_2 = Label(window, text = '섭씨')\n",
    "    label_3 = Label(window, text = '화씨')\n",
    "    label_1.grid(row=0, column = 0, columnspan =2)        # label 위젯을 윈도우에 배치 , span --> 열이나 행을 합치는 것\n",
    "    label_2.grid(row=1, column = 0)\n",
    "    label_3.grid(row=2, column = 0)\n",
    "\n",
    "\n",
    "\n",
    "    entry_c = Entry(window)\n",
    "    entry_f = Entry(window)\n",
    "\n",
    "    entry_c.grid(row=1, column=1)\n",
    "    entry_f.grid(row=2, column=1)                      # 형식 : Entry(객체명, 속성)\n",
    "\n",
    "    btn_1=Button(window, text='섭씨 -> 화씨', command = cTof)\n",
    "    btn_2=Button(window, text='화씨 -> 섭씨', command = fToc)\n",
    "\n",
    "    btn_1.grid(row=3, column = 0)\n",
    "    btn_2.grid(row=3, column = 1)\n",
    "    window.mainloop()\n",
    "    \n",
    "def cTof():\n",
    "    global entry_f\n",
    "    c = float(entry_c.get())\n",
    "    f = 9.0/5.0*c+32.0\n",
    "    entry_c.delete(0,END)\n",
    "    entry_f.insert(0,str(f))\n",
    "\n",
    "\n",
    "def fToc():\n",
    "    global entry_c\n",
    "    f = float(entry_f.get())\n",
    "    c = 5.0/9.0*(f-32.0)\n",
    "    entry_f.delete(0,END)\n",
    "    entry_c.insert(0,str(c))  "
   ]
  },
  {
   "cell_type": "code",
   "execution_count": 25,
   "metadata": {},
   "outputs": [],
   "source": [
    "temper()"
   ]
  },
  {
   "cell_type": "code",
   "execution_count": 34,
   "metadata": {},
   "outputs": [],
   "source": [
    "from tkinter import *\n",
    "\n",
    "\n",
    "\n",
    "def cal():\n",
    "    global col_index, s\n",
    "    window = Tk()\n",
    "    window.title('My Calculator')\n",
    "    display = Entry(window, width = 33, bg = 'pink')\n",
    "    display.grid(row = 0, column = 0, columnspan = 5)\n",
    "    bt_list = '7,8,9,/,C,4,5,6,*,%,1,2,3,-,**,0,,=,+,←'.split(\",\")\n",
    "    print(bt_list)\n",
    "\n",
    "    col_index = 0\n",
    "    row_num = 1\n",
    "    for button_text in bt_list:       # command =lambda x = button_text : click(x) --> button_text 가 x로 가고 x가 click()으로 간다.\n",
    "        Button(window, text=button_text, width = 5, command =lambda x = button_text : click(x)).grid(row = row_num, column = col_index)\n",
    "    #     btn = Button(window, text=bt_text, width = 5)\n",
    "    #     btn.grid(row = row_num, column = col_index)              \n",
    "        col_index += 1\n",
    "        if col_index == 5:      # row 변경 해주는 code\n",
    "            row_num+=1\n",
    "            col_index = 0\n",
    "    def click(key):\n",
    "        if key == '=':\n",
    "            result = eval(display.get())\n",
    "            s = str(result)\n",
    "            display.insert(END, '=' + s)\n",
    "        elif key == 'C':\n",
    "            display.delete(0, END)               # delete(시작점,끝점) --> 시작점부터 끝점까지 지운다.\n",
    "        elif key == '←':\n",
    "            size = len(display.get())\n",
    "            display.delete(size-1,END)\n",
    "        else: display.insert(END, key)\n",
    "    window.mainloop()"
   ]
  },
  {
   "cell_type": "code",
   "execution_count": 35,
   "metadata": {},
   "outputs": [
    {
     "name": "stdout",
     "output_type": "stream",
     "text": [
      "['7', '8', '9', '/', 'C', '4', '5', '6', '*', '%', '1', '2', '3', '-', '**', '0', '', '=', '+', '←']\n"
     ]
    }
   ],
   "source": [
    "cal()"
   ]
  },
  {
   "cell_type": "code",
   "execution_count": null,
   "metadata": {},
   "outputs": [],
   "source": []
  }
 ],
 "metadata": {
  "kernelspec": {
   "display_name": "Python 3",
   "language": "python",
   "name": "python3"
  },
  "language_info": {
   "codemirror_mode": {
    "name": "ipython",
    "version": 3
   },
   "file_extension": ".py",
   "mimetype": "text/x-python",
   "name": "python",
   "nbconvert_exporter": "python",
   "pygments_lexer": "ipython3",
   "version": "3.7.5"
  }
 },
 "nbformat": 4,
 "nbformat_minor": 2
}
