{
 "cells": [
  {
   "cell_type": "markdown",
   "metadata": {},
   "source": [
    "# 하노이의 탑\n",
    "- 원반이 n개인 하노이의탑을 옮기기 위한 원반 이동 순서를 출력"
   ]
  },
  {
   "cell_type": "code",
   "execution_count": 12,
   "metadata": {},
   "outputs": [],
   "source": [
    "def twoSum(n):\n",
    "    if n == 0: return 1\n",
    "    return 2**n + twoSum(n-1)"
   ]
  },
  {
   "cell_type": "code",
   "execution_count": 14,
   "metadata": {},
   "outputs": [
    {
     "data": {
      "text/plain": [
       "7"
      ]
     },
     "execution_count": 14,
     "metadata": {},
     "output_type": "execute_result"
    }
   ],
   "source": [
    "twoSum(2)"
   ]
  },
  {
   "cell_type": "markdown",
   "metadata": {},
   "source": [
    "# lambda 함수\n",
    "- 이름없는 정의"
   ]
  },
  {
   "cell_type": "markdown",
   "metadata": {},
   "source": [
    "### lambda 함수를 이용한 계산기 프로그램\n",
    "- gire = 배치 관련 method"
   ]
  },
  {
   "cell_type": "code",
   "execution_count": null,
   "metadata": {},
   "outputs": [],
   "source": [
    "b = 3\n",
    "var = lambda x=b:print(x+55)\n",
    "var()"
   ]
  },
  {
   "cell_type": "markdown",
   "metadata": {},
   "source": [
    "#### 계산기 만들기\n",
    "- eval() --> 문자로 된 수식만 계산을 한다. ex) eval('3+5')"
   ]
  },
  {
   "cell_type": "code",
   "execution_count": 49,
   "metadata": {},
   "outputs": [
    {
     "name": "stdout",
     "output_type": "stream",
     "text": [
      "('7', '8', '9', '/', 'C', '4', '5', '6', '*', '%', '1', '2', '3', '-', '**', '0', '.', '=', '+', ['←'])\n"
     ]
    }
   ],
   "source": [
    "from tkinter import *\n",
    "\n",
    "\n",
    "\n",
    "def cal():\n",
    "    window = Tk()\n",
    "    window.title('My Calculator')\n",
    "    display = Entry(window, width = 33, bg = 'pink')\n",
    "    display.grid(row = 0, column = 0, columnspan = 5)\n",
    "    bt_list = '7,8,9,/,C,4,5,6,*,%,1,2,3,-,**,0,,=,+,←'.split(\",\")\n",
    "    print(bt_list)\n",
    "\n",
    "    col_index = 0\n",
    "    row_num = 1\n",
    "    for button_text in bt_list:       # command =lambda x = button_text : click(x) --> button_text 가 x로 가고 x가 click()으로 간다.\n",
    "        Button(window, text=button_text, width = 5, command =lambda x = button_text : click(x)).grid(row = row_num, column = col_index)\n",
    "    #     btn = Button(window, text=bt_text, width = 5)\n",
    "    #     btn.grid(row = row_num, column = col_index)              \n",
    "        col_index += 1\n",
    "        if col_index == 5:      # row 변경 해주는 code\n",
    "            row_num+=1\n",
    "            col_index = 0\n",
    "    def click(key):\n",
    "        if key == '=':\n",
    "            result = eval(display.get())\n",
    "            s = str(result)\n",
    "            display.insert(END, '=' + s)\n",
    "        elif key == 'C':\n",
    "            display.delete(0, END)               # delete(시작점,끝점) --> 시작점부터 끝점까지 지운다.\n",
    "        elif key == '←':\n",
    "            size = len(display.get())\n",
    "            display.delete(size-1,END)\n",
    "        else: display.insert(END, key)\n",
    "    window.mainloop()"
   ]
  },
  {
   "cell_type": "markdown",
   "metadata": {},
   "source": [
    "## Menu() 위젯"
   ]
  },
  {
   "cell_type": "code",
   "execution_count": 2,
   "metadata": {},
   "outputs": [
    {
     "name": "stdout",
     "output_type": "stream",
     "text": [
      "['7', '8', '9', '/', 'C', '4', '5', '6', '*', '%', '1', '2', '3', '-', '**', '0', '', '=', '+', '←']\n"
     ]
    }
   ],
   "source": [
    "from tkinter import *\n",
    "from tkinter.filedialog import *\n",
    "# from 형태로 import 해줬기 때문에 모듈명을 안써줘도 된다 ex) pd.read_csv\n",
    "# 모듈안에 있는 함수들은 import 가능하나 sub모듈은 import가 안되기에 별도로 import 해줌\n",
    "import tkinter.messagebox\n",
    "import tkinter.simpledialog\n",
    "import temp\n",
    "import calcul\n",
    "\n",
    "def save():\n",
    "    file=asksaveasfile(parent=w,mode='w')        # tkinter.filedialog 안에 asksaveasfile 이라는 함수가 있다\n",
    "    print(file)\n",
    "    if file!= None:\n",
    "        lines = text.get('0.0', END+'-1c')       # 0행 0열부터 끝까지 get해서 lines에 저장, '-1c'는 맞미가 빈줄 넣지 말란 의미\n",
    "        file.write(lines)\n",
    "        file.close()\n",
    "\n",
    "def open():\n",
    "#     text.delete('0.0', lines)\n",
    "    file=askopenfile(parent=w, mode='r')\n",
    "    print(file)\n",
    "    if file!= None:\n",
    "        lines = file.read()\n",
    "        text.insert('0.0', lines)\n",
    "        file.close()  \n",
    "\n",
    "message1 = '''노래 제목 : '출발'\n",
    "가수 : 김동률\n",
    "발매 년도 : 2008년'''\n",
    "sum1 = 0\n",
    "def showmessage():\n",
    "    tkinter.messagebox.showinfo('showinfo', message1)\n",
    "\n",
    "def isyn():\n",
    "    answer = tkinter.messagebox.askyesnocancel('새로만들기', '저장할래?')\n",
    "    if answer == True :\n",
    "        save()\n",
    "        text.delete('0.0', END)\n",
    "    elif answer == False : text.delete('0.0', END)\n",
    "    else: pass\n",
    "    \n",
    "def exit():\n",
    "    if tkinter.messagebox.askokcancel('종료' ,'종료할래?'):\n",
    "        w.destroy()\n",
    "\n",
    "def sumNum():\n",
    "    global sum1\n",
    "    num = tkinter.simpledialog.askinteger('1부터 입력한 숫자까지의 합', '숫자를 입력하시오')\n",
    "    for i in range(1,num+1):\n",
    "        sum1+=i\n",
    "    isynsum(sum1)\n",
    "\n",
    "def isynsum(sum):\n",
    "    global sum1\n",
    "    tkinter.messagebox.askokcancel('합', f'합은 {sum1} 재밌지?')\n",
    "    w.destroy()\n",
    "    \n",
    "\n",
    "    \n",
    "w = Tk()\n",
    "w.title('TTTTTTTTTTTTTTTTTTTTTTTTTTTTTTTTTTTTTT')\n",
    "text = Text(w, height = 30, width = 80)a\n",
    "text.pack()\n",
    "\n",
    "mymenu = Menu(w)\n",
    "\n",
    "w.config(menu=mymenu)\n",
    "filemenu = Menu(mymenu)\n",
    "helpmenu = Menu(mymenu)\n",
    "program = Menu(mymenu)\n",
    "\n",
    "mymenu.add_cascade(label='파일', menu=filemenu)\n",
    "mymenu.add_cascade(label='프로그램', menu=program)\n",
    "mymenu.add_cascade(label='도움말', menu=helpmenu)\n",
    "\n",
    "program.add_command(label='합구하기 프로그램', command=sumNum)\n",
    "program.add_command(label='온도변환 프로그램', command=temp.temper)\n",
    "program.add_command(label='계산기', command=calcul.cal)\n",
    "helpmenu.add_command(label='프로그램 정보', command=showmessage)\n",
    "filemenu.add_command(label='새로만들기', command=isyn)\n",
    "filemenu.add_command(label='열기', command=open)\n",
    "filemenu.add_command(label='저장하기', command=save)\n",
    "filemenu.add_command(label='종료', command=exit)\n",
    "\n",
    "w.mainloop()"
   ]
  },
  {
   "cell_type": "code",
   "execution_count": null,
   "metadata": {},
   "outputs": [],
   "source": []
  }
 ],
 "metadata": {
  "kernelspec": {
   "display_name": "Python 3",
   "language": "python",
   "name": "python3"
  },
  "language_info": {
   "codemirror_mode": {
    "name": "ipython",
    "version": 3
   },
   "file_extension": ".py",
   "mimetype": "text/x-python",
   "name": "python",
   "nbconvert_exporter": "python",
   "pygments_lexer": "ipython3",
   "version": "3.7.5"
  }
 },
 "nbformat": 4,
 "nbformat_minor": 2
}
