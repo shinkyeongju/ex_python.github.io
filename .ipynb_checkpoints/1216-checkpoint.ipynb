{
 "cells": [
  {
   "cell_type": "markdown",
   "metadata": {},
   "source": [
    "## 함수의 매개변수에 들어가는 변수는 지역 변수"
   ]
  },
  {
   "cell_type": "markdown",
   "metadata": {},
   "source": [
    "def cal(*num, op='+'):\n",
    "    if op ~"
   ]
  },
  {
   "cell_type": "code",
   "execution_count": 1,
   "metadata": {},
   "outputs": [
    {
     "data": {
      "text/plain": [
       "0.0002943213296398892"
      ]
     },
     "execution_count": 1,
     "metadata": {},
     "output_type": "execute_result"
    }
   ],
   "source": [
    "def getBMI(w,h):           # w, h는 지역변수\n",
    "    return w/h**2\n",
    "\n",
    "w=76\n",
    "h=1.7\n",
    "getBMI(h,w)\n",
    "# getBMU(h=h, w=w) 네이밍 방식\n"
   ]
  },
  {
   "cell_type": "markdown",
   "metadata": {},
   "source": [
    "# 함수 = first class(object)\n",
    "- 함수를 변수처럼 사용할 수 있다는 의미로 이해\n",
    "- 함수명.__doc__ : 도움말\n",
    "- 함수명.__name__ : 정의되었던 함수 이름\n",
    "- help(newAdd)"
   ]
  },
  {
   "cell_type": "code",
   "execution_count": 12,
   "metadata": {},
   "outputs": [],
   "source": [
    "def add(x,y):\n",
    "    'Performs x + y'  # 첫 줄의 문자열은 도움말로 취급\n",
    "    return x+y"
   ]
  },
  {
   "cell_type": "code",
   "execution_count": 13,
   "metadata": {},
   "outputs": [
    {
     "data": {
      "text/plain": [
       "7"
      ]
     },
     "execution_count": 13,
     "metadata": {},
     "output_type": "execute_result"
    }
   ],
   "source": [
    "newAdd = add              # 함수를 변수처럼 썼다\n",
    "del add                   # add 함수는 삭제되고 newAdd는 사용 가능하다\n",
    "newAdd(3, 4)"
   ]
  },
  {
   "cell_type": "code",
   "execution_count": 16,
   "metadata": {},
   "outputs": [
    {
     "name": "stdout",
     "output_type": "stream",
     "text": [
      "Help on function add in module __main__:\n",
      "\n",
      "add(x, y)\n",
      "    Performs x + y\n",
      "\n"
     ]
    }
   ],
   "source": [
    "help(newAdd)"
   ]
  },
  {
   "cell_type": "code",
   "execution_count": 17,
   "metadata": {},
   "outputs": [
    {
     "data": {
      "text/plain": [
       "'Performs x + y'"
      ]
     },
     "execution_count": 17,
     "metadata": {},
     "output_type": "execute_result"
    }
   ],
   "source": [
    "newAdd.__doc__"
   ]
  },
  {
   "cell_type": "code",
   "execution_count": 18,
   "metadata": {},
   "outputs": [
    {
     "data": {
      "text/plain": [
       "'add'"
      ]
     },
     "execution_count": 18,
     "metadata": {},
     "output_type": "execute_result"
    }
   ],
   "source": [
    "newAdd.__name__"
   ]
  },
  {
   "cell_type": "markdown",
   "metadata": {},
   "source": [
    "## 함수를 함수의 인자로 전달 가능"
   ]
  },
  {
   "cell_type": "code",
   "execution_count": 19,
   "metadata": {},
   "outputs": [],
   "source": [
    "def cal(f, x, y): return f(x,y)\n",
    "def add(x, y): return x + y\n",
    "def sub(x, y ): return x - y"
   ]
  },
  {
   "cell_type": "code",
   "execution_count": 20,
   "metadata": {},
   "outputs": [
    {
     "data": {
      "text/plain": [
       "7"
      ]
     },
     "execution_count": 20,
     "metadata": {},
     "output_type": "execute_result"
    }
   ],
   "source": [
    "cal(add, 3, 4)"
   ]
  },
  {
   "cell_type": "code",
   "execution_count": 21,
   "metadata": {},
   "outputs": [
    {
     "data": {
      "text/plain": [
       "-1"
      ]
     },
     "execution_count": 21,
     "metadata": {},
     "output_type": "execute_result"
    }
   ],
   "source": [
    "cal(sub, 3, 4)"
   ]
  },
  {
   "cell_type": "markdown",
   "metadata": {},
   "source": [
    "## 리스트에 함수 넣기\n",
    "- 함수는 다른데 똑같은 데이터 일 때, 유용"
   ]
  },
  {
   "cell_type": "code",
   "execution_count": 32,
   "metadata": {},
   "outputs": [
    {
     "name": "stdout",
     "output_type": "stream",
     "text": [
      "Get out\n",
      "GET OUT!!!\n",
      "get out..\n"
     ]
    }
   ],
   "source": [
    "def yell(text): return text.upper() + '!!!'\n",
    "def whisper(text): return text.lower() + '..'\n",
    "\n",
    "funcs = [str.capitalize, yell, whisper]                # 'apple'.capitalize() = str.capitalize('apple')\n",
    "\n",
    "for f in funcs:\n",
    "    print(f('get out'))"
   ]
  },
  {
   "cell_type": "code",
   "execution_count": 33,
   "metadata": {},
   "outputs": [
    {
     "data": {
      "text/plain": [
       "'Be quiet'"
      ]
     },
     "execution_count": 33,
     "metadata": {},
     "output_type": "execute_result"
    }
   ],
   "source": [
    "funcs[0]('be quiet')"
   ]
  },
  {
   "cell_type": "code",
   "execution_count": 34,
   "metadata": {},
   "outputs": [
    {
     "data": {
      "text/plain": [
       "'BE QUIET!!!'"
      ]
     },
     "execution_count": 34,
     "metadata": {},
     "output_type": "execute_result"
    }
   ],
   "source": [
    "funcs[1]('be quiet')"
   ]
  },
  {
   "cell_type": "code",
   "execution_count": 35,
   "metadata": {},
   "outputs": [
    {
     "data": {
      "text/plain": [
       "'be quiet..'"
      ]
     },
     "execution_count": 35,
     "metadata": {},
     "output_type": "execute_result"
    }
   ],
   "source": [
    "funcs[2]('be quiet')"
   ]
  },
  {
   "cell_type": "markdown",
   "metadata": {},
   "source": [
    "## labda\n",
    "- 익명 함수\n",
    "- 메모리 절약 + 가독성 향상ㅇ\n",
    "- 함수이름 = lambda 매개변수1, 매개변수2, .. : 매개변수들을 이용한 표현식"
   ]
  },
  {
   "cell_type": "code",
   "execution_count": 36,
   "metadata": {},
   "outputs": [],
   "source": [
    "# def Add(x , y):\n",
    "#     return x + y\n",
    "# lambda x, y: x + y\n",
    "# ----> Add란 이름 없이 똑같이 정의 해준 것. 반복적으로 사용하고 싶다면\n",
    "# Add = labda x,y: x+y"
   ]
  },
  {
   "cell_type": "markdown",
   "metadata": {},
   "source": [
    "## map\n",
    "- 구조 : map(f, iterable자료형)     # 인덱싱해서 가져올 수 있는 자료형을 interable 하다고 할 수 있다. ex)리스트나 문자열\n",
    "- loop문을 대체할 수 있음\n",
    "- map( 여기에 labda 함수를 잘 사용한다 ) --> 딱 여기서 한번만 사용할 거면 사용.\n",
    "- 매개변수는 1개만 받고, return값도 1개만"
   ]
  },
  {
   "cell_type": "code",
   "execution_count": 37,
   "metadata": {},
   "outputs": [
    {
     "data": {
      "text/plain": [
       "[0.0, 0.1, 0.2, 0.3, 0.4, 0.5, 0.6, 0.7, 0.8, 0.9]"
      ]
     },
     "execution_count": 37,
     "metadata": {},
     "output_type": "execute_result"
    }
   ],
   "source": [
    "list(map(lambda x: x/10, range(10)))"
   ]
  },
  {
   "cell_type": "code",
   "execution_count": 38,
   "metadata": {},
   "outputs": [
    {
     "name": "stdout",
     "output_type": "stream",
     "text": [
      "0.0\n",
      "0.1\n",
      "0.2\n",
      "0.3\n",
      "0.4\n",
      "0.5\n",
      "0.6\n",
      "0.7\n",
      "0.8\n",
      "0.9\n"
     ]
    }
   ],
   "source": [
    "for i in map(lambda x: x/10, range(10)):\n",
    "    print(i)"
   ]
  },
  {
   "cell_type": "markdown",
   "metadata": {},
   "source": [
    "## 숫자를 문자화 하기 - map 사용"
   ]
  },
  {
   "cell_type": "code",
   "execution_count": 39,
   "metadata": {},
   "outputs": [
    {
     "data": {
      "text/plain": [
       "[4, 5, 8]"
      ]
     },
     "execution_count": 39,
     "metadata": {},
     "output_type": "execute_result"
    }
   ],
   "source": [
    "import random\n",
    "nums = random.sample(range(10),3)\n",
    "nums"
   ]
  },
  {
   "cell_type": "code",
   "execution_count": 40,
   "metadata": {},
   "outputs": [
    {
     "data": {
      "text/plain": [
       "['4', '5', '8']"
      ]
     },
     "execution_count": 40,
     "metadata": {},
     "output_type": "execute_result"
    }
   ],
   "source": [
    "list(map(str, nums))"
   ]
  },
  {
   "cell_type": "code",
   "execution_count": 42,
   "metadata": {},
   "outputs": [
    {
     "data": {
      "text/plain": [
       "['4', '5', '8']"
      ]
     },
     "execution_count": 42,
     "metadata": {},
     "output_type": "execute_result"
    }
   ],
   "source": [
    "x = []\n",
    "for n in nums:\n",
    "    x.append(str(n))\n",
    "x"
   ]
  },
  {
   "cell_type": "markdown",
   "metadata": {},
   "source": [
    "### 함수가 복잡하면 lambda함수 대신 정의된 함수명을 입력"
   ]
  },
  {
   "cell_type": "code",
   "execution_count": 45,
   "metadata": {},
   "outputs": [],
   "source": [
    "def getGrade(score):\n",
    "    if score >= 90: return 'A'\n",
    "    elif score >= 80: return 'B'\n",
    "    elif score >= 70: return 'C'\n",
    "    elif score >= 60: return 'D'\n",
    "    else : return 'F'"
   ]
  },
  {
   "cell_type": "code",
   "execution_count": 47,
   "metadata": {},
   "outputs": [
    {
     "data": {
      "text/plain": [
       "['A', 'D', 'F', 'B', 'A']"
      ]
     },
     "execution_count": 47,
     "metadata": {},
     "output_type": "execute_result"
    }
   ],
   "source": [
    "scores=[100,67,34,87,92]\n",
    "list(map(getGrade, scores))      # getGrade의 함수가 약간 복잡하면 lambda함수 대신 정의된 함수명을 입력"
   ]
  },
  {
   "cell_type": "markdown",
   "metadata": {},
   "source": [
    "## filter\n",
    "- 원하는 데이터만 남기고 없애는 기능\n",
    "- map자리에 filter를 적는다.\n",
    "- result = filter(lambda x: x % 2, range(10))\n",
    "- "
   ]
  },
  {
   "cell_type": "code",
   "execution_count": 52,
   "metadata": {},
   "outputs": [
    {
     "data": {
      "text/plain": [
       "[100, 67, 87, 92]"
      ]
     },
     "execution_count": 52,
     "metadata": {},
     "output_type": "execute_result"
    }
   ],
   "source": [
    "list(filter(lambda x: x >= 60, scores))"
   ]
  },
  {
   "cell_type": "markdown",
   "metadata": {},
   "source": [
    "## reduce\n",
    "- from functolos import reduce --> functools 모듈에서 어떤 것을 가져오겠다\n",
    "- from functools import * --> 모듈에서 모든것을 가져와라\n",
    "- "
   ]
  },
  {
   "cell_type": "code",
   "execution_count": 53,
   "metadata": {},
   "outputs": [
    {
     "data": {
      "text/plain": [
       "'458'"
      ]
     },
     "execution_count": 53,
     "metadata": {},
     "output_type": "execute_result"
    }
   ],
   "source": [
    "from functools import reduce\n",
    "reduce(lambda x,y: str(x) + str(y), nums)"
   ]
  },
  {
   "cell_type": "markdown",
   "metadata": {},
   "source": [
    "# 클래스\n",
    "- 객체 지향 프로그래밍\n",
    "- class : 객체에 대한 설계도, 즉 객체에 대한 정의\n",
    "- instance : class로부터 만들어지는 객체\n",
    "- 하나의 class로부터 여러개의 instance가 만들어 질 수 있음\n",
    "- Method : class의 함수를 의미\n"
   ]
  },
  {
   "cell_type": "markdown",
   "metadata": {},
   "source": [
    "## 예시) class 정의와 instance 선언"
   ]
  },
  {
   "cell_type": "code",
   "execution_count": 74,
   "metadata": {},
   "outputs": [],
   "source": [
    "class mine1r:\n",
    "    def genMiner(self):\n",
    "        print('광부가 생성됐다')\n",
    "#  class 생성"
   ]
  },
  {
   "cell_type": "code",
   "execution_count": 75,
   "metadata": {},
   "outputs": [
    {
     "name": "stdout",
     "output_type": "stream",
     "text": [
      "광부 삭제\n"
     ]
    },
    {
     "ename": "TypeError",
     "evalue": "__init__() missing 1 required positional argument: 'mineral'",
     "output_type": "error",
     "traceback": [
      "\u001b[1;31m---------------------------------------------------------------------------\u001b[0m",
      "\u001b[1;31mTypeError\u001b[0m                                 Traceback (most recent call last)",
      "\u001b[1;32m<ipython-input-75-e25ce611dd14>\u001b[0m in \u001b[0;36m<module>\u001b[1;34m\u001b[0m\n\u001b[1;32m----> 1\u001b[1;33m \u001b[0mscv\u001b[0m \u001b[1;33m=\u001b[0m \u001b[0mminer\u001b[0m\u001b[1;33m(\u001b[0m\u001b[1;33m)\u001b[0m\u001b[1;33m\u001b[0m\u001b[1;33m\u001b[0m\u001b[0m\n\u001b[0m\u001b[0;32m      2\u001b[0m \u001b[1;31m# instance 선언 = class이름()\u001b[0m\u001b[1;33m\u001b[0m\u001b[1;33m\u001b[0m\u001b[1;33m\u001b[0m\u001b[0m\n\u001b[0;32m      3\u001b[0m \u001b[1;31m# miner라는 클래스에 대한 instance 생성\u001b[0m\u001b[1;33m\u001b[0m\u001b[1;33m\u001b[0m\u001b[1;33m\u001b[0m\u001b[0m\n",
      "\u001b[1;31mTypeError\u001b[0m: __init__() missing 1 required positional argument: 'mineral'"
     ]
    }
   ],
   "source": [
    "scv = miner()\n",
    "# instance 선언 = class이름()\n",
    "# miner라는 클래스에 대한 instance 생성"
   ]
  },
  {
   "cell_type": "code",
   "execution_count": 76,
   "metadata": {},
   "outputs": [
    {
     "name": "stdout",
     "output_type": "stream",
     "text": [
      "광부 삭제\n"
     ]
    },
    {
     "ename": "TypeError",
     "evalue": "__init__() missing 1 required positional argument: 'mineral'",
     "output_type": "error",
     "traceback": [
      "\u001b[1;31m---------------------------------------------------------------------------\u001b[0m",
      "\u001b[1;31mTypeError\u001b[0m                                 Traceback (most recent call last)",
      "\u001b[1;32m<ipython-input-76-e98a58b3aaf6>\u001b[0m in \u001b[0;36m<module>\u001b[1;34m\u001b[0m\n\u001b[1;32m----> 1\u001b[1;33m \u001b[0mprobe\u001b[0m \u001b[1;33m=\u001b[0m \u001b[0mminer\u001b[0m\u001b[1;33m(\u001b[0m\u001b[1;33m)\u001b[0m\u001b[1;33m\u001b[0m\u001b[1;33m\u001b[0m\u001b[0m\n\u001b[0m",
      "\u001b[1;31mTypeError\u001b[0m: __init__() missing 1 required positional argument: 'mineral'"
     ]
    }
   ],
   "source": [
    "probe = miner()"
   ]
  },
  {
   "cell_type": "markdown",
   "metadata": {},
   "source": [
    "### class의 기능을 사용 하는 방법 : instance.class의 함수()"
   ]
  },
  {
   "cell_type": "code",
   "execution_count": 77,
   "metadata": {},
   "outputs": [
    {
     "name": "stdout",
     "output_type": "stream",
     "text": [
      "광부가 생성됐다\n"
     ]
    }
   ],
   "source": [
    "scv.genMiner()\n",
    "# instance.함수()가 비어잇으면 인스턴스명이 첫번째 인자로 사용되게 된다."
   ]
  },
  {
   "cell_type": "code",
   "execution_count": 78,
   "metadata": {},
   "outputs": [
    {
     "ename": "AttributeError",
     "evalue": "type object 'miner' has no attribute 'genMiner'",
     "output_type": "error",
     "traceback": [
      "\u001b[1;31m---------------------------------------------------------------------------\u001b[0m",
      "\u001b[1;31mAttributeError\u001b[0m                            Traceback (most recent call last)",
      "\u001b[1;32m<ipython-input-78-c4552f5dc600>\u001b[0m in \u001b[0;36m<module>\u001b[1;34m\u001b[0m\n\u001b[1;32m----> 1\u001b[1;33m \u001b[0mminer\u001b[0m\u001b[1;33m.\u001b[0m\u001b[0mgenMiner\u001b[0m\u001b[1;33m(\u001b[0m\u001b[0mscv\u001b[0m\u001b[1;33m)\u001b[0m\u001b[1;33m\u001b[0m\u001b[1;33m\u001b[0m\u001b[0m\n\u001b[0m\u001b[0;32m      2\u001b[0m \u001b[1;31m# class.함수(instance)\u001b[0m\u001b[1;33m\u001b[0m\u001b[1;33m\u001b[0m\u001b[1;33m\u001b[0m\u001b[0m\n",
      "\u001b[1;31mAttributeError\u001b[0m: type object 'miner' has no attribute 'genMiner'"
     ]
    }
   ],
   "source": [
    "miner.genMiner(scv)\n",
    "# class.함수(instance)"
   ]
  },
  {
   "cell_type": "markdown",
   "metadata": {},
   "source": [
    "### class에 정의된 함수 호출\n",
    "- 클래스 이름.메소드이름(인스턴스) --> (self)를 지정해 줘야 한다. self 인자\n"
   ]
  },
  {
   "cell_type": "markdown",
   "metadata": {},
   "source": [
    "## 생성자와 소멸자\n",
    "- 생성자 : __init__를 이름으로 가지며 instance 생성시 실행됨\n",
    "- 소멸자 : __del__를 이름으로 가 지며 instance 삭제시 실행됨"
   ]
  },
  {
   "cell_type": "code",
   "execution_count": 100,
   "metadata": {},
   "outputs": [],
   "source": [
    "class miner:\n",
    "    def __init__(self, mineral):\n",
    "        self.mineral = mineral\n",
    "        print('광부 생성')\n",
    "    def __del__(self):\n",
    "        print('광부 삭제')\n",
    "        # 맨 처음 호출 시 __init__만 호출되고, 그 담부턴 __del__도 같이 호출\n",
    "    def __call__(self):\n",
    "        print('현재 광물량은 : ', self.mineral)"
   ]
  },
  {
   "cell_type": "code",
   "execution_count": 105,
   "metadata": {},
   "outputs": [
    {
     "name": "stdout",
     "output_type": "stream",
     "text": [
      "광부 생성\n"
     ]
    }
   ],
   "source": [
    "scv = miner(100)"
   ]
  },
  {
   "cell_type": "code",
   "execution_count": 106,
   "metadata": {},
   "outputs": [
    {
     "name": "stdout",
     "output_type": "stream",
     "text": [
      "현재 광물량은 :  100\n"
     ]
    }
   ],
   "source": [
    "scv()"
   ]
  },
  {
   "cell_type": "code",
   "execution_count": 107,
   "metadata": {},
   "outputs": [
    {
     "name": "stdout",
     "output_type": "stream",
     "text": [
      "광부 생성\n"
     ]
    }
   ],
   "source": [
    "probe = miner(200)"
   ]
  },
  {
   "cell_type": "code",
   "execution_count": 108,
   "metadata": {},
   "outputs": [
    {
     "name": "stdout",
     "output_type": "stream",
     "text": [
      "현재 광물량은 :  200\n"
     ]
    }
   ],
   "source": [
    "probe()"
   ]
  },
  {
   "cell_type": "code",
   "execution_count": 109,
   "metadata": {},
   "outputs": [
    {
     "data": {
      "text/plain": [
       "200"
      ]
     },
     "execution_count": 109,
     "metadata": {},
     "output_type": "execute_result"
    }
   ],
   "source": [
    "probe.mineral"
   ]
  },
  {
   "cell_type": "markdown",
   "metadata": {},
   "source": [
    "### Magic method\n",
    "- __call__"
   ]
  },
  {
   "cell_type": "code",
   "execution_count": 177,
   "metadata": {},
   "outputs": [],
   "source": [
    "class miner:\n",
    "    def __init__(self, mineral, gas):\n",
    "        self.mineral = mineral\n",
    "        self.gas = gas\n",
    "    def __call__(self):\n",
    "        print('광물량 : ', self.mineral)\n",
    "        print('가스량 : ', self.gas)\n",
    "    def miningMineral(self) : self.mineral += 10\n",
    "    def miningGas(self): self.gas += 50"
   ]
  },
  {
   "cell_type": "code",
   "execution_count": 128,
   "metadata": {},
   "outputs": [],
   "source": [
    "scv = miner(100)"
   ]
  },
  {
   "cell_type": "code",
   "execution_count": 129,
   "metadata": {},
   "outputs": [
    {
     "name": "stdout",
     "output_type": "stream",
     "text": [
      "광물량 :  100\n"
     ]
    }
   ],
   "source": [
    "scv()"
   ]
  },
  {
   "cell_type": "code",
   "execution_count": 130,
   "metadata": {},
   "outputs": [],
   "source": [
    "probe = miner(200)"
   ]
  },
  {
   "cell_type": "code",
   "execution_count": 131,
   "metadata": {},
   "outputs": [
    {
     "name": "stdout",
     "output_type": "stream",
     "text": [
      "광물량 :  200\n"
     ]
    }
   ],
   "source": [
    "probe()"
   ]
  },
  {
   "cell_type": "code",
   "execution_count": 132,
   "metadata": {},
   "outputs": [],
   "source": [
    "probe.miningMineral()"
   ]
  },
  {
   "cell_type": "code",
   "execution_count": 133,
   "metadata": {},
   "outputs": [
    {
     "name": "stdout",
     "output_type": "stream",
     "text": [
      "광물량 :  210\n"
     ]
    }
   ],
   "source": [
    "probe()"
   ]
  },
  {
   "cell_type": "code",
   "execution_count": 136,
   "metadata": {},
   "outputs": [],
   "source": [
    "kj = miner(500)"
   ]
  },
  {
   "cell_type": "code",
   "execution_count": 137,
   "metadata": {},
   "outputs": [
    {
     "name": "stdout",
     "output_type": "stream",
     "text": [
      "광물량 :  500\n"
     ]
    }
   ],
   "source": [
    "kj()"
   ]
  },
  {
   "cell_type": "code",
   "execution_count": 138,
   "metadata": {},
   "outputs": [],
   "source": [
    "kj.miningMineral()"
   ]
  },
  {
   "cell_type": "code",
   "execution_count": 139,
   "metadata": {},
   "outputs": [
    {
     "data": {
      "text/plain": [
       "510"
      ]
     },
     "execution_count": 139,
     "metadata": {},
     "output_type": "execute_result"
    }
   ],
   "source": [
    "kj.mineral"
   ]
  },
  {
   "cell_type": "code",
   "execution_count": 141,
   "metadata": {},
   "outputs": [],
   "source": [
    "miner.miningMineral(kj)"
   ]
  },
  {
   "cell_type": "code",
   "execution_count": 142,
   "metadata": {
    "scrolled": true
   },
   "outputs": [
    {
     "name": "stdout",
     "output_type": "stream",
     "text": [
      "광물량 :  520\n"
     ]
    }
   ],
   "source": [
    "kj()"
   ]
  },
  {
   "cell_type": "markdown",
   "metadata": {},
   "source": [
    "## class"
   ]
  },
  {
   "cell_type": "code",
   "execution_count": 143,
   "metadata": {},
   "outputs": [],
   "source": [
    "# kj.miningMineral()\n",
    "# miner.miningMinera(kj)\n",
    "# =\n",
    "# 'abc'.upper()\n",
    "# str.upper('abc')"
   ]
  },
  {
   "cell_type": "code",
   "execution_count": 168,
   "metadata": {},
   "outputs": [],
   "source": [
    "skj = miner(1000,100)"
   ]
  },
  {
   "cell_type": "code",
   "execution_count": 169,
   "metadata": {},
   "outputs": [
    {
     "name": "stdout",
     "output_type": "stream",
     "text": [
      "광물량 :  1000\n",
      "가스량 :  100\n"
     ]
    }
   ],
   "source": [
    "skj()"
   ]
  },
  {
   "cell_type": "code",
   "execution_count": 170,
   "metadata": {},
   "outputs": [
    {
     "data": {
      "text/plain": [
       "1000"
      ]
     },
     "execution_count": 170,
     "metadata": {},
     "output_type": "execute_result"
    }
   ],
   "source": [
    "skj.mineral"
   ]
  },
  {
   "cell_type": "code",
   "execution_count": 174,
   "metadata": {},
   "outputs": [
    {
     "data": {
      "text/plain": [
       "100"
      ]
     },
     "execution_count": 174,
     "metadata": {},
     "output_type": "execute_result"
    }
   ],
   "source": [
    "skj.gas"
   ]
  },
  {
   "cell_type": "code",
   "execution_count": 175,
   "metadata": {},
   "outputs": [],
   "source": [
    "skj.miningMineral()"
   ]
  },
  {
   "cell_type": "code",
   "execution_count": 178,
   "metadata": {},
   "outputs": [],
   "source": [
    "miner.miningGas(skj)"
   ]
  },
  {
   "cell_type": "code",
   "execution_count": 179,
   "metadata": {},
   "outputs": [
    {
     "name": "stdout",
     "output_type": "stream",
     "text": [
      "광물량 :  1010\n",
      "가스량 :  150\n"
     ]
    }
   ],
   "source": [
    "skj()"
   ]
  },
  {
   "cell_type": "markdown",
   "metadata": {},
   "source": [
    "### class 변수\n",
    "- class명.class변수 = \n",
    "- "
   ]
  },
  {
   "cell_type": "code",
   "execution_count": 211,
   "metadata": {},
   "outputs": [],
   "source": [
    "class miner:\n",
    "    mineral = 0\n",
    "    def __init__(self,mineral):\n",
    "        self.mineral = mineral\n",
    "        miner.mineral += mineral\n",
    "    def miningMineral(self):\n",
    "        self.mineral += 10\n",
    "        miner.mineral += 10"
   ]
  },
  {
   "cell_type": "code",
   "execution_count": 212,
   "metadata": {},
   "outputs": [],
   "source": [
    "cherry = miner(100)\n",
    "peach = miner(500)"
   ]
  },
  {
   "cell_type": "code",
   "execution_count": 213,
   "metadata": {},
   "outputs": [
    {
     "ename": "AttributeError",
     "evalue": "type object 'miner' has no attribute 'totalMineral'",
     "output_type": "error",
     "traceback": [
      "\u001b[1;31m---------------------------------------------------------------------------\u001b[0m",
      "\u001b[1;31mAttributeError\u001b[0m                            Traceback (most recent call last)",
      "\u001b[1;32m<ipython-input-213-9c42cd0ff1b4>\u001b[0m in \u001b[0;36m<module>\u001b[1;34m\u001b[0m\n\u001b[1;32m----> 1\u001b[1;33m \u001b[0mminer\u001b[0m\u001b[1;33m.\u001b[0m\u001b[0mtotalMineral\u001b[0m\u001b[1;33m\u001b[0m\u001b[1;33m\u001b[0m\u001b[0m\n\u001b[0m",
      "\u001b[1;31mAttributeError\u001b[0m: type object 'miner' has no attribute 'totalMineral'"
     ]
    }
   ],
   "source": [
    "miner.totalMineral"
   ]
  },
  {
   "cell_type": "code",
   "execution_count": 200,
   "metadata": {},
   "outputs": [],
   "source": [
    "cherry.miningMineral()"
   ]
  },
  {
   "cell_type": "code",
   "execution_count": 201,
   "metadata": {},
   "outputs": [
    {
     "data": {
      "text/plain": [
       "610"
      ]
     },
     "execution_count": 201,
     "metadata": {},
     "output_type": "execute_result"
    }
   ],
   "source": [
    "cherry.totalMineral"
   ]
  },
  {
   "cell_type": "code",
   "execution_count": 202,
   "metadata": {},
   "outputs": [
    {
     "data": {
      "text/plain": [
       "610"
      ]
     },
     "execution_count": 202,
     "metadata": {},
     "output_type": "execute_result"
    }
   ],
   "source": [
    "miner.totalMineral"
   ]
  },
  {
   "cell_type": "code",
   "execution_count": 203,
   "metadata": {},
   "outputs": [
    {
     "data": {
      "text/plain": [
       "620"
      ]
     },
     "execution_count": 203,
     "metadata": {},
     "output_type": "execute_result"
    }
   ],
   "source": [
    "peach.miningMineral()\n",
    "peach.totalMineral"
   ]
  },
  {
   "cell_type": "code",
   "execution_count": 204,
   "metadata": {},
   "outputs": [
    {
     "data": {
      "text/plain": [
       "620"
      ]
     },
     "execution_count": 204,
     "metadata": {},
     "output_type": "execute_result"
    }
   ],
   "source": [
    "miner.totalMineral"
   ]
  },
  {
   "cell_type": "code",
   "execution_count": 205,
   "metadata": {},
   "outputs": [
    {
     "data": {
      "text/plain": [
       "620"
      ]
     },
     "execution_count": 205,
     "metadata": {},
     "output_type": "execute_result"
    }
   ],
   "source": [
    "peach.totalMineral"
   ]
  },
  {
   "cell_type": "code",
   "execution_count": 209,
   "metadata": {},
   "outputs": [
    {
     "ename": "AttributeError",
     "evalue": "type object 'miner' has no attribute 'totalMineral'",
     "output_type": "error",
     "traceback": [
      "\u001b[1;31m---------------------------------------------------------------------------\u001b[0m",
      "\u001b[1;31mAttributeError\u001b[0m                            Traceback (most recent call last)",
      "\u001b[1;32m<ipython-input-209-9c42cd0ff1b4>\u001b[0m in \u001b[0;36m<module>\u001b[1;34m\u001b[0m\n\u001b[1;32m----> 1\u001b[1;33m \u001b[0mminer\u001b[0m\u001b[1;33m.\u001b[0m\u001b[0mtotalMineral\u001b[0m\u001b[1;33m\u001b[0m\u001b[1;33m\u001b[0m\u001b[0m\n\u001b[0m",
      "\u001b[1;31mAttributeError\u001b[0m: type object 'miner' has no attribute 'totalMineral'"
     ]
    }
   ],
   "source": [
    "miner.totalMineral"
   ]
  },
  {
   "cell_type": "code",
   "execution_count": 207,
   "metadata": {},
   "outputs": [
    {
     "ename": "TypeError",
     "evalue": "'int' object is not callable",
     "output_type": "error",
     "traceback": [
      "\u001b[1;31m---------------------------------------------------------------------------\u001b[0m",
      "\u001b[1;31mTypeError\u001b[0m                                 Traceback (most recent call last)",
      "\u001b[1;32m<ipython-input-207-1f6c91ac1c17>\u001b[0m in \u001b[0;36m<module>\u001b[1;34m\u001b[0m\n\u001b[1;32m----> 1\u001b[1;33m \u001b[0mcherry\u001b[0m\u001b[1;33m.\u001b[0m\u001b[0mmineral\u001b[0m\u001b[1;33m(\u001b[0m\u001b[1;33m)\u001b[0m\u001b[1;33m\u001b[0m\u001b[1;33m\u001b[0m\u001b[0m\n\u001b[0m",
      "\u001b[1;31mTypeError\u001b[0m: 'int' object is not callable"
     ]
    }
   ],
   "source": [
    "cherry.mineral()"
   ]
  },
  {
   "cell_type": "code",
   "execution_count": 214,
   "metadata": {},
   "outputs": [
    {
     "ename": "TypeError",
     "evalue": "'int' object is not callable",
     "output_type": "error",
     "traceback": [
      "\u001b[1;31m---------------------------------------------------------------------------\u001b[0m",
      "\u001b[1;31mTypeError\u001b[0m                                 Traceback (most recent call last)",
      "\u001b[1;32m<ipython-input-214-1f6c91ac1c17>\u001b[0m in \u001b[0;36m<module>\u001b[1;34m\u001b[0m\n\u001b[1;32m----> 1\u001b[1;33m \u001b[0mcherry\u001b[0m\u001b[1;33m.\u001b[0m\u001b[0mmineral\u001b[0m\u001b[1;33m(\u001b[0m\u001b[1;33m)\u001b[0m\u001b[1;33m\u001b[0m\u001b[1;33m\u001b[0m\u001b[0m\n\u001b[0m",
      "\u001b[1;31mTypeError\u001b[0m: 'int' object is not callable"
     ]
    }
   ],
   "source": [
    "cherry.mineral()"
   ]
  },
  {
   "cell_type": "code",
   "execution_count": 215,
   "metadata": {},
   "outputs": [
    {
     "ename": "TypeError",
     "evalue": "'int' object is not callable",
     "output_type": "error",
     "traceback": [
      "\u001b[1;31m---------------------------------------------------------------------------\u001b[0m",
      "\u001b[1;31mTypeError\u001b[0m                                 Traceback (most recent call last)",
      "\u001b[1;32m<ipython-input-215-a879583c626d>\u001b[0m in \u001b[0;36m<module>\u001b[1;34m\u001b[0m\n\u001b[1;32m----> 1\u001b[1;33m \u001b[0mminer\u001b[0m\u001b[1;33m.\u001b[0m\u001b[0mmineral\u001b[0m\u001b[1;33m(\u001b[0m\u001b[1;33m)\u001b[0m\u001b[1;33m\u001b[0m\u001b[1;33m\u001b[0m\u001b[0m\n\u001b[0m",
      "\u001b[1;31mTypeError\u001b[0m: 'int' object is not callable"
     ]
    }
   ],
   "source": [
    "miner.mineral()"
   ]
  },
  {
   "cell_type": "code",
   "execution_count": 217,
   "metadata": {},
   "outputs": [],
   "source": [
    "cherry = miner(50)"
   ]
  },
  {
   "cell_type": "code",
   "execution_count": 218,
   "metadata": {},
   "outputs": [
    {
     "data": {
      "text/plain": [
       "650"
      ]
     },
     "execution_count": 218,
     "metadata": {},
     "output_type": "execute_result"
    }
   ],
   "source": [
    "miner.mineral"
   ]
  },
  {
   "cell_type": "code",
   "execution_count": 219,
   "metadata": {},
   "outputs": [
    {
     "data": {
      "text/plain": [
       "50"
      ]
     },
     "execution_count": 219,
     "metadata": {},
     "output_type": "execute_result"
    }
   ],
   "source": [
    "cherry.mineral"
   ]
  },
  {
   "cell_type": "code",
   "execution_count": 220,
   "metadata": {},
   "outputs": [],
   "source": [
    "cherry.miningMineral()"
   ]
  },
  {
   "cell_type": "code",
   "execution_count": 221,
   "metadata": {},
   "outputs": [
    {
     "data": {
      "text/plain": [
       "60"
      ]
     },
     "execution_count": 221,
     "metadata": {},
     "output_type": "execute_result"
    }
   ],
   "source": [
    "cherry.mineral"
   ]
  },
  {
   "cell_type": "markdown",
   "metadata": {},
   "source": [
    "### class method\n",
    "- 함수의 파라미터에 자동으로 뭐가 들어가느냐에 따라 인스턴스메소드, 클래스메소드"
   ]
  },
  {
   "cell_type": "markdown",
   "metadata": {},
   "source": [
    "#### class_method 호출\n",
    "- class.class_method(매개변수1, 매개변수2, ..)\n",
    "- instance.class_method(매개변수1, 매개변수2,.)"
   ]
  },
  {
   "cell_type": "code",
   "execution_count": 222,
   "metadata": {},
   "outputs": [],
   "source": [
    "class miner:\n",
    "    totalMineral = 0\n",
    "    def __init__(self,mineral):\n",
    "        self.mineral = mineral\n",
    "        miner.totalMineral += mineral\n",
    "    def miningMineral(self):\n",
    "        self.mineral += 10\n",
    "        miner.totalMineral += 10\n",
    "    @classmethod\n",
    "    def printMineral(cls):\n",
    "        print(cls.totalMineral)"
   ]
  },
  {
   "cell_type": "code",
   "execution_count": 224,
   "metadata": {},
   "outputs": [],
   "source": [
    "pot = miner(300)"
   ]
  },
  {
   "cell_type": "code",
   "execution_count": 225,
   "metadata": {},
   "outputs": [
    {
     "name": "stdout",
     "output_type": "stream",
     "text": [
      "300\n"
     ]
    }
   ],
   "source": [
    "pot.printMineral()"
   ]
  },
  {
   "cell_type": "code",
   "execution_count": 226,
   "metadata": {},
   "outputs": [
    {
     "name": "stdout",
     "output_type": "stream",
     "text": [
      "300\n"
     ]
    }
   ],
   "source": [
    "miner.printMineral()"
   ]
  },
  {
   "cell_type": "code",
   "execution_count": 227,
   "metadata": {},
   "outputs": [],
   "source": [
    "cong = miner(400)"
   ]
  },
  {
   "cell_type": "code",
   "execution_count": 231,
   "metadata": {},
   "outputs": [
    {
     "name": "stdout",
     "output_type": "stream",
     "text": [
      "700\n"
     ]
    }
   ],
   "source": [
    "cong.printMineral() # instance명으로 시작할 땐 ()비워줘야"
   ]
  },
  {
   "cell_type": "code",
   "execution_count": 234,
   "metadata": {},
   "outputs": [],
   "source": [
    "miner.miningMineral(cong)"
   ]
  },
  {
   "cell_type": "code",
   "execution_count": 235,
   "metadata": {},
   "outputs": [
    {
     "name": "stdout",
     "output_type": "stream",
     "text": [
      "710\n"
     ]
    }
   ],
   "source": [
    "cong.printMineral()"
   ]
  },
  {
   "cell_type": "code",
   "execution_count": 236,
   "metadata": {},
   "outputs": [
    {
     "name": "stdout",
     "output_type": "stream",
     "text": [
      "710\n"
     ]
    }
   ],
   "source": [
    "miner.printMineral()"
   ]
  },
  {
   "cell_type": "code",
   "execution_count": 238,
   "metadata": {},
   "outputs": [
    {
     "name": "stdout",
     "output_type": "stream",
     "text": [
      "710\n"
     ]
    }
   ],
   "source": [
    "pot.printMineral()"
   ]
  },
  {
   "cell_type": "code",
   "execution_count": 243,
   "metadata": {},
   "outputs": [
    {
     "ename": "SyntaxError",
     "evalue": "invalid syntax (<ipython-input-243-3f49049c9ec1>, line 1)",
     "output_type": "error",
     "traceback": [
      "\u001b[1;36m  File \u001b[1;32m\"<ipython-input-243-3f49049c9ec1>\"\u001b[1;36m, line \u001b[1;32m1\u001b[0m\n\u001b[1;33m    class(\"miner():\")\u001b[0m\n\u001b[1;37m         ^\u001b[0m\n\u001b[1;31mSyntaxError\u001b[0m\u001b[1;31m:\u001b[0m invalid syntax\n"
     ]
    }
   ],
   "source": [
    ",class miner():\n",
    "    totalMineral = 0\n",
    "    def __init__(self,mineral):\n",
    "        self.mineral = mineral\n",
    "        miner.totalMineral += mineral\n",
    "    def miningMineral(self):\n",
    "        self.mineral += 10\n",
    "        miner.totalMineral += 10\n",
    "    @classmethod\n",
    "    def printMineral(cls):\n",
    "        print(cls.totalMineral)"
   ]
  },
  {
   "cell_type": "code",
   "execution_count": 246,
   "metadata": {},
   "outputs": [],
   "source": [
    "class miner:\n",
    "    totalMineral = 0\n",
    "    totalGas = 0\n",
    "    minerNum = 0\n",
    "    def __init__ (self, mineral, gas):\n",
    "        self.mineral = mineral\n",
    "        miner.totalMineral += mineral\n",
    "        miner.totalGas += gas\n",
    "        miner.minerNum += 1\n",
    "        print('광부 생성')\n",
    "    def __del__(self):\n",
    "        miner.minerNum -= 1\n",
    "        print('광부 삭제')\n",
    "    def miningMineral(self):\n",
    "        self.mineral += 10\n",
    "        miner.totalMineral += 10\n",
    "    def miningGas(self):\n",
    "        self.gas += 5\n",
    "        miner.totalGas += 5\n",
    "    @classmethod\n",
    "    def printMinerNum(cls):\n",
    "        print(cls.minerNum)\n",
    "        \n",
    "    @classmethod\n",
    "    def printResource(cls1):\n",
    "        print(cls1.minerNum)"
   ]
  },
  {
   "cell_type": "markdown",
   "metadata": {},
   "source": [
    "## magic method"
   ]
  },
  {
   "cell_type": "code",
   "execution_count": 269,
   "metadata": {},
   "outputs": [],
   "source": [
    "class miner:\n",
    "    def __init__(self, mineral):\n",
    "        self.mineral = mineral\n",
    "#     def add(self, other):                 #__add__와 같다\n",
    "#         return miner(self.mineral + other.mineral)\n",
    "    def __add__(self, other):\n",
    "        return miner(self.mineral + other.mineral)\n",
    "    def __sub__(self, other):\n",
    "        return miner(self.mineral - other.mineral)"
   ]
  },
  {
   "cell_type": "code",
   "execution_count": 271,
   "metadata": {},
   "outputs": [],
   "source": [
    "co = miner(100)\n",
    "ca = miner(30)"
   ]
  },
  {
   "cell_type": "code",
   "execution_count": 262,
   "metadata": {},
   "outputs": [
    {
     "ename": "AttributeError",
     "evalue": "'miner' object has no attribute 'add'",
     "output_type": "error",
     "traceback": [
      "\u001b[1;31m---------------------------------------------------------------------------\u001b[0m",
      "\u001b[1;31mAttributeError\u001b[0m                            Traceback (most recent call last)",
      "\u001b[1;32m<ipython-input-262-adc36c46a8a9>\u001b[0m in \u001b[0;36m<module>\u001b[1;34m\u001b[0m\n\u001b[1;32m----> 1\u001b[1;33m \u001b[0mcola\u001b[0m \u001b[1;33m=\u001b[0m \u001b[0mco\u001b[0m\u001b[1;33m.\u001b[0m\u001b[0madd\u001b[0m\u001b[1;33m(\u001b[0m\u001b[0mca\u001b[0m\u001b[1;33m)\u001b[0m\u001b[1;33m\u001b[0m\u001b[1;33m\u001b[0m\u001b[0m\n\u001b[0m\u001b[0;32m      2\u001b[0m \u001b[0mcola\u001b[0m\u001b[1;33m.\u001b[0m\u001b[0mmineral\u001b[0m\u001b[1;33m\u001b[0m\u001b[1;33m\u001b[0m\u001b[0m\n",
      "\u001b[1;31mAttributeError\u001b[0m: 'miner' object has no attribute 'add'"
     ]
    }
   ],
   "source": [
    "cola = co.add(ca)\n",
    "cola.mineral\n",
    "#     def add(self, other):                 # 실행\n",
    "#         return miner(self.mineral + other.mineral)"
   ]
  },
  {
   "cell_type": "code",
   "execution_count": 263,
   "metadata": {},
   "outputs": [
    {
     "ename": "AttributeError",
     "evalue": "type object 'miner' has no attribute 'add'",
     "output_type": "error",
     "traceback": [
      "\u001b[1;31m---------------------------------------------------------------------------\u001b[0m",
      "\u001b[1;31mAttributeError\u001b[0m                            Traceback (most recent call last)",
      "\u001b[1;32m<ipython-input-263-525b78bc95c8>\u001b[0m in \u001b[0;36m<module>\u001b[1;34m\u001b[0m\n\u001b[1;32m----> 1\u001b[1;33m \u001b[0mcola1\u001b[0m \u001b[1;33m=\u001b[0m \u001b[0mminer\u001b[0m\u001b[1;33m.\u001b[0m\u001b[0madd\u001b[0m\u001b[1;33m(\u001b[0m\u001b[0mco\u001b[0m\u001b[1;33m,\u001b[0m \u001b[0mca\u001b[0m\u001b[1;33m)\u001b[0m\u001b[1;33m\u001b[0m\u001b[1;33m\u001b[0m\u001b[0m\n\u001b[0m",
      "\u001b[1;31mAttributeError\u001b[0m: type object 'miner' has no attribute 'add'"
     ]
    }
   ],
   "source": [
    "cola1 = miner.add(co, ca)\n",
    "#     def add(self, other):                 # 실행\n",
    "#         return miner(self.mineral + other.mineral)"
   ]
  },
  {
   "cell_type": "code",
   "execution_count": 264,
   "metadata": {},
   "outputs": [
    {
     "data": {
      "text/plain": [
       "130"
      ]
     },
     "execution_count": 264,
     "metadata": {},
     "output_type": "execute_result"
    }
   ],
   "source": [
    "cola1.mineral"
   ]
  },
  {
   "cell_type": "code",
   "execution_count": 265,
   "metadata": {},
   "outputs": [
    {
     "data": {
      "text/plain": [
       "130"
      ]
     },
     "execution_count": 265,
     "metadata": {},
     "output_type": "execute_result"
    }
   ],
   "source": [
    "cola2 = co+ca\n",
    "cola2.mineral"
   ]
  },
  {
   "cell_type": "code",
   "execution_count": 272,
   "metadata": {},
   "outputs": [
    {
     "data": {
      "text/plain": [
       "70"
      ]
     },
     "execution_count": 272,
     "metadata": {},
     "output_type": "execute_result"
    }
   ],
   "source": [
    "cola3 = co-ca\n",
    "cola3.mineral"
   ]
  },
  {
   "cell_type": "code",
   "execution_count": 317,
   "metadata": {},
   "outputs": [],
   "source": [
    "class miner:\n",
    "    def __init__(self, mineral, gas):\n",
    "        self.mineral = mineral\n",
    "        self.gas = gas\n",
    "    def __add__(self, other):\n",
    "        return miner(self.mineral + other.mineral, self.gas + other.gas)\n",
    "    def __sub__(self, other):\n",
    "        self.mineral, other.mineral = other.mineral, self.mineral\n",
    "        self.gas, other.gas = other.gas, self.gas\n",
    "    def __mul__(self, other):\n",
    "        return miner(max(self.mineral, other.mineral), max(self.gas, other.gas))\n",
    "    def __call__(self):\n",
    "        print(self.mineral, self.gas)"
   ]
  },
  {
   "cell_type": "code",
   "execution_count": 318,
   "metadata": {},
   "outputs": [],
   "source": [
    "ex1 = miner(100,1000)\n",
    "ex2 = miner(200, 2000)\n",
    "ex_add = ex1 + ex2\n",
    "ex_mul = ex1 * ex2"
   ]
  },
  {
   "cell_type": "code",
   "execution_count": 319,
   "metadata": {},
   "outputs": [
    {
     "name": "stdout",
     "output_type": "stream",
     "text": [
      "300 3000\n"
     ]
    }
   ],
   "source": [
    "ex_add()"
   ]
  },
  {
   "cell_type": "code",
   "execution_count": 320,
   "metadata": {},
   "outputs": [
    {
     "ename": "TypeError",
     "evalue": "'NoneType' object is not callable",
     "output_type": "error",
     "traceback": [
      "\u001b[1;31m---------------------------------------------------------------------------\u001b[0m",
      "\u001b[1;31mTypeError\u001b[0m                                 Traceback (most recent call last)",
      "\u001b[1;32m<ipython-input-320-7113e3edf320>\u001b[0m in \u001b[0;36m<module>\u001b[1;34m\u001b[0m\n\u001b[1;32m----> 1\u001b[1;33m \u001b[0mex_sub\u001b[0m\u001b[1;33m(\u001b[0m\u001b[1;33m)\u001b[0m\u001b[1;33m\u001b[0m\u001b[1;33m\u001b[0m\u001b[0m\n\u001b[0m",
      "\u001b[1;31mTypeError\u001b[0m: 'NoneType' object is not callable"
     ]
    }
   ],
   "source": [
    "ex_sub()"
   ]
  },
  {
   "cell_type": "code",
   "execution_count": 321,
   "metadata": {},
   "outputs": [
    {
     "name": "stdout",
     "output_type": "stream",
     "text": [
      "200 2000\n"
     ]
    }
   ],
   "source": [
    "ex_mul()"
   ]
  },
  {
   "cell_type": "code",
   "execution_count": 322,
   "metadata": {},
   "outputs": [
    {
     "name": "stdout",
     "output_type": "stream",
     "text": [
      "200 2000\n"
     ]
    }
   ],
   "source": [
    "ex1()"
   ]
  },
  {
   "cell_type": "code",
   "execution_count": 323,
   "metadata": {},
   "outputs": [
    {
     "name": "stdout",
     "output_type": "stream",
     "text": [
      "100 1000\n"
     ]
    }
   ],
   "source": [
    "ex2()"
   ]
  },
  {
   "cell_type": "markdown",
   "metadata": {},
   "source": [
    "#### ex1과 ex2가 값이 바뀌었다"
   ]
  },
  {
   "cell_type": "code",
   "execution_count": 324,
   "metadata": {},
   "outputs": [],
   "source": [
    "ex1 - ex2"
   ]
  },
  {
   "cell_type": "code",
   "execution_count": 325,
   "metadata": {},
   "outputs": [
    {
     "name": "stdout",
     "output_type": "stream",
     "text": [
      "100 1000\n"
     ]
    }
   ],
   "source": [
    "ex1()"
   ]
  },
  {
   "cell_type": "code",
   "execution_count": 326,
   "metadata": {},
   "outputs": [
    {
     "name": "stdout",
     "output_type": "stream",
     "text": [
      "200 2000\n"
     ]
    }
   ],
   "source": [
    "ex2()"
   ]
  },
  {
   "cell_type": "markdown",
   "metadata": {},
   "source": [
    "## 상속 (super_class)"
   ]
  },
  {
   "cell_type": "code",
   "execution_count": 366,
   "metadata": {},
   "outputs": [],
   "source": [
    "class miner:\n",
    "    def __init__(self, mineral):\n",
    "        self.mineral = mineral\n",
    "    def miningMineral(self):\n",
    "        self.mineral += 10"
   ]
  },
  {
   "cell_type": "code",
   "execution_count": 380,
   "metadata": {},
   "outputs": [],
   "source": [
    "class goldMiner(miner):\n",
    "    def __init__(self, mineral, gold):\n",
    "        super().__init__(mineral)\n",
    "        self.gold = gold\n",
    "    def miningGold(self):\n",
    "        self.gold += 10"
   ]
  },
  {
   "cell_type": "code",
   "execution_count": 381,
   "metadata": {},
   "outputs": [],
   "source": [
    "scv = goldMiner(100, 50)"
   ]
  },
  {
   "cell_type": "code",
   "execution_count": 374,
   "metadata": {},
   "outputs": [],
   "source": [
    "scv.miningMineral()"
   ]
  },
  {
   "cell_type": "code",
   "execution_count": 375,
   "metadata": {},
   "outputs": [],
   "source": [
    "scv.miningGold()"
   ]
  },
  {
   "cell_type": "code",
   "execution_count": 344,
   "metadata": {},
   "outputs": [],
   "source": [
    "class miner:\n",
    "    def __init__(self, mineral):\n",
    "        self.mineral = mineral\n",
    "    def miningMIneral(self):\n",
    "        self.mineral += 10"
   ]
  },
  {
   "cell_type": "code",
   "execution_count": 345,
   "metadata": {},
   "outputs": [],
   "source": [
    "class goldMiner(miner):\n",
    "    def __init__(self, mineral, gold):\n",
    "        supper().__init__(mineral)\n",
    "        self.gold = gold\n",
    "    def miningMIneral(self):\n",
    "        self.minerral += 10 + self.gold * 0.1"
   ]
  },
  {
   "cell_type": "code",
   "execution_count": 346,
   "metadata": {},
   "outputs": [],
   "source": [
    "scv = miner(100)"
   ]
  },
  {
   "cell_type": "code",
   "execution_count": 348,
   "metadata": {},
   "outputs": [
    {
     "ename": "NameError",
     "evalue": "name 'goldMi' is not defined",
     "output_type": "error",
     "traceback": [
      "\u001b[1;31m---------------------------------------------------------------------------\u001b[0m",
      "\u001b[1;31mNameError\u001b[0m                                 Traceback (most recent call last)",
      "\u001b[1;32m<ipython-input-348-4e081b12c260>\u001b[0m in \u001b[0;36m<module>\u001b[1;34m\u001b[0m\n\u001b[1;32m----> 1\u001b[1;33m \u001b[0mprobe\u001b[0m \u001b[1;33m=\u001b[0m \u001b[0mgoldMi\u001b[0m\u001b[1;33m/\u001b[0m\u001b[0mner\u001b[0m\u001b[1;33m(\u001b[0m\u001b[1;36m100\u001b[0m\u001b[1;33m,\u001b[0m\u001b[1;36m50\u001b[0m\u001b[1;33m)\u001b[0m\u001b[1;33m\u001b[0m\u001b[1;33m\u001b[0m\u001b[0m\n\u001b[0m",
      "\u001b[1;31mNameError\u001b[0m: name 'goldMi' is not defined"
     ]
    }
   ],
   "source": [
    "probe = goldMi/ner(100,50)"
   ]
  },
  {
   "cell_type": "markdown",
   "metadata": {},
   "source": [
    "## 다중상속 상속클래스 1,2 사용 vs super() 사용"
   ]
  },
  {
   "cell_type": "code",
   "execution_count": 383,
   "metadata": {},
   "outputs": [
    {
     "name": "stdout",
     "output_type": "stream",
     "text": [
      "grandparnet\n",
      "parent1\n",
      "grandparnet\n",
      "parent2\n",
      "child\n"
     ]
    }
   ],
   "source": [
    "class grandparent:\n",
    "    def __init__(self):\n",
    "        print('grandparnet')\n",
    "class parent1(grandparent):\n",
    "    def __init__(self):\n",
    "        grandparent.__init__(self)\n",
    "        print('parent1')\n",
    "class parent2(grandparent):\n",
    "    def __init__(self):\n",
    "        grandparent.__init__(self)\n",
    "        print('parent2')\n",
    "class child(parent1, parent2):\n",
    "    def __init__(self):\n",
    "        parent1.__init__(self)\n",
    "        parent2.__init__(self)\n",
    "        print('child')\n",
    "person = child()"
   ]
  },
  {
   "cell_type": "code",
   "execution_count": 384,
   "metadata": {},
   "outputs": [
    {
     "name": "stdout",
     "output_type": "stream",
     "text": [
      "grandparnet\n",
      "parent2\n",
      "parent1\n",
      "child\n"
     ]
    }
   ],
   "source": [
    "class grandparent:\n",
    "    def __init__(self):\n",
    "        print('grandparnet')\n",
    "class parent1(grandparent):\n",
    "    def __init__(self):\n",
    "        super().__init__()\n",
    "        print('parent1')\n",
    "class parent2(grandparent):\n",
    "    def __init__(self):\n",
    "        super().__init__()\n",
    "        print('parent2')\n",
    "class child(parent1, parent2):\n",
    "    def __init__(self):\n",
    "        super().__init__()\n",
    "        print('child')\n",
    "person = child()"
   ]
  },
  {
   "cell_type": "markdown",
   "metadata": {},
   "source": [
    "# 모듈\n",
    "- import 모듈1, 모듈2, ..\n",
    "- from 모듈 import 함수1, 함수2,..\n",
    "- 모듈이 여러개 묶인 것 : 패키지\n",
    "- import 패키지.모듈 --> 사용하기 패키지.모듈.함수()\n"
   ]
  },
  {
   "cell_type": "code",
   "execution_count": 386,
   "metadata": {},
   "outputs": [
    {
     "ename": "ModuleNotFoundError",
     "evalue": "No module named 'pandas'",
     "output_type": "error",
     "traceback": [
      "\u001b[1;31m---------------------------------------------------------------------------\u001b[0m",
      "\u001b[1;31mModuleNotFoundError\u001b[0m                       Traceback (most recent call last)",
      "\u001b[1;32m<ipython-input-386-38d4b0363d82>\u001b[0m in \u001b[0;36m<module>\u001b[1;34m\u001b[0m\n\u001b[1;32m----> 1\u001b[1;33m \u001b[1;32mimport\u001b[0m \u001b[0mpandas\u001b[0m\u001b[1;33m\u001b[0m\u001b[1;33m\u001b[0m\u001b[0m\n\u001b[0m",
      "\u001b[1;31mModuleNotFoundError\u001b[0m: No module named 'pandas'"
     ]
    }
   ],
   "source": [
    "def add(x,y): return x+y\n",
    "def sub(x,y): return x-y"
   ]
  },
  {
   "cell_type": "code",
   "execution_count": 395,
   "metadata": {},
   "outputs": [
    {
     "name": "stdout",
     "output_type": "stream",
     "text": [
      "7\n",
      "5\n",
      "cal.py의 이름: cal1\n"
     ]
    }
   ],
   "source": [
    "import cal1\n",
    "# def add(x,y): return x+y\n",
    "# def sub(x,y): return x-y\n",
    "\n",
    "# print(add(3,4))\n",
    "# print(sub(7,2))\n",
    "# print(\"cal.py의 이름:\", __name__)"
   ]
  },
  {
   "cell_type": "code",
   "execution_count": 396,
   "metadata": {},
   "outputs": [
    {
     "name": "stdout",
     "output_type": "stream",
     "text": [
      "7\n",
      "5\n",
      "cal.py의 이름: __main__\n"
     ]
    }
   ],
   "source": [
    "def add(x,y): return x+y\n",
    "def sub(x,y): return x-y\n",
    "\n",
    "print(add(3,4))\n",
    "print(sub(7,2))\n",
    "print(\"cal.py의 이름:\", __name__)"
   ]
  },
  {
   "cell_type": "markdown",
   "metadata": {},
   "source": [
    "### import cal을 print문들이 실행되지 않게 하기\n",
    "- 누가 갖다 쓸 때"
   ]
  },
  {
   "cell_type": "code",
   "execution_count": 399,
   "metadata": {},
   "outputs": [
    {
     "name": "stdout",
     "output_type": "stream",
     "text": [
      "7\n",
      "5\n",
      "cal.py의 이름: __main__\n"
     ]
    }
   ],
   "source": [
    "def add(x,y): return x+y\n",
    "def sub(x,y): return x-y\n",
    "\n",
    "if __name__ == '__main__':\n",
    "    print(add(3,4))\n",
    "    print(sub(7,2))\n",
    "    print(\"cal.py의 이름:\", __name__)"
   ]
  },
  {
   "cell_type": "code",
   "execution_count": 402,
   "metadata": {},
   "outputs": [],
   "source": [
    "import cal1"
   ]
  },
  {
   "cell_type": "markdown",
   "metadata": {},
   "source": [
    "## 예외처리\n",
    "- try문이 오류나면 except문이 실행됨\n",
    "- error type에 따라 실행할 except 달리 해줄수 있다\n",
    "- "
   ]
  },
  {
   "cell_type": "code",
   "execution_count": 407,
   "metadata": {},
   "outputs": [
    {
     "name": "stdout",
     "output_type": "stream",
     "text": [
      "정수를 입력해 : 2.2\n",
      "정수만 입력해\n"
     ]
    }
   ],
   "source": [
    "try:\n",
    "    n = int(input('정수를 입력해 : '))   # try문이 오류가 나면 excpet문이 실행\n",
    "except:\n",
    "    print('정수만 입력해')"
   ]
  },
  {
   "cell_type": "code",
   "execution_count": 406,
   "metadata": {},
   "outputs": [
    {
     "name": "stdout",
     "output_type": "stream",
     "text": [
      "정수만 입력 : 3.5\n",
      "정수만 입력 : 3\n"
     ]
    }
   ],
   "source": [
    "while True:\n",
    "    try:\n",
    "        n = int(input('정수만 입력 : '))\n",
    "    except:\n",
    "        pass\n",
    "    else: break # 오류발생하지않으면 실행"
   ]
  },
  {
   "cell_type": "markdown",
   "metadata": {},
   "source": [
    "### 오류 type 지정 후 오류메세지 출력"
   ]
  },
  {
   "cell_type": "code",
   "execution_count": 409,
   "metadata": {},
   "outputs": [
    {
     "name": "stdout",
     "output_type": "stream",
     "text": [
      "정수만 입력 3.3\n",
      "invalid literal for int() with base 10: '3.3'\n",
      "정수만 입력 2.2\n",
      "invalid literal for int() with base 10: '2.2'\n",
      "정수만 입력 5\n"
     ]
    }
   ],
   "source": [
    "while True:\n",
    "    try:\n",
    "        m= int(input('정수만 입력 '))\n",
    "    except ValueError as e: print(e) # 오류메세지를 e가 받아준다\n",
    "    else: break"
   ]
  },
  {
   "cell_type": "markdown",
   "metadata": {},
   "source": [
    "### BMI 계산하기 ) try except 이용"
   ]
  },
  {
   "cell_type": "code",
   "execution_count": 417,
   "metadata": {},
   "outputs": [
    {
     "name": "stdout",
     "output_type": "stream",
     "text": [
      "Height : 180\n",
      "Weight : 85\n",
      "BMI: 26.234567901234566\n"
     ]
    }
   ],
   "source": [
    "def getInt(prompt):\n",
    "    while True:\n",
    "        try:\n",
    "            inNum = int(input(prompt))\n",
    "        except ValueError as e: print(e)\n",
    "        else: return inNum\n",
    "        \n",
    "H = getInt('Height : ')\n",
    "W = getInt('Weight : ')\n",
    "\n",
    "try: BMI = W/(H/100)**2\n",
    "except: pass\n",
    "else: print('BMI:', BMI)"
   ]
  },
  {
   "cell_type": "code",
   "execution_count": null,
   "metadata": {},
   "outputs": [],
   "source": []
  }
 ],
 "metadata": {
  "kernelspec": {
   "display_name": "Python 3",
   "language": "python",
   "name": "python3"
  },
  "language_info": {
   "codemirror_mode": {
    "name": "ipython",
    "version": 3
   },
   "file_extension": ".py",
   "mimetype": "text/x-python",
   "name": "python",
   "nbconvert_exporter": "python",
   "pygments_lexer": "ipython3",
   "version": "3.7.5"
  }
 },
 "nbformat": 4,
 "nbformat_minor": 2
}
