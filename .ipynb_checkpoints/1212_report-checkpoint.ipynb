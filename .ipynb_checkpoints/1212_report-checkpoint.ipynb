{
 "cells": [
  {
   "cell_type": "markdown",
   "metadata": {},
   "source": [
    "# 과제 - 문제3"
   ]
  },
  {
   "cell_type": "code",
   "execution_count": 2,
   "metadata": {},
   "outputs": [
    {
     "name": "stdout",
     "output_type": "stream",
     "text": [
      "input :  A gift in season is a double favor to the needy.\n"
     ]
    },
    {
     "data": {
      "text/plain": [
       "['gift', 'in', 'season', 'is', 'double', 'favor', 'to', 'needy.']"
      ]
     },
     "execution_count": 2,
     "metadata": {},
     "output_type": "execute_result"
    }
   ],
   "source": [
    "words = input('input : ').split()\n",
    "\n",
    "i = 0\n",
    "while i < len(words):\n",
    "    if words[i].upper() == 'A' or words[i].upper() == 'AN' or words[i].upper() == 'THE':\n",
    "        del words[i]\n",
    "    i +=1 \n",
    "words"
   ]
  },
  {
   "cell_type": "markdown",
   "metadata": {},
   "source": [
    "# 과제 - 문제 4"
   ]
  },
  {
   "cell_type": "code",
   "execution_count": 1,
   "metadata": {},
   "outputs": [
    {
     "name": "stdout",
     "output_type": "stream",
     "text": [
      "복권 번호를 맞춰보세yo! \n",
      "\n",
      "4개의 숫자를 입력하세요 : 1 2 3 4\n",
      "이번주 복권 예상 번호는 [1, 2, 3, 5] 입니다.\n",
      "맞춘 숫자는 [1, 2, 3]입니다.\n",
      "3개를 맞춰 당첨금은 5000 원입니다.\n",
      "또 하시겠습니까? : y\n",
      "4개의 숫자를 입력하세요 : 1 2 3 4\n",
      "이번주 복권 예상 번호는 [1, 2, 4, 5] 입니다.\n",
      "맞춘 숫자는 [1, 2, 4]입니다.\n",
      "3개를 맞춰 당첨금은 5000 원입니다.\n",
      "또 하시겠습니까? : n\n",
      "총 당첨금은 10000원입니다.\n"
     ]
    }
   ],
   "source": [
    "import random\n",
    "\n",
    "print('복권 번호를 맞춰보세yo! \\n')\n",
    "sum = 0\n",
    "while True:\n",
    "    nums = input('4개의 숫자를 입력하세요 : ').split()\n",
    "    nums = [int (i) for i in nums]\n",
    "    ran = random.sample(range(1,6), 4)\n",
    "    ran.sort()    \n",
    "    \n",
    "    print(f'이번주 복권 당첨 번호는 {ran} 입니다.')\n",
    "    \n",
    "    same = []\n",
    "    for i in nums:\n",
    "        for j in ran:\n",
    "                if i == j:\n",
    "                    same.append(j)\n",
    "    print(f'맞춘 숫자는 {same}입니다.')\n",
    "    \n",
    "    \n",
    "    if len(same) == 3: dangchum = 5000\n",
    "    elif len(same) == 4: dangchum = 10000\n",
    "    else: dangchum = 0\n",
    "     \n",
    "    print(f'{len(same)}개를 맞춰 당첨금은 {dangchum} 원입니다.')\n",
    "    \n",
    "    sum += dangchum\n",
    "       \n",
    "    q = input('또 하시겠습니까? : ')\n",
    "    if q.upper() == 'Y':\n",
    "        continue\n",
    "    elif q.upper() == 'N':\n",
    "        break\n",
    "\n",
    "print(f'총 당첨금은 {sum}원입니다.')"
   ]
  },
  {
   "cell_type": "code",
   "execution_count": null,
   "metadata": {},
   "outputs": [],
   "source": []
  }
 ],
 "metadata": {
  "kernelspec": {
   "display_name": "Python 3",
   "language": "python",
   "name": "python3"
  },
  "language_info": {
   "codemirror_mode": {
    "name": "ipython",
    "version": 3
   },
   "file_extension": ".py",
   "mimetype": "text/x-python",
   "name": "python",
   "nbconvert_exporter": "python",
   "pygments_lexer": "ipython3",
   "version": "3.7.5"
  }
 },
 "nbformat": 4,
 "nbformat_minor": 2
}
