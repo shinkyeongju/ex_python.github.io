{
 "cells": [
  {
   "cell_type": "markdown",
   "metadata": {},
   "source": [
    "# 문2)구이름과 동이름 입력 받아 동이름만 출력"
   ]
  },
  {
   "cell_type": "code",
   "execution_count": 20,
   "metadata": {},
   "outputs": [
    {
     "name": "stdout",
     "output_type": "stream",
     "text": [
      "ln : 강동구 노원구 용산구 상암동 서울시 논현동 평창동 중구 \n",
      "상암동\n",
      "논현동\n",
      "평창동\n"
     ]
    }
   ],
   "source": [
    "# 강동구 노원구 용산구 상암동 서울시 논현동 평창동 중\n",
    "locs = input('ln : ').split()\n",
    "for i in locs:\n",
    "#     print(i)\n",
    "    if i[-1] == '동':\n",
    "        print(i)"
   ]
  },
  {
   "cell_type": "markdown",
   "metadata": {},
   "source": [
    "# 문3) 문장을 입력 받아 내 모든 단어의 list 출력"
   ]
  },
  {
   "cell_type": "code",
   "execution_count": 21,
   "metadata": {},
   "outputs": [
    {
     "name": "stdout",
     "output_type": "stream",
     "text": [
      "input :  A gift in season is a double favor to the needy. \n"
     ]
    },
    {
     "data": {
      "text/plain": [
       "['gift', 'in', 'season', 'is', 'double', 'favor', 'to', 'needy.']"
      ]
     },
     "execution_count": 21,
     "metadata": {},
     "output_type": "execute_result"
    }
   ],
   "source": [
    "#  A gift in season is a double favor to the needy. \n",
    "sen = input('input : ').split()\n",
    "for i in sen:\n",
    "    if i.lower() == 'a' or i.lower() == 'an' or i.lower() == 'the':\n",
    "        sen.remove(i)\n",
    "sen"
   ]
  },
  {
   "cell_type": "markdown",
   "metadata": {},
   "source": [
    "# 트리 만들기"
   ]
  },
  {
   "cell_type": "code",
   "execution_count": 23,
   "metadata": {},
   "outputs": [
    {
     "name": "stdout",
     "output_type": "stream",
     "text": [
      "      *\n",
      "     ***\n",
      "    *****\n",
      "     ***\n",
      "    *****\n",
      "   *******\n",
      "  *********\n",
      "    *****\n",
      "   *******\n",
      "  *********\n",
      " ***********\n",
      "*************\n"
     ]
    }
   ],
   "source": [
    "for i in [1,2,3,2,3,4,5,3,4,5,6,7]:\n",
    "    print(' ' * (7-i) + '*' * (i * 2-1))"
   ]
  },
  {
   "cell_type": "markdown",
   "metadata": {},
   "source": [
    "# 나무 베기"
   ]
  },
  {
   "cell_type": "code",
   "execution_count": 27,
   "metadata": {},
   "outputs": [
    {
     "name": "stdout",
     "output_type": "stream",
     "text": [
      "나무를 1번 찍었습니다. 쾅,  쾅\n",
      "나무를 2번 찍었습니다. 쾅,  쾅쾅\n",
      "나무를 3번 찍었습니다. 쾅,  쾅쾅쾅\n",
      "나무를 4번 찍었습니다. 쾅,  쾅쾅쾅쾅\n",
      "나무를 5번 찍었습니다. 쾅,  쾅쾅쾅쾅쾅\n",
      "나무를 6번 찍었습니다. 쾅,  쾅쾅쾅쾅쾅쾅\n",
      "나무를 7번 찍었습니다. 쾅,  쾅쾅쾅쾅쾅쾅쾅\n",
      "나무를 8번 찍었습니다. 쾅,  쾅쾅쾅쾅쾅쾅쾅쾅\n",
      "나무를 9번 찍었습니다. 쾅,  쾅쾅쾅쾅쾅쾅쾅쾅쾅\n",
      "나무를 10번 찍었습니다. 쾅,  쾅쾅쾅쾅쾅쾅쾅쾅쾅쾅\n",
      "나무 넘어간다\n"
     ]
    }
   ],
   "source": [
    "for i in range(1,11,1):\n",
    "    print(f'나무를 {i}번 찍었습니다. 쾅, ', i*'쾅')\n",
    "print('나무 넘어간다')"
   ]
  },
  {
   "cell_type": "code",
   "execution_count": null,
   "metadata": {},
   "outputs": [],
   "source": []
  }
 ],
 "metadata": {
  "kernelspec": {
   "display_name": "Python 3",
   "language": "python",
   "name": "python3"
  },
  "language_info": {
   "codemirror_mode": {
    "name": "ipython",
    "version": 3
   },
   "file_extension": ".py",
   "mimetype": "text/x-python",
   "name": "python",
   "nbconvert_exporter": "python",
   "pygments_lexer": "ipython3",
   "version": "3.7.5"
  }
 },
 "nbformat": 4,
 "nbformat_minor": 2
}
