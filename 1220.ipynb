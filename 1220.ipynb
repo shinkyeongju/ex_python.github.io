{
 "cells": [
  {
   "cell_type": "code",
   "execution_count": 5,
   "metadata": {},
   "outputs": [],
   "source": [
    "list_1 = [17,92,18,33,58,5,33,42]\n",
    "sel = [18,33,900]\n",
    "loc = []\n",
    "for i in list_1:\n",
    "    for j in sel:\n",
    "        if i == j :\n",
    "            if list_1.index(i) not in loc:\n",
    "                loc.append(list_1.index(i))\n",
    "            \n",
    "def findNumIndex():\n",
    "    for i in list_1:\n",
    "        for j in sel:\n",
    "            if i == j :\n",
    "                if list_1.index(i) not in loc:\n",
    "                    loc.append(list_1.index(i))\n",
    "    return loc"
   ]
  },
  {
   "cell_type": "code",
   "execution_count": 6,
   "metadata": {},
   "outputs": [
    {
     "data": {
      "text/plain": [
       "[2, 3]"
      ]
     },
     "execution_count": 6,
     "metadata": {},
     "output_type": "execute_result"
    }
   ],
   "source": [
    "findNumIndex()"
   ]
  },
  {
   "cell_type": "markdown",
   "metadata": {},
   "source": [
    "## 삽입 정렬"
   ]
  },
  {
   "cell_type": "code",
   "execution_count": null,
   "metadata": {},
   "outputs": [],
   "source": [
    "a = [5,4,1,3,2]\n",
    "result = []\n",
    "\n",
    "def ins_sort2():\n",
    "    \n",
    "\n",
    "def ins_sort1(a):\n",
    "    first = a[0]\n",
    "    result[0] = a[0]\n",
    "    \n"
   ]
  },
  {
   "cell_type": "code",
   "execution_count": 17,
   "metadata": {},
   "outputs": [
    {
     "ename": "IndexError",
     "evalue": "list index out of range",
     "output_type": "error",
     "traceback": [
      "\u001b[1;31m---------------------------------------------------------------------------\u001b[0m",
      "\u001b[1;31mIndexError\u001b[0m                                Traceback (most recent call last)",
      "\u001b[1;32m<ipython-input-17-7c5d88b7baea>\u001b[0m in \u001b[0;36m<module>\u001b[1;34m\u001b[0m\n\u001b[0;32m     14\u001b[0m             \u001b[0mresult\u001b[0m\u001b[1;33m.\u001b[0m\u001b[0mappend\u001b[0m\u001b[1;33m(\u001b[0m\u001b[0mlist\u001b[0m\u001b[1;33m[\u001b[0m\u001b[1;36m0\u001b[0m\u001b[1;33m]\u001b[0m\u001b[1;33m)\u001b[0m\u001b[1;33m\u001b[0m\u001b[1;33m\u001b[0m\u001b[0m\n\u001b[0;32m     15\u001b[0m \u001b[1;33m\u001b[0m\u001b[0m\n\u001b[1;32m---> 16\u001b[1;33m \u001b[0ma2\u001b[0m\u001b[1;33m(\u001b[0m\u001b[0mlist1\u001b[0m\u001b[1;33m)\u001b[0m\u001b[1;33m\u001b[0m\u001b[1;33m\u001b[0m\u001b[0m\n\u001b[0m",
      "\u001b[1;32m<ipython-input-17-7c5d88b7baea>\u001b[0m in \u001b[0;36ma2\u001b[1;34m(list)\u001b[0m\n\u001b[0;32m      9\u001b[0m \u001b[1;32mdef\u001b[0m \u001b[0ma2\u001b[0m\u001b[1;33m(\u001b[0m\u001b[0mlist\u001b[0m\u001b[1;33m)\u001b[0m\u001b[1;33m:\u001b[0m\u001b[1;33m\u001b[0m\u001b[1;33m\u001b[0m\u001b[0m\n\u001b[0;32m     10\u001b[0m     \u001b[1;32mglobal\u001b[0m \u001b[0mlist1\u001b[0m\u001b[1;33m,\u001b[0m \u001b[0mresult\u001b[0m\u001b[1;33m\u001b[0m\u001b[1;33m\u001b[0m\u001b[0m\n\u001b[1;32m---> 11\u001b[1;33m     \u001b[0msmall\u001b[0m \u001b[1;33m=\u001b[0m \u001b[0mresult\u001b[0m\u001b[1;33m[\u001b[0m\u001b[1;36m0\u001b[0m\u001b[1;33m]\u001b[0m\u001b[1;33m\u001b[0m\u001b[1;33m\u001b[0m\u001b[0m\n\u001b[0m\u001b[0;32m     12\u001b[0m     \u001b[1;32mfor\u001b[0m \u001b[0mi\u001b[0m \u001b[1;32min\u001b[0m \u001b[0mresult\u001b[0m\u001b[1;33m:\u001b[0m\u001b[1;33m\u001b[0m\u001b[1;33m\u001b[0m\u001b[0m\n\u001b[0;32m     13\u001b[0m         \u001b[1;32mif\u001b[0m \u001b[0msmall\u001b[0m \u001b[1;33m>\u001b[0m \u001b[0mlist\u001b[0m\u001b[1;33m[\u001b[0m\u001b[1;36m0\u001b[0m\u001b[1;33m]\u001b[0m\u001b[1;33m:\u001b[0m\u001b[1;33m\u001b[0m\u001b[1;33m\u001b[0m\u001b[0m\n",
      "\u001b[1;31mIndexError\u001b[0m: list index out of range"
     ]
    }
   ],
   "source": [
    "list1 = [5,1,3,4,2]\n",
    "result = []\n",
    "\n",
    "def a1():\n",
    "    global list1, result\n",
    "    result.append(list[0])\n",
    "    return a2()\n",
    "\n",
    "def a2(list):\n",
    "    global list1, result\n",
    "    small = result[0]\n",
    "    for i in result:\n",
    "        if small > list[0]:\n",
    "            result.append(list[0])\n",
    "            \n",
    "a2(list1)"
   ]
  },
  {
   "cell_type": "code",
   "execution_count": null,
   "metadata": {},
   "outputs": [],
   "source": [
    "a = [5,4,1,3,2]\n",
    "result = []\n",
    "result[0] = a[0]\n",
    "\n",
    "a.pop(0)\n"
   ]
  },
  {
   "cell_type": "markdown",
   "metadata": {},
   "source": [
    "# canvas.bind()"
   ]
  },
  {
   "cell_type": "markdown",
   "metadata": {},
   "source": [
    "- bind() 메서드"
   ]
  },
  {
   "cell_type": "markdown",
   "metadata": {},
   "source": [
    "- '<B1-Motion>' --> 마우스 드래그 하는 이벤트"
   ]
  },
  {
   "cell_type": "markdown",
   "metadata": {},
   "source": [
    "## 실습 : 그림판 프로그램"
   ]
  },
  {
   "cell_type": "code",
   "execution_count": 58,
   "metadata": {},
   "outputs": [],
   "source": [
    "from tkinter import *\n",
    "from tkinter import colorchooser    # 색과 관련된 기능을 포함하고 있는 모듈\n",
    "\n",
    "\n",
    "def change_color():\n",
    "    global mycolor\n",
    "    color = colorchooser.askcolor()\n",
    "    mycolor = color[1]\n",
    "\n",
    "def down(event):\n",
    "    global x1, y1\n",
    "    x1, y1 = (event.x), (event.y)\n",
    "    \n",
    "def draw(event):\n",
    "    global x1, y1\n",
    "    x2, y2 = (event.x), (event.y)\n",
    "    canvas.create_line( x1,y1,x2,y2, fill = mycolor, width = 3) # oval 타원\n",
    "    x1,y1 = (event.x), (event.y)\n",
    "\n",
    "def erase():\n",
    "    global mycolor\n",
    "    mycolor = 'white'\n",
    "    \n",
    "window = Tk()\n",
    "canvas = Canvas(window, width = 500, height = 500, bg ='white')\n",
    "canvas.grid()\n",
    "Button(window, text='색 선택', command = change_color).grid()\n",
    "Button(window, text='지우개', command = erase).grid() # 버튼 생성\n",
    "color = colorchooser\n",
    "\n",
    "# for i in color:\n",
    "#     btn = Button(frame, )\n",
    "#     btn.grid(row= , column = )\n",
    "\n",
    "canvas.bind('<B1-Motion>', draw)\n",
    "canvas.bind('<Button-1>', down)\n",
    "\n",
    "window.mainloop()"
   ]
  },
  {
   "cell_type": "markdown",
   "metadata": {},
   "source": [
    "# 병합정렬"
   ]
  },
  {
   "cell_type": "code",
   "execution_count": 52,
   "metadata": {},
   "outputs": [],
   "source": [
    "def mainList():\n",
    "    a = [5,4,2,3,1]\n",
    "    b = [10,7,6,8,9]\n",
    "    aSort = kk(a)\n",
    "    bSort = kk(b)\n",
    "    print(compareList(aSort,bSort))\n",
    "# ----------------------------------------------------------------- 선택정렬\n",
    "def k(a):\n",
    "    small = a[0]\n",
    "    for i in range(1,len(a)):\n",
    "        if small > a[i]:\n",
    "            small = a[i]\n",
    "    return small\n",
    "\n",
    "def kk(a):\n",
    "    result_list = []\n",
    "    while a:\n",
    "        result = a.pop(a.index(k(a)))\n",
    "        result_list.append(result)\n",
    "    return result_list\n",
    "# ----------------------------------------------------------------------\n",
    "def compareList(aSort,bSort):\n",
    "    c = []\n",
    "    while len(aSort)!=0 and len(bSort)!=0 :\n",
    "        if aSort[0] > bSort[0]:\n",
    "            value = bSort.pop(0)\n",
    "            c.append(value)\n",
    "#             print(value)\n",
    "        else:\n",
    "            value = aSort.pop(0)\n",
    "            c.append(value)\n",
    "#             print(value)\n",
    "    if len(aSort) !=0: c.extend(aSort)\n",
    "    elif len(bSort) !=0: c.extend(bSort)\n",
    "    return c"
   ]
  },
  {
   "cell_type": "code",
   "execution_count": 53,
   "metadata": {},
   "outputs": [
    {
     "name": "stdout",
     "output_type": "stream",
     "text": [
      "[1, 2, 3, 4, 5, 6, 7, 8, 9, 10]\n"
     ]
    }
   ],
   "source": [
    "mainList()"
   ]
  },
  {
   "cell_type": "markdown",
   "metadata": {},
   "source": [
    "# Guess the number"
   ]
  },
  {
   "cell_type": "markdown",
   "metadata": {},
   "source": [
    "### 숫자 범위 1~20"
   ]
  },
  {
   "cell_type": "code",
   "execution_count": 56,
   "metadata": {},
   "outputs": [],
   "source": [
    "from tkinter import *\n",
    "from random import randint                               # randint(최소, 최대)\n",
    "\n",
    "window = Tk()\n",
    "window.title('Up & Down 숫자 맞추기')\n",
    "label = Label(window, text = '숫자를 맞춰보세요 (1~20)')\n",
    "computerNum = randint(1,20)\n",
    "count = 0\n",
    "def guessNum():\n",
    "    global count\n",
    "    if count == 5:\n",
    "        label['text'] = '게임이 끝났어요 정답은 : ' + str(computerNum)\n",
    "        return\n",
    "    count += 1\n",
    "    guess = int(entry.get())\n",
    "    if computerNum > guess : label['text'] = '시도 : ' + str(count) + ' 컴퓨터의 숫자가 더 커요'\n",
    "    elif computerNum < guess : label['text'] = '시도 : ' + str(count) + ' 컴퓨터의 숫자가 더 작아요'\n",
    "    else : label['text'] = '시도 : ' + str(count) + ' 정답'\n",
    "    \n",
    "    \n",
    "def nothing():\n",
    "    pass\n",
    "    \n",
    "def newGame():\n",
    "    global computerNum, count\n",
    "    computerNum = randint(1,20)\n",
    "    label['text'] = '게임을 다시 시작합니다'\n",
    "    count = 0\n",
    "    \n",
    "    \n",
    "entry = Entry(window)\n",
    "btn_1 = Button(window, text='확인', command = guessNum)\n",
    "btn_2 = Button(window, text='새 게임', command = newGame)\n",
    "label.grid(row = 0, column = 0, columnspan=2)\n",
    "entry.grid(row = 1, column = 0, columnspan=2)\n",
    "btn_1.grid(row=2, column=0)\n",
    "btn_2.grid(row=2, column=1)\n",
    "\n",
    "\n",
    "window.mainloop()"
   ]
  },
  {
   "cell_type": "code",
   "execution_count": 18,
   "metadata": {},
   "outputs": [],
   "source": [
    "i = randint(1,20)"
   ]
  }
 ],
 "metadata": {
  "kernelspec": {
   "display_name": "Python 3",
   "language": "python",
   "name": "python3"
  },
  "language_info": {
   "codemirror_mode": {
    "name": "ipython",
    "version": 3
   },
   "file_extension": ".py",
   "mimetype": "text/x-python",
   "name": "python",
   "nbconvert_exporter": "python",
   "pygments_lexer": "ipython3",
   "version": "3.7.5"
  }
 },
 "nbformat": 4,
 "nbformat_minor": 2
}
